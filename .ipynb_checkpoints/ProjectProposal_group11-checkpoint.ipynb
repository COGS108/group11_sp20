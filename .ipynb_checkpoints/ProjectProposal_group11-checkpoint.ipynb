{
 "cells": [
  {
   "cell_type": "markdown",
   "metadata": {},
   "source": [
    "# COGS 108 - Final Project Proposal"
   ]
  },
  {
   "cell_type": "markdown",
   "metadata": {},
   "source": [
    "# Names\n",
    "\n",
    "- Michael Baluja\n",
    "- Griffin Mittleman\n",
    "- Deepkiran Sangha\n",
    "- Hannah Williams\n",
    "- Raymart Evangelista"
   ]
  },
  {
   "cell_type": "markdown",
   "metadata": {},
   "source": [
    "# Group Members IDs\n",
    "\n",
    "- A14499660\n",
    "- A15734955\n",
    "- A15096006\n",
    "- A16112910\n",
    "- A16094994"
   ]
  },
  {
   "cell_type": "markdown",
   "metadata": {},
   "source": [
    "# Research Question"
   ]
  },
  {
   "cell_type": "markdown",
   "metadata": {},
   "source": [
    "How has the further integration of job automation into the United States’ workforce impacted workers’ job stability across various socioeconomic metrics in the past 25 years?"
   ]
  },
  {
   "cell_type": "markdown",
   "metadata": {},
   "source": [
    "## Background and Prior Work"
   ]
  },
  {
   "cell_type": "markdown",
   "metadata": {},
   "source": [
    "Our group had an interest in how automation will shape the future we're going to be living in. From fast-food restaurants implementing kiosks**(1)** to cashier-less grocery stores**(2),** we've seen a wide variety of jobs automated and replaced in recent years. Even so, we were able to see that the number of employees in manufacturing from the years 2008 to 2018 from the Annual Survey of Manufactures (ASM)**(3)** has gone down. While it's fascinating to see these numbers, there must be an analysis of the detriment that automation has on replaced workers.\n",
    "\n",
    "Although these findings have some face value, it raises the question of how many jobs have already been affected by automation and what jobs are those? Our group wants to look further into how the integration of job automation has currently affected various industries in the job market. We came up with our hypothesis because technology has been advancing quickly**(4).** According to an article from BusinessInsider**(5),** it's stated that \"the more 'blue-collar' you are, the more likely you are to be unemployed.\" That claim is backed by the U.S. Bureau of Labor Statistics in both their Current Population Surveys of 2010 and 2018, which indicates the less education achieved, the higher the unemployment rate is. Although in recent years, before the coronavirus put many Americans into unemployment, unemployment has decreased significantly and the trend continues with lower educational status resulting in a higher unemployment rate**(6).** But why is this?\n",
    "\n",
    "It's important to consider how job automation may impact other industries, workplaces, and the unemployment rate. This concern is particularly towards industries that rely on high efficiency, as job automation would be able to simultaneously provide high efficiency and more accurate results. Since job automation provides such promising results to these industries, it is important to explore the potential detriment that could occur to unemployment levels in various industries that also choose to adapt to such technology. Knowing such information can help us better prepare in providing accommodations to workers that may potentially be affected by the integration of job automation in their workplace. The information can also be potentially used to analyze whether the cost of unemployment due to job automation truly outweighs the benefit of more efficiency in the workplace.\n",
    "\n",
    "\n",
    "**References (include links):**\n",
    "- 1) [Study: Kiosk Demand on the Rise in Quick Service](https://qsrmagazine.com/technology/study-kiosk-demand-rise-quick-service)\n",
    "- 2) [Amazon is expanding its cashierless Go model into a full-blown grocery store](https://www.theverge.com/2020/2/25/21151021/amazon-go-grocery-store-expansion-open-seattle-cashier-less)\n",
    "- 3) [ASM Tables](https://www.census.gov/programs-surveys/asm/data/tables.html)\n",
    "- 4) [Big Idea: Technology Grows Exponentially](https://bigthink.com/think-tank/big-idea-technology-grows-exponentially)\n",
    "- 5) [Why Blue Collar Jobs Are Disappearing](https://www.businessinsider.com/why-blue-collar-jobs-are-dissapearing-2012-1)\n",
    "- 6) [Unemployment rates and earnings by educational attainment](https://www.bls.gov/emp/chart-unemployment-earnings-education.htm)\n",
    "\n"
   ]
  },
  {
   "cell_type": "markdown",
   "metadata": {},
   "source": [
    "# Hypothesis\n"
   ]
  },
  {
   "cell_type": "markdown",
   "metadata": {},
   "source": [
    "While much has been discussed in the public sphere on the integration of automation into the workforce, the key question remains: are robots taking our jobs? Once we’ve stripped away the layers covering this question, as we’ve done, we have come to these concrete, testable predictions:\n",
    "\t\n",
    "1. Job automation has not only grown, but accelerated in this timespan\n",
    "2. Job instability has not only grown, but accelerated in this timespan\n",
    "3. Integration of job automation in the workplace correlates strongly with the progression of job instability\n",
    "4. There is a strong, positive correlation between job automation and job instability\n",
    "5. Integration of artificial intelligence methods into the workplace has compounded the acceleration of job automation, and subsequently, job instability\n",
    "6. Job instability resulting from job automation disproportionately affects blue-collar workers, workers of low education and workers of minority status\n",
    "7. Job instability resulting from job automation most dramatically impacts workers in efficiency-based jobs\n",
    "8. Job automation – including artificial intelligence – will continue to increase, and thus, so will job instability both broadly and in specific populations\n",
    "\n",
    "These predictions are not only tractable, but once analyzed, provide a seed for practical application moving forward. If we know, for instance, that the job stability of efficiency-based workers is indeed greatly impacted by job automation, our governing bodies can begin to allocate severance packages and unemployment benefits to give to workers that may be affected, train those workers in jobs that are more in demand, and educate younger generations on skills that will be helpful in the long-run. ≥If we’re able to show a significant, strong positive correlation between job automation and job instability, we have hit a goldmine of potential research.\n"
   ]
  },
  {
   "cell_type": "markdown",
   "metadata": {},
   "source": [
    "# Data"
   ]
  },
  {
   "cell_type": "markdown",
   "metadata": {},
   "source": [
    "In order to begin answering this question, we need to look at two branches of data:\n",
    "\n",
    "1. Economic models showing measures of job stability, divided by various demographic and economic metrics to help demarcate any significant connections, over the past 25 years in the United States\n",
    "2. Data measuring the expansion of job automation technology in the past 25 years in the United States, tracking the implementation of various technologies in various industries and businesses\n",
    "\n",
    "These two datasets placed side-by-side, brought together by the fact that they are both based in the United States over the past 25 years, would encapsulate our ideal data. Delineating further, this dataset would include several measures relating to socioeconomic status, including education level, income level, and industry. Moreover, our primary data would come from government sources, which, while they do have biases, we consider to be our most trusted source. That said, businesses must have input on the data as well, else we risk data biased too strongly to government desires. As such, we would look for data that fuses government and industry cross-talk while conducting their research. This data will largely be numerical: the clearer we can achieve this, the more our analysis will be able to assert. If we can find the right data, our analysis will simplify dramatically, since there would be little to manually change."
   ]
  },
  {
   "cell_type": "markdown",
   "metadata": {},
   "source": [
    "# Ethics & Privacy"
   ]
  },
  {
   "cell_type": "markdown",
   "metadata": {},
   "source": [
    "All of our datasets have been provided by publicly available sources such as Kaggle and the US Census. Since these data are being provided to the public, we anticipate no restrictions in using it for the purpose of this project. Additionally, no restrictions have been posted for the datasets we are accessing. Much of the data we are using is provided by state or federal governments, which is required by law to provide strong protection for the data that are available to the public. For the data sources that are not guaranteed to do this, we will provide privacy by anonymizing any potentially personal identifiable information. However, we do not anticipate this being an issue, as all the data collected are aggregates that don’t include any potentially personal identifiable information.\n",
    "\n",
    "One of our dataset sources, Kaggle, consists of contributors of various backgrounds and experience levels. This increases the potential for bias, since there is no way of confirming whether the presentation of the data is biased towards fulfilling the contributor’s needs. The user has the option of viewing the contributor’s Kaggle profile and their LinkedIn profiles, but the amount of information that is provided to the user is controlled by the contributor themselves. If we utilize the provided information to confirm the legitimacy of the contributor’s data, we can decrease the chance of potential bias. For our other data source, data.gov, there is a smaller potential of bias given the fact that it is a government source. While we cannot assume that government sources are entirely free of bias, we can assume that it is more of a fair source than non-government sources. Government sources are supposed to be free of affiliation to political parties, which is why we can assume that the data presented has relatively low levels of bias. Another potential source of bias is from data taken from the census, as participants have the option of providing their data."
   ]
  },
  {
   "cell_type": "markdown",
   "metadata": {},
   "source": [
    "# Team Expectations "
   ]
  },
  {
   "cell_type": "markdown",
   "metadata": {},
   "source": [
    "Empathy is key to communication! If conflicts arise, we will group together and practice listening to each other’s thoughts in order to come to a resolution. We will put our best efforts forward in ensuring that we can have one mediator (or however deemed necessary) to find a fair solution that takes all interests into consideration. We will maintain a clear list of appointments of responsibilities and deadlines for each individual so that there is mutual understanding of each individual’s responsibilities at hand. This will be done in efforts to maintain clear communication and organization. We expect that all of our members will put their strongest efforts forward in maintaining good communication, consideration, and sportsmanship. We will be meeting every Thursday at 6:30pm, which will include updates from each team member on their individual progress, and a discussion on how to best integrate those advances into the project.\n",
    "\n",
    "* Michael:\n",
    "    - Programming in Python/C++\n",
    "    - Persistent\n",
    "    - Interested in finding cool data correlations\n",
    "    - A natural born leader\n",
    "\n",
    "* Kiran: \n",
    "    - Programming in Python/C++\n",
    "    - Experienced in project management \n",
    "    - Enjoys data analysis \n",
    "    \n",
    "* Raymart:\n",
    "    - Programming in Python/C/Java/R/ARM-ASSEMBLY\n",
    "    - seasonal lifeguard and swim instructor\n",
    "    - (′ꈍωꈍ‵)\n",
    "* Griffin:\n",
    "    - Enjoys writing and editing\n",
    "    - Is detail-oriented\n",
    "    - Experienced in project management\n",
    "\n",
    "* Hannah:\n",
    "    - Experienced with data cleaning\n",
    "    - Programming in Python, R, C, Java, Javascript\n",
    "    - Good at working under pressure"
   ]
  },
  {
   "cell_type": "markdown",
   "metadata": {},
   "source": [
    "# Project Timeline Proposal"
   ]
  },
  {
   "cell_type": "markdown",
   "metadata": {},
   "source": [
    "| Meeting Date  | Meeting Time| Completed Before Meeting  | Discuss at Meeting |\n",
    "|---|---|---|---|\n",
    "| 4/9  |  6:30 PM | N/A | Spoke about project ideas| \n",
    "| 4/16  |  6:30 PM | Search for datasets | Assigned proposal tasks to each group member | \n",
    "| 4/23  | 6:30 PM  | Completed proposal tasks  | Discussed proposal sections & provided feedback. Jointly completed timeline and expectations.  |\n",
    "| 4/30  | 6:30 PM  | Collect necessary datasets | Discuss datasets and consider if more data are needed. Assign EDA tasks  |\n",
    "| 5/7  | 6:30 PM  | Start EDA | Discuss/share preliminary EDA results. Assign further analysis tasks |\n",
    "| 5/14  | 6:30 PM  |Work on data analysis | Discuss current state of data analysis & assign further tasks |\n",
    "| 5/21  | 6:30 PM  | Continue data analysis work | Discuss current state of analysis |\n",
    "| 5/28  | 6:30 PM  | Continue data analysis work | Discuss results & any final analysis needs |\n",
    "| 6/4  | 6:30 PM  | Create data visualizations | Revise project submission |\n",
    "| 6/10  | Before 11:59 PM  | N/A | Turn in Final Project & Group Project Surveys |"
   ]
  },
  {
   "cell_type": "code",
   "execution_count": null,
   "metadata": {},
   "outputs": [],
   "source": []
  }
 ],
 "metadata": {
  "kernelspec": {
   "display_name": "Python 3",
   "language": "python",
   "name": "python3"
  },
  "language_info": {
   "codemirror_mode": {
    "name": "ipython",
    "version": 3
   },
   "file_extension": ".py",
   "mimetype": "text/x-python",
   "name": "python",
   "nbconvert_exporter": "python",
   "pygments_lexer": "ipython3",
   "version": "3.6.3"
  }
 },
 "nbformat": 4,
 "nbformat_minor": 4
}
