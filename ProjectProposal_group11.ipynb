{
 "cells": [
  {
   "cell_type": "markdown",
   "metadata": {},
   "source": [
    "# COGS 108 - Final Project Proposal"
   ]
  },
  {
   "cell_type": "markdown",
   "metadata": {},
   "source": [
    "# Names\n",
    "\n",
    "- Michael Baluja\n",
    "- Griffin Mittleman\n",
    "- Deepkiran Sangha\n",
    "- Raymart Evangelista\n",
    "- Hannah Williams"
   ]
  },
  {
   "cell_type": "markdown",
   "metadata": {},
   "source": [
    "# Group Members IDs\n",
    "\n",
    "- A14499660\n",
    "- A15734955\n",
    "- A15096006\n",
    "- A16094994\n",
    "- A16112910"
   ]
  },
  {
   "cell_type": "markdown",
   "metadata": {},
   "source": [
    "# Research Question"
   ]
  },
  {
   "cell_type": "markdown",
   "metadata": {},
   "source": [
    "*Fill in your research question here*"
   ]
  },
  {
   "cell_type": "markdown",
   "metadata": {},
   "source": [
    "## Background and Prior Work"
   ]
  },
  {
   "cell_type": "markdown",
   "metadata": {},
   "source": [
    "*Fill in your background and prior work here. Be sure to specify which statements are from which references.* \n",
    "\n",
    "References (include links):\n",
    "- 1)\n",
    "- 2)"
   ]
  },
  {
   "cell_type": "markdown",
   "metadata": {},
   "source": [
    "# Hypothesis\n"
   ]
  },
  {
   "cell_type": "markdown",
   "metadata": {},
   "source": [
    "*State and defend your hypotheses here.*"
   ]
  },
  {
   "cell_type": "markdown",
   "metadata": {},
   "source": [
    "# Data"
   ]
  },
  {
   "cell_type": "markdown",
   "metadata": {},
   "source": [
    "*Explain what the ideal dataset you would want to answer this question. (This should include: What variables? How many observations? Who/what/how would these data be collected? How would these data be stored/organized?)*"
   ]
  },
  {
   "cell_type": "markdown",
   "metadata": {},
   "source": [
    "# Ethics & Privacy"
   ]
  },
  {
   "cell_type": "markdown",
   "metadata": {},
   "source": [
    "All of our datasets have been provided by publicly available sources such as Kaggle and the US Census. Since these data are being provided to the public, we anticipate no restrictions in using it for the purpose of this project. Additionally, no restrictions have been posted for the datasets we are accessing. Much of the data we are using is provided by state or federal governments, which is required by law to provide strong protection for the data that are available to the public. For the data sources that are not guaranteed to do this, we will provide privacy by anonymizing any potentially personal identifiable information. However, we do not anticipate this being an issue, as all the data collected are aggregates that don’t include any potentially personal identifiable information.\n One of our dataset sources, Kaggle, consists of contributors of various backgrounds and experience levels. This increases the potential for bias, since there is no way of confirming whether the presentation of the data is biased towards fulfilling the contributor’s needs. The user has the option of viewing the contributor’s Kaggle profile and their LinkedIn profiles, but the amount of information that is provided to the user is controlled by the contributor themselves. If we utilize the provided information to confirm the legitimacy of the contributor’s data, we can decrease the chance of potential bias. For our other data source, data.gov, there is a smaller potential of bias given the fact that it is a government source. While we cannot assume that government sources are entirely free of bias, we can assume that it is more of a fair source than non-government sources. Government sources are supposed to be free of affiliation to political parties, which is why we can assume that the data presented has relatively low levels of bias. Another potential source of bias is from data taken from the census, as participants have the option of providing their data."
   ]
  },
  {
   "cell_type": "markdown",
   "metadata": {},
   "source": [
    "# Team Expectations "
   ]
  },
  {
   "cell_type": "markdown",
   "metadata": {},
   "source": [
    "* Michael:\n",
    "    - Programming in Python/C++\n",
    "    - Persistent\n",
    "    - Interested in finding cool data correlations\n",
    "\n",
    "* Kiran:\n",
    "    - Programming in Python/C++\n",
    "    - Experienced in Project Management\n",
    "    - Enjoys data analysis\n",
    "\n",
    "* Griffin:\n",
    "    - Enjoys writing and editing\n",
    "    - Is detail-oriented\n",
    "    - Experienced in project management\n",
    "* ..."
   ]
  },
  {
   "cell_type": "markdown",
   "metadata": {},
   "source": [
    "# Project Timeline Proposal"
   ]
  },
  {
   "cell_type": "markdown",
   "metadata": {},
   "source": [
    "| Meeting Date  | Meeting Time| Completed Before Meeting  | Discuss at Meeting |\n",
    "|---|---|---|---|\n",
    "| 4/9  |  6:30 PM | N/A | Spoke about project ideas| \n",
    "| 4/16  |  6:30 PM | Search for datasets | Assigned proposal tasks to each group member | \n",
    "| 4/23  | 6:30 PM  | Completed proposal tasks  | Discussed proposal sections & provided feedback. Jointly completed timeline and expectations.  |\n",
    "| 4/30  | 6:30 PM  | Collect necessary datasets | Discuss datasets and consider if more data are needed. Assign EDA tasks  |\n",
    "| 5/7  | 6:30 PM  | Start EDA | Discuss/share preliminary EDA results. Assign further analysis tasks |\n",
    "| 5/14  | 6:30 PM  |Work on data analysis | Discuss current state of data analysis & assign further tasks |\n",
    "| 5/21  | 6:30 PM  | Continue data analysis work | Discuss current state of analysis |\n",
    "| 5/28  | 6:30 PM  | Continue data analysis work | Discuss results & any final analysis needs |\n",
    "| 6/4  | 6:30 PM  | Create data visualizations | Revise project submission |\n",
    "| 6/10  | Before 11:59 PM  | NA | Turn in Final Project & Group Project Surveys |"
   ]
  },
  {
   "cell_type": "code",
   "execution_count": null,
   "metadata": {},
   "outputs": [],
   "source": []
  }
 ],
 "metadata": {
  "kernelspec": {
   "display_name": "Python 3",
   "language": "python",
   "name": "python3"
  },
  "language_info": {
   "codemirror_mode": {
    "name": "ipython",
    "version": 3
   },
   "file_extension": ".py",
   "mimetype": "text/x-python",
   "name": "python",
   "nbconvert_exporter": "python",
   "pygments_lexer": "ipython3",
   "version": "3.7.6"
  }
 },
 "nbformat": 4,
 "nbformat_minor": 4
}
