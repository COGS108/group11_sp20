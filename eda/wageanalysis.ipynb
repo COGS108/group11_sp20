{
 "cells": [
  {
   "cell_type": "markdown",
   "metadata": {},
   "source": [
    "# Data\n",
    "- Occupations by State and Likelihood of Automation: https://data.world/wnedds/occupations-by-state-and-likelihood-of-automation\n",
    "- Wage by Occupation: https://data.world/quanticdata/occupation-and-salary-by-state-and-likelihood-of-automation/workspace/file?filename=national_M2016_dl.xlsx"
   ]
  },
  {
   "cell_type": "markdown",
   "metadata": {},
   "source": [
    "# Data Handling (ingestion/cleaning/creation)"
   ]
  },
  {
   "cell_type": "code",
   "execution_count": 1,
   "metadata": {},
   "outputs": [],
   "source": [
    "import pandas as pd\n",
    "import seaborn as sns\n",
    "import numpy as np\n",
    "import patsy\n",
    "from scipy.stats import normaltest\n",
    "import statsmodels.api as sm\n",
    "from sklearn.linear_model import LinearRegression\n",
    "from sklearn.metrics import classification_report"
   ]
  },
  {
   "cell_type": "code",
   "execution_count": 2,
   "metadata": {},
   "outputs": [],
   "source": [
    "df_occ = pd.read_csv('../datasets/raw_state_automation_data.csv', encoding='cp1252')\n",
    "df_wages = pd.read_excel('../datasets/wagedata.xlsx')"
   ]
  },
  {
   "cell_type": "code",
   "execution_count": 3,
   "metadata": {},
   "outputs": [
    {
     "data": {
      "text/html": [
       "<div>\n",
       "<style scoped>\n",
       "    .dataframe tbody tr th:only-of-type {\n",
       "        vertical-align: middle;\n",
       "    }\n",
       "\n",
       "    .dataframe tbody tr th {\n",
       "        vertical-align: top;\n",
       "    }\n",
       "\n",
       "    .dataframe thead th {\n",
       "        text-align: right;\n",
       "    }\n",
       "</style>\n",
       "<table border=\"1\" class=\"dataframe\">\n",
       "  <thead>\n",
       "    <tr style=\"text-align: right;\">\n",
       "      <th></th>\n",
       "      <th>OCC_CODE</th>\n",
       "      <th>OCC_TITLE</th>\n",
       "      <th>OCC_GROUP</th>\n",
       "      <th>TOT_EMP</th>\n",
       "      <th>EMP_PRSE</th>\n",
       "      <th>H_MEAN</th>\n",
       "      <th>A_MEAN</th>\n",
       "      <th>MEAN_PRSE</th>\n",
       "      <th>H_PCT10</th>\n",
       "      <th>H_PCT25</th>\n",
       "      <th>H_MEDIAN</th>\n",
       "      <th>H_PCT75</th>\n",
       "      <th>H_PCT90</th>\n",
       "      <th>A_PCT10</th>\n",
       "      <th>A_PCT25</th>\n",
       "      <th>A_MEDIAN</th>\n",
       "      <th>A_PCT75</th>\n",
       "      <th>A_PCT90</th>\n",
       "      <th>ANNUAL</th>\n",
       "      <th>HOURLY</th>\n",
       "    </tr>\n",
       "  </thead>\n",
       "  <tbody>\n",
       "    <tr>\n",
       "      <th>0</th>\n",
       "      <td>00-0000</td>\n",
       "      <td>All Occupations</td>\n",
       "      <td>total</td>\n",
       "      <td>140400040</td>\n",
       "      <td>0.1</td>\n",
       "      <td>23.86</td>\n",
       "      <td>49630</td>\n",
       "      <td>0.1</td>\n",
       "      <td>9.27</td>\n",
       "      <td>11.6</td>\n",
       "      <td>17.81</td>\n",
       "      <td>28.92</td>\n",
       "      <td>45.45</td>\n",
       "      <td>19290</td>\n",
       "      <td>24140</td>\n",
       "      <td>37040</td>\n",
       "      <td>60150</td>\n",
       "      <td>94540</td>\n",
       "      <td>NaN</td>\n",
       "      <td>NaN</td>\n",
       "    </tr>\n",
       "    <tr>\n",
       "      <th>1</th>\n",
       "      <td>11-0000</td>\n",
       "      <td>Management Occupations</td>\n",
       "      <td>major</td>\n",
       "      <td>7090790</td>\n",
       "      <td>0.2</td>\n",
       "      <td>56.74</td>\n",
       "      <td>118020</td>\n",
       "      <td>0.1</td>\n",
       "      <td>22.76</td>\n",
       "      <td>32.99</td>\n",
       "      <td>48.46</td>\n",
       "      <td>70.72</td>\n",
       "      <td>#</td>\n",
       "      <td>47330</td>\n",
       "      <td>68630</td>\n",
       "      <td>100790</td>\n",
       "      <td>147090</td>\n",
       "      <td>#</td>\n",
       "      <td>NaN</td>\n",
       "      <td>NaN</td>\n",
       "    </tr>\n",
       "    <tr>\n",
       "      <th>2</th>\n",
       "      <td>11-1000</td>\n",
       "      <td>Top Executives</td>\n",
       "      <td>minor</td>\n",
       "      <td>2465800</td>\n",
       "      <td>0.2</td>\n",
       "      <td>61.03</td>\n",
       "      <td>126950</td>\n",
       "      <td>0.2</td>\n",
       "      <td>20.58</td>\n",
       "      <td>31.45</td>\n",
       "      <td>49.19</td>\n",
       "      <td>78.35</td>\n",
       "      <td>#</td>\n",
       "      <td>42810</td>\n",
       "      <td>65420</td>\n",
       "      <td>102320</td>\n",
       "      <td>162970</td>\n",
       "      <td>#</td>\n",
       "      <td>NaN</td>\n",
       "      <td>NaN</td>\n",
       "    </tr>\n",
       "    <tr>\n",
       "      <th>3</th>\n",
       "      <td>11-1010</td>\n",
       "      <td>Chief Executives</td>\n",
       "      <td>broad</td>\n",
       "      <td>223260</td>\n",
       "      <td>0.7</td>\n",
       "      <td>93.44</td>\n",
       "      <td>194350</td>\n",
       "      <td>0.4</td>\n",
       "      <td>33.55</td>\n",
       "      <td>54.86</td>\n",
       "      <td>87.12</td>\n",
       "      <td>#</td>\n",
       "      <td>#</td>\n",
       "      <td>69780</td>\n",
       "      <td>114100</td>\n",
       "      <td>181210</td>\n",
       "      <td>#</td>\n",
       "      <td>#</td>\n",
       "      <td>NaN</td>\n",
       "      <td>NaN</td>\n",
       "    </tr>\n",
       "    <tr>\n",
       "      <th>4</th>\n",
       "      <td>11-1011</td>\n",
       "      <td>Chief Executives</td>\n",
       "      <td>detailed</td>\n",
       "      <td>223260</td>\n",
       "      <td>0.7</td>\n",
       "      <td>93.44</td>\n",
       "      <td>194350</td>\n",
       "      <td>0.4</td>\n",
       "      <td>33.55</td>\n",
       "      <td>54.86</td>\n",
       "      <td>87.12</td>\n",
       "      <td>#</td>\n",
       "      <td>#</td>\n",
       "      <td>69780</td>\n",
       "      <td>114100</td>\n",
       "      <td>181210</td>\n",
       "      <td>#</td>\n",
       "      <td>#</td>\n",
       "      <td>NaN</td>\n",
       "      <td>NaN</td>\n",
       "    </tr>\n",
       "  </tbody>\n",
       "</table>\n",
       "</div>"
      ],
      "text/plain": [
       "  OCC_CODE               OCC_TITLE OCC_GROUP    TOT_EMP  EMP_PRSE H_MEAN  \\\n",
       "0  00-0000         All Occupations     total  140400040       0.1  23.86   \n",
       "1  11-0000  Management Occupations     major    7090790       0.2  56.74   \n",
       "2  11-1000          Top Executives     minor    2465800       0.2  61.03   \n",
       "3  11-1010        Chief Executives     broad     223260       0.7  93.44   \n",
       "4  11-1011        Chief Executives  detailed     223260       0.7  93.44   \n",
       "\n",
       "   A_MEAN  MEAN_PRSE H_PCT10 H_PCT25 H_MEDIAN H_PCT75 H_PCT90 A_PCT10 A_PCT25  \\\n",
       "0   49630        0.1    9.27    11.6    17.81   28.92   45.45   19290   24140   \n",
       "1  118020        0.1   22.76   32.99    48.46   70.72       #   47330   68630   \n",
       "2  126950        0.2   20.58   31.45    49.19   78.35       #   42810   65420   \n",
       "3  194350        0.4   33.55   54.86    87.12       #       #   69780  114100   \n",
       "4  194350        0.4   33.55   54.86    87.12       #       #   69780  114100   \n",
       "\n",
       "  A_MEDIAN A_PCT75 A_PCT90 ANNUAL HOURLY  \n",
       "0    37040   60150   94540    NaN    NaN  \n",
       "1   100790  147090       #    NaN    NaN  \n",
       "2   102320  162970       #    NaN    NaN  \n",
       "3   181210       #       #    NaN    NaN  \n",
       "4   181210       #       #    NaN    NaN  "
      ]
     },
     "execution_count": 3,
     "metadata": {},
     "output_type": "execute_result"
    }
   ],
   "source": [
    "df_wages.head()"
   ]
  },
  {
   "cell_type": "code",
   "execution_count": 4,
   "metadata": {},
   "outputs": [],
   "source": [
    "df_occ = df_occ[['SOC', 'Occupation', 'Probability']]"
   ]
  },
  {
   "cell_type": "code",
   "execution_count": 5,
   "metadata": {},
   "outputs": [],
   "source": [
    "df = pd.merge(df_occ, df_wages, how='left', left_on='SOC', right_on='OCC_CODE')"
   ]
  },
  {
   "cell_type": "code",
   "execution_count": 6,
   "metadata": {},
   "outputs": [
    {
     "data": {
      "text/html": [
       "<div>\n",
       "<style scoped>\n",
       "    .dataframe tbody tr th:only-of-type {\n",
       "        vertical-align: middle;\n",
       "    }\n",
       "\n",
       "    .dataframe tbody tr th {\n",
       "        vertical-align: top;\n",
       "    }\n",
       "\n",
       "    .dataframe thead th {\n",
       "        text-align: right;\n",
       "    }\n",
       "</style>\n",
       "<table border=\"1\" class=\"dataframe\">\n",
       "  <thead>\n",
       "    <tr style=\"text-align: right;\">\n",
       "      <th></th>\n",
       "      <th>SOC</th>\n",
       "      <th>Occupation</th>\n",
       "      <th>Probability</th>\n",
       "      <th>OCC_CODE</th>\n",
       "      <th>OCC_TITLE</th>\n",
       "      <th>OCC_GROUP</th>\n",
       "      <th>TOT_EMP</th>\n",
       "      <th>EMP_PRSE</th>\n",
       "      <th>H_MEAN</th>\n",
       "      <th>A_MEAN</th>\n",
       "      <th>...</th>\n",
       "      <th>H_MEDIAN</th>\n",
       "      <th>H_PCT75</th>\n",
       "      <th>H_PCT90</th>\n",
       "      <th>A_PCT10</th>\n",
       "      <th>A_PCT25</th>\n",
       "      <th>A_MEDIAN</th>\n",
       "      <th>A_PCT75</th>\n",
       "      <th>A_PCT90</th>\n",
       "      <th>ANNUAL</th>\n",
       "      <th>HOURLY</th>\n",
       "    </tr>\n",
       "  </thead>\n",
       "  <tbody>\n",
       "    <tr>\n",
       "      <th>0</th>\n",
       "      <td>11-1011</td>\n",
       "      <td>Chief Executives</td>\n",
       "      <td>0.015</td>\n",
       "      <td>11-1011</td>\n",
       "      <td>Chief Executives</td>\n",
       "      <td>detailed</td>\n",
       "      <td>223260.0</td>\n",
       "      <td>0.7</td>\n",
       "      <td>93.44</td>\n",
       "      <td>194350</td>\n",
       "      <td>...</td>\n",
       "      <td>87.12</td>\n",
       "      <td>#</td>\n",
       "      <td>#</td>\n",
       "      <td>69780</td>\n",
       "      <td>114100</td>\n",
       "      <td>181210</td>\n",
       "      <td>#</td>\n",
       "      <td>#</td>\n",
       "      <td>NaN</td>\n",
       "      <td>NaN</td>\n",
       "    </tr>\n",
       "    <tr>\n",
       "      <th>1</th>\n",
       "      <td>11-1021</td>\n",
       "      <td>General and Operations Managers</td>\n",
       "      <td>0.160</td>\n",
       "      <td>11-1021</td>\n",
       "      <td>General and Operations Managers</td>\n",
       "      <td>detailed</td>\n",
       "      <td>2188870.0</td>\n",
       "      <td>0.3</td>\n",
       "      <td>58.7</td>\n",
       "      <td>122090</td>\n",
       "      <td>...</td>\n",
       "      <td>47.74</td>\n",
       "      <td>74.53</td>\n",
       "      <td>#</td>\n",
       "      <td>44290</td>\n",
       "      <td>64890</td>\n",
       "      <td>99310</td>\n",
       "      <td>155020</td>\n",
       "      <td>#</td>\n",
       "      <td>NaN</td>\n",
       "      <td>NaN</td>\n",
       "    </tr>\n",
       "    <tr>\n",
       "      <th>2</th>\n",
       "      <td>11-2011</td>\n",
       "      <td>Advertising and Promotions Managers</td>\n",
       "      <td>0.039</td>\n",
       "      <td>11-2011</td>\n",
       "      <td>Advertising and Promotions Managers</td>\n",
       "      <td>detailed</td>\n",
       "      <td>28860.0</td>\n",
       "      <td>2.3</td>\n",
       "      <td>56.64</td>\n",
       "      <td>117810</td>\n",
       "      <td>...</td>\n",
       "      <td>48.47</td>\n",
       "      <td>70.98</td>\n",
       "      <td>#</td>\n",
       "      <td>44950</td>\n",
       "      <td>67000</td>\n",
       "      <td>100810</td>\n",
       "      <td>147640</td>\n",
       "      <td>#</td>\n",
       "      <td>NaN</td>\n",
       "      <td>NaN</td>\n",
       "    </tr>\n",
       "    <tr>\n",
       "      <th>3</th>\n",
       "      <td>11-2021</td>\n",
       "      <td>Marketing Managers</td>\n",
       "      <td>0.014</td>\n",
       "      <td>11-2021</td>\n",
       "      <td>Marketing Managers</td>\n",
       "      <td>detailed</td>\n",
       "      <td>205900.0</td>\n",
       "      <td>1.0</td>\n",
       "      <td>69.3</td>\n",
       "      <td>144140</td>\n",
       "      <td>...</td>\n",
       "      <td>63.07</td>\n",
       "      <td>85.91</td>\n",
       "      <td>#</td>\n",
       "      <td>67490</td>\n",
       "      <td>93200</td>\n",
       "      <td>131180</td>\n",
       "      <td>178690</td>\n",
       "      <td>#</td>\n",
       "      <td>NaN</td>\n",
       "      <td>NaN</td>\n",
       "    </tr>\n",
       "    <tr>\n",
       "      <th>4</th>\n",
       "      <td>11-2022</td>\n",
       "      <td>Sales Managers</td>\n",
       "      <td>0.013</td>\n",
       "      <td>11-2022</td>\n",
       "      <td>Sales Managers</td>\n",
       "      <td>detailed</td>\n",
       "      <td>365230.0</td>\n",
       "      <td>0.6</td>\n",
       "      <td>64.95</td>\n",
       "      <td>135090</td>\n",
       "      <td>...</td>\n",
       "      <td>56.71</td>\n",
       "      <td>80.91</td>\n",
       "      <td>#</td>\n",
       "      <td>55790</td>\n",
       "      <td>79420</td>\n",
       "      <td>117960</td>\n",
       "      <td>168300</td>\n",
       "      <td>#</td>\n",
       "      <td>NaN</td>\n",
       "      <td>NaN</td>\n",
       "    </tr>\n",
       "  </tbody>\n",
       "</table>\n",
       "<p>5 rows × 23 columns</p>\n",
       "</div>"
      ],
      "text/plain": [
       "       SOC                           Occupation  Probability OCC_CODE  \\\n",
       "0  11-1011                     Chief Executives        0.015  11-1011   \n",
       "1  11-1021      General and Operations Managers        0.160  11-1021   \n",
       "2  11-2011  Advertising and Promotions Managers        0.039  11-2011   \n",
       "3  11-2021                   Marketing Managers        0.014  11-2021   \n",
       "4  11-2022                       Sales Managers        0.013  11-2022   \n",
       "\n",
       "                             OCC_TITLE OCC_GROUP    TOT_EMP  EMP_PRSE H_MEAN  \\\n",
       "0                     Chief Executives  detailed   223260.0       0.7  93.44   \n",
       "1      General and Operations Managers  detailed  2188870.0       0.3   58.7   \n",
       "2  Advertising and Promotions Managers  detailed    28860.0       2.3  56.64   \n",
       "3                   Marketing Managers  detailed   205900.0       1.0   69.3   \n",
       "4                       Sales Managers  detailed   365230.0       0.6  64.95   \n",
       "\n",
       "   A_MEAN  ...  H_MEDIAN H_PCT75 H_PCT90 A_PCT10 A_PCT25 A_MEDIAN A_PCT75  \\\n",
       "0  194350  ...     87.12       #       #   69780  114100   181210       #   \n",
       "1  122090  ...     47.74   74.53       #   44290   64890    99310  155020   \n",
       "2  117810  ...     48.47   70.98       #   44950   67000   100810  147640   \n",
       "3  144140  ...     63.07   85.91       #   67490   93200   131180  178690   \n",
       "4  135090  ...     56.71   80.91       #   55790   79420   117960  168300   \n",
       "\n",
       "  A_PCT90 ANNUAL HOURLY  \n",
       "0       #    NaN    NaN  \n",
       "1       #    NaN    NaN  \n",
       "2       #    NaN    NaN  \n",
       "3       #    NaN    NaN  \n",
       "4       #    NaN    NaN  \n",
       "\n",
       "[5 rows x 23 columns]"
      ]
     },
     "execution_count": 6,
     "metadata": {},
     "output_type": "execute_result"
    }
   ],
   "source": [
    "df.head()"
   ]
  },
  {
   "cell_type": "code",
   "execution_count": 7,
   "metadata": {
    "scrolled": true
   },
   "outputs": [
    {
     "name": "stdout",
     "output_type": "stream",
     "text": [
      "A_Mean: [194350 122090 117810 144140 135090 123360 98930 145740 139720 107060\n",
      " 117720 97630 126900 120210 115180 75790 99510 52150 95390 105770 143870\n",
      " 56010 79690 59410 109370 136150 71980 70290 70870 78060 112150 86560\n",
      " 63910 60040 67420 64990 65930 70250 66620 47290 nan 77810 91910 52020\n",
      " 66490 63350 70620 74870 76730 58030 77170 81160 97640 123100 75480 88940\n",
      " 49480 76260 57950 45340 76230 116320 91620 85180 104300 110590 87130\n",
      " 84500 56600 114120 105600 84340 85160 58490 84470 68820 66160 63480\n",
      " 112010 77330 89970 105420 89730 118700 98620 103760 88530 90190 99860\n",
      " 97050 89800 103010 105950 147030 99250 54290 63390 57480 71070 52120\n",
      " 62950 57860 52500 56920 57180 64050 45490 72890 71270 69290 94340 76850\n",
      " 64890 77830 65130 60300 77720 95000 110380 121770 94840 80820 101570\n",
      " 75360 106390 83740 98460 112860 59950 78690 104570 94650 86840 73060\n",
      " 66440 74090 60990 112250 80860 40470 46130 49770 62240 77820 46820 47930\n",
      " 60690 38630 49270 44160 57620 54090 46050 38740 47510 55510 47880 57900\n",
      " 55380 34120 49450 44840 139880 59840 95240 72730 115460 53180 56940 51490\n",
      " 81880 33300 55460 59020 59800 60350 61420 59480 61910 64020 55140 43150\n",
      " 54570 58910 44780 59870 34780 50130 65500 27120 101170 38900 57410 72200\n",
      " 70880 76480 27610 52290 56220 30090 57600 '*' 93840 83730 41000 35540\n",
      " 53610 60630 48170 42740 78200 66540 66080 73160 71920 51260 47450 45430\n",
      " 46780 65240 42640 63200 82190 81210 173860 232870 228780 168140 59670\n",
      " 117580 120270 210170 102090 144110 87220 84980 48190 60640 78210 100560\n",
      " 79290 84800 62440 41700 73440 57100 71750 75960 36110 29360 32170 35870\n",
      " 50520 46800 33870 41460 37860 69920 72480 52520 23600 28770 59530 31840\n",
      " 56850 27890 44480 37890 32850 35960 37150 28420 26810 65100 88400 77050\n",
      " 61660 44300 45740 46750 81490 54760 39650 62760 67850 36600 53530 35280\n",
      " 29730 29190 22640 47390 34700 20570 26370 42220 25430 23130 22920 25580\n",
      " 20460 21380 24410 23490 22340 21260 21410 41240 48790 27030 23830 35020\n",
      " 28560 35720 37310 50810 38300 39830 34580 24420 21990 25710 24750 21740\n",
      " 22000 50470 24390 42260 27110 29900 29590 71590 24330 20960 35160 24910\n",
      " 31440 28100 35930 22930 22710 42780 27230 27690 43910 85830 21680 25940\n",
      " 29390 33220 27180 63660 67760 102260 39900 92910 68410 30570 36560 79340\n",
      " 59360 108880 27170 28630 57890 29720 43030 37620 37570 40220 28120 43580\n",
      " 41980 28060 52380 37660 39160 39320 35170 43550 31260 23530 33640 27450\n",
      " 40300 36480 40100 29120 38050 44250 29920 41070 41190 41890 48360 50610\n",
      " 49710 49050 33150 26670 31080 57910 47900 35060 36140 43880 31640 39970\n",
      " 44380 40780 30580 33010 32390 39640 48300 48820 44260 42340 24280 24860\n",
      " 30740 31200 42900 38880 38150 68040 62200 53440 43650 48340 44310 42370\n",
      " 38890 44770 43720 45990 43800 61740 50560 47400 53790 56650 47260 39490\n",
      " 51100 41510 36470 42860 56030 44070 53600 42080 51080 56040 33610 30200\n",
      " 30980 28760 30640 28890 61250 76860 36380 45500 39540 52810 38870 34160\n",
      " 51140 57140 53520 51240 54580 52650 50670 34860 58110 40480 37160 66730\n",
      " 39410 53620 54520 61390 44720 56990 74540 34200 39340 45660 61190 45180\n",
      " 41400 46710 39310 53590 40860 37040 35320 28520 38040 27150 40420 56180\n",
      " 48320 40390 51890 46000 53950 47000 67160 54700 43920 50910 37690 39720\n",
      " 39360 53990 27670 42180 31030 49030 62710 29370 61450 52530 35340 33700\n",
      " 35410 43090 40000 33020 32550 42470 31740 25510 27040 30970 30130 30330\n",
      " 39590 53560 38710 41900 34210 34920 39630 41180 43220 41840 37300 50360\n",
      " 44490 36030 32660 36190 51610 42450 38380 39010 47720 33690 38860 40640\n",
      " 37460 33270 23210 22270 25830 26040 26530 25630 30670 28480 27860 28380\n",
      " 28110 35420 48460 34640 34800 32330 47480 47850 29960 29850 91370 81500\n",
      " 73800 61410 59430 67980 67870 55340 50300 41450 36050 30860 37630 29580\n",
      " 34000 34370 37600 40340 42310 40760 39880 34220 30910 34460 46270 32040\n",
      " 34610 30590 32100 34390 32590 38570 42230 26930 51900 50160 152770 86260\n",
      " 118200 51620 25600 41780 31110 28440 43590 34790 26790 61020 63750 52320\n",
      " 55320 58220 62380 46170 81520 43340 74120 46680 23250 48650 72650 55280\n",
      " 46530 45230 50020 34260 24660 28720 30490 24430 59620 50730 56370]\n",
      "A_Median: [181210 99310 100810 131180 117960 107320 90050 135800 121750 97140 111590\n",
      " 89190 116240 106910 105830 66360 89300 45790 92510 90760 134730 50820\n",
      " 69180 51840 96540 119850 71670 57040 64680 70500 104970 62080 58430 53340\n",
      " 63300 63680 63510 66540 61790 35160 nan 74170 81330 47350 59020 62560\n",
      " 69040 68150 51850 73840 69930 81760 90530 67680 79280 44380 63650 52060\n",
      " 36550 69470 111840 87220 79840 100080 106860 84950 79700 52160 100610\n",
      " 105810 79200 80500 49660 76930 63480 62750 59390 109650 73640 85620 98340\n",
      " 83540 115080 94210 99210 84890 86720 84310 93350 93310 84190 93720 102220\n",
      " 128230 97300 51640 59970 54480 68020 49980 62190 55610 49170 53330 62330\n",
      " 42450 60330 63950 62300 82180 66850 60520 74790 61810 58700 70820 80530\n",
      " 104740 115870 92460 73740 99430 68910 89780 80480 96070 101050 54470\n",
      " 73270 82760 95710 79750 70020 63190 74260 55110 114290 77020 37550 42520\n",
      " 45840 56470 79140 43190 44190 56750 35560 46040 41070 54560 42840 34670\n",
      " 43250 53760 42700 53070 50160 31810 45740 38610 118160 51760 92110 59770\n",
      " 125880 49500 51320 45800 66500 28790 52620 55800 56720 57560 58030 57320\n",
      " 58560 59700 50650 37330 50500 53360 40040 57680 32890 47840 49490 62460\n",
      " 25410 89820 33440 50790 65300 67790 65170 25850 47640 49810 26700 50990\n",
      " '*' 70950 47710 31460 25660 48240 50110 31400 28940 56680 37820 58020\n",
      " 57210 69850 61240 46120 42230 38550 46250 53680 34070 55080 62760 67520\n",
      " 153900 '#' 126050 58920 106140 122230 101480 124830 81910 85400 80160\n",
      " 46410 58670 74680 88770 75980 74530 61070 38950 72910 55570 69650 74350\n",
      " 32670 26350 30920 30970 49780 45160 32490 44090 38040 35530 65630 70920\n",
      " 48820 45630 22600 26720 59010 28330 56610 25680 39860 36940 31540 34400\n",
      " 35720 25240 25250 60560 84840 74540 48030 58440 36230 42670 42820 78120\n",
      " 51730 37950 59680 66610 34550 48190 32630 25770 20290 43180 31480 19860\n",
      " 24750 32060 24140 21890 21440 20800 19440 19970 19990 21240 20200 19980\n",
      " 38190 24190 21820 33040 26320 33740 35030 50520 36080 36700 27690 21990\n",
      " 19290 22100 19920 20160 45900 21720 40150 24830 25760 24260 60970 22150\n",
      " 19700 30270 22260 29250 24920 32100 21170 21920 38160 23870 25570 39040\n",
      " 73150 20180 23780 25550 29780 22680 50380 49990 67310 36460 78980 57140\n",
      " 25610 21870 56790 100000 24300 24330 54340 28030 37000 35350 36150 38390\n",
      " 25990 42390 41410 27260 49200 36370 36670 36930 32300 43350 29090 22070\n",
      " 32150 25220 38630 34990 33370 39020 27920 35230 41920 28170 38870 37940\n",
      " 38940 58110 56220 46760 31180 23840 55860 44180 33730 34820 42270 30100\n",
      " 38740 41090 38430 29160 30580 30460 36960 46850 45320 42800 35690 22520\n",
      " 27110 26940 37370 37490 37090 62980 62060 49250 39780 43600 38280 37840\n",
      " 36860 40460 39180 40930 33430 38970 55070 45890 48990 52720 35660 45430\n",
      " 37570 33770 38410 51450 38890 47600 37760 46940 51800 30570 28810 29530\n",
      " 27310 29030 27670 58480 78890 33150 40640 38130 53970 36430 33530 48130\n",
      " 54430 48610 44360 52170 51900 34020 56780 37340 35790 63540 37100 52480\n",
      " 53640 60760 41570 59280 56250 75670 32220 37410 44330 60170 41540 34340\n",
      " 38470 45170 49370 55000 38780 34720 27630 25040 38480 54520 45910 50040\n",
      " 44550 52440 45230 68010 52590 41060 48070 35010 36740 33070 49090 26920\n",
      " 40420 29810 45690 65350 27510 57780 50050 33940 31310 33350 41210 37730\n",
      " 30870 30060 37040 25090 29870 24490 26590 28570 27810 28350 37880 50580\n",
      " 33870 40680 32370 36410 39840 41700 41040 36180 48550 44210 34790 30480\n",
      " 51060 39390 36980 37180 45820 31280 36650 38930 31410 21510 21300 23670\n",
      " 23940 26150 24520 28240 27270 26090 27470 27500 34240 39650 33050 30550\n",
      " 40890 46510 28380 28510 91170 81900 74690 59400 45760 59920 67580 67400\n",
      " 54930 47780 38360 34390 28720 35680 27600 32870 32510 36040 36780 38200\n",
      " 37680 35980 30640 28290 32790 42150 30030 26470 32290 28550 29190 31110\n",
      " 30610 36990 41680 47360 47230 57270 127820 77200 122410 48910 48500 23850\n",
      " 39790 30150 22830 41340 57670 58230 50470 56570 57480 42060 72680 40210\n",
      " 70570 21730 22420 45150 72220 26060 42420 41030 53420 42530 32460 22220\n",
      " 25980 28410 22130 60470 42470 49610 35270 56450 35770]\n"
     ]
    }
   ],
   "source": [
    "# See what we're dealing with\n",
    "print('A_Mean: {}'.format(df.A_MEAN.unique()))\n",
    "print('A_Median: {}'.format(df.A_MEDIAN.unique()))"
   ]
  },
  {
   "cell_type": "code",
   "execution_count": 8,
   "metadata": {},
   "outputs": [
    {
     "data": {
      "text/html": [
       "<div>\n",
       "<style scoped>\n",
       "    .dataframe tbody tr th:only-of-type {\n",
       "        vertical-align: middle;\n",
       "    }\n",
       "\n",
       "    .dataframe tbody tr th {\n",
       "        vertical-align: top;\n",
       "    }\n",
       "\n",
       "    .dataframe thead th {\n",
       "        text-align: right;\n",
       "    }\n",
       "</style>\n",
       "<table border=\"1\" class=\"dataframe\">\n",
       "  <thead>\n",
       "    <tr style=\"text-align: right;\">\n",
       "      <th></th>\n",
       "      <th>SOC</th>\n",
       "      <th>Occupation</th>\n",
       "      <th>Probability</th>\n",
       "      <th>OCC_CODE</th>\n",
       "      <th>OCC_TITLE</th>\n",
       "      <th>OCC_GROUP</th>\n",
       "      <th>TOT_EMP</th>\n",
       "      <th>EMP_PRSE</th>\n",
       "      <th>H_MEAN</th>\n",
       "      <th>A_MEAN</th>\n",
       "      <th>...</th>\n",
       "      <th>H_MEDIAN</th>\n",
       "      <th>H_PCT75</th>\n",
       "      <th>H_PCT90</th>\n",
       "      <th>A_PCT10</th>\n",
       "      <th>A_PCT25</th>\n",
       "      <th>A_MEDIAN</th>\n",
       "      <th>A_PCT75</th>\n",
       "      <th>A_PCT90</th>\n",
       "      <th>ANNUAL</th>\n",
       "      <th>HOURLY</th>\n",
       "    </tr>\n",
       "  </thead>\n",
       "  <tbody>\n",
       "    <tr>\n",
       "      <th>0</th>\n",
       "      <td>11-1011</td>\n",
       "      <td>Chief Executives</td>\n",
       "      <td>0.015</td>\n",
       "      <td>11-1011</td>\n",
       "      <td>Chief Executives</td>\n",
       "      <td>detailed</td>\n",
       "      <td>223260.0</td>\n",
       "      <td>0.7</td>\n",
       "      <td>93.44</td>\n",
       "      <td>194350</td>\n",
       "      <td>...</td>\n",
       "      <td>87.12</td>\n",
       "      <td>#</td>\n",
       "      <td>#</td>\n",
       "      <td>69780</td>\n",
       "      <td>114100</td>\n",
       "      <td>181210</td>\n",
       "      <td>#</td>\n",
       "      <td>#</td>\n",
       "      <td>NaN</td>\n",
       "      <td>NaN</td>\n",
       "    </tr>\n",
       "    <tr>\n",
       "      <th>1</th>\n",
       "      <td>11-1021</td>\n",
       "      <td>General and Operations Managers</td>\n",
       "      <td>0.160</td>\n",
       "      <td>11-1021</td>\n",
       "      <td>General and Operations Managers</td>\n",
       "      <td>detailed</td>\n",
       "      <td>2188870.0</td>\n",
       "      <td>0.3</td>\n",
       "      <td>58.7</td>\n",
       "      <td>122090</td>\n",
       "      <td>...</td>\n",
       "      <td>47.74</td>\n",
       "      <td>74.53</td>\n",
       "      <td>#</td>\n",
       "      <td>44290</td>\n",
       "      <td>64890</td>\n",
       "      <td>99310</td>\n",
       "      <td>155020</td>\n",
       "      <td>#</td>\n",
       "      <td>NaN</td>\n",
       "      <td>NaN</td>\n",
       "    </tr>\n",
       "    <tr>\n",
       "      <th>2</th>\n",
       "      <td>11-2011</td>\n",
       "      <td>Advertising and Promotions Managers</td>\n",
       "      <td>0.039</td>\n",
       "      <td>11-2011</td>\n",
       "      <td>Advertising and Promotions Managers</td>\n",
       "      <td>detailed</td>\n",
       "      <td>28860.0</td>\n",
       "      <td>2.3</td>\n",
       "      <td>56.64</td>\n",
       "      <td>117810</td>\n",
       "      <td>...</td>\n",
       "      <td>48.47</td>\n",
       "      <td>70.98</td>\n",
       "      <td>#</td>\n",
       "      <td>44950</td>\n",
       "      <td>67000</td>\n",
       "      <td>100810</td>\n",
       "      <td>147640</td>\n",
       "      <td>#</td>\n",
       "      <td>NaN</td>\n",
       "      <td>NaN</td>\n",
       "    </tr>\n",
       "    <tr>\n",
       "      <th>3</th>\n",
       "      <td>11-2021</td>\n",
       "      <td>Marketing Managers</td>\n",
       "      <td>0.014</td>\n",
       "      <td>11-2021</td>\n",
       "      <td>Marketing Managers</td>\n",
       "      <td>detailed</td>\n",
       "      <td>205900.0</td>\n",
       "      <td>1.0</td>\n",
       "      <td>69.3</td>\n",
       "      <td>144140</td>\n",
       "      <td>...</td>\n",
       "      <td>63.07</td>\n",
       "      <td>85.91</td>\n",
       "      <td>#</td>\n",
       "      <td>67490</td>\n",
       "      <td>93200</td>\n",
       "      <td>131180</td>\n",
       "      <td>178690</td>\n",
       "      <td>#</td>\n",
       "      <td>NaN</td>\n",
       "      <td>NaN</td>\n",
       "    </tr>\n",
       "    <tr>\n",
       "      <th>4</th>\n",
       "      <td>11-2022</td>\n",
       "      <td>Sales Managers</td>\n",
       "      <td>0.013</td>\n",
       "      <td>11-2022</td>\n",
       "      <td>Sales Managers</td>\n",
       "      <td>detailed</td>\n",
       "      <td>365230.0</td>\n",
       "      <td>0.6</td>\n",
       "      <td>64.95</td>\n",
       "      <td>135090</td>\n",
       "      <td>...</td>\n",
       "      <td>56.71</td>\n",
       "      <td>80.91</td>\n",
       "      <td>#</td>\n",
       "      <td>55790</td>\n",
       "      <td>79420</td>\n",
       "      <td>117960</td>\n",
       "      <td>168300</td>\n",
       "      <td>#</td>\n",
       "      <td>NaN</td>\n",
       "      <td>NaN</td>\n",
       "    </tr>\n",
       "    <tr>\n",
       "      <th>...</th>\n",
       "      <td>...</td>\n",
       "      <td>...</td>\n",
       "      <td>...</td>\n",
       "      <td>...</td>\n",
       "      <td>...</td>\n",
       "      <td>...</td>\n",
       "      <td>...</td>\n",
       "      <td>...</td>\n",
       "      <td>...</td>\n",
       "      <td>...</td>\n",
       "      <td>...</td>\n",
       "      <td>...</td>\n",
       "      <td>...</td>\n",
       "      <td>...</td>\n",
       "      <td>...</td>\n",
       "      <td>...</td>\n",
       "      <td>...</td>\n",
       "      <td>...</td>\n",
       "      <td>...</td>\n",
       "      <td>...</td>\n",
       "      <td>...</td>\n",
       "    </tr>\n",
       "    <tr>\n",
       "      <th>677</th>\n",
       "      <td>53-7072</td>\n",
       "      <td>Pump Operators; Except Wellhead Pumpers</td>\n",
       "      <td>0.900</td>\n",
       "      <td>53-7072</td>\n",
       "      <td>Pump Operators, Except Wellhead Pumpers</td>\n",
       "      <td>detailed</td>\n",
       "      <td>12030.0</td>\n",
       "      <td>8.7</td>\n",
       "      <td>22.24</td>\n",
       "      <td>46270</td>\n",
       "      <td>...</td>\n",
       "      <td>20.42</td>\n",
       "      <td>28.15</td>\n",
       "      <td>35.46</td>\n",
       "      <td>26600</td>\n",
       "      <td>32200</td>\n",
       "      <td>42470</td>\n",
       "      <td>58560</td>\n",
       "      <td>73750</td>\n",
       "      <td>NaN</td>\n",
       "      <td>NaN</td>\n",
       "    </tr>\n",
       "    <tr>\n",
       "      <th>678</th>\n",
       "      <td>53-7073</td>\n",
       "      <td>Wellhead Pumpers</td>\n",
       "      <td>0.840</td>\n",
       "      <td>53-7073</td>\n",
       "      <td>Wellhead Pumpers</td>\n",
       "      <td>detailed</td>\n",
       "      <td>11610.0</td>\n",
       "      <td>5.2</td>\n",
       "      <td>24.39</td>\n",
       "      <td>50730</td>\n",
       "      <td>...</td>\n",
       "      <td>23.85</td>\n",
       "      <td>30.05</td>\n",
       "      <td>36.35</td>\n",
       "      <td>27940</td>\n",
       "      <td>36630</td>\n",
       "      <td>49610</td>\n",
       "      <td>62500</td>\n",
       "      <td>75610</td>\n",
       "      <td>NaN</td>\n",
       "      <td>NaN</td>\n",
       "    </tr>\n",
       "    <tr>\n",
       "      <th>679</th>\n",
       "      <td>53-7081</td>\n",
       "      <td>Refuse and Recyclable Material Collectors</td>\n",
       "      <td>0.930</td>\n",
       "      <td>53-7081</td>\n",
       "      <td>Refuse and Recyclable Material Collectors</td>\n",
       "      <td>detailed</td>\n",
       "      <td>114680.0</td>\n",
       "      <td>1.5</td>\n",
       "      <td>18.12</td>\n",
       "      <td>37690</td>\n",
       "      <td>...</td>\n",
       "      <td>16.95</td>\n",
       "      <td>22.43</td>\n",
       "      <td>29.09</td>\n",
       "      <td>20650</td>\n",
       "      <td>26090</td>\n",
       "      <td>35270</td>\n",
       "      <td>46650</td>\n",
       "      <td>60500</td>\n",
       "      <td>NaN</td>\n",
       "      <td>NaN</td>\n",
       "    </tr>\n",
       "    <tr>\n",
       "      <th>680</th>\n",
       "      <td>53-7111</td>\n",
       "      <td>Mine Shuttle Car Operators</td>\n",
       "      <td>0.370</td>\n",
       "      <td>53-7111</td>\n",
       "      <td>Mine Shuttle Car Operators</td>\n",
       "      <td>detailed</td>\n",
       "      <td>1590.0</td>\n",
       "      <td>7.0</td>\n",
       "      <td>27.1</td>\n",
       "      <td>56370</td>\n",
       "      <td>...</td>\n",
       "      <td>27.14</td>\n",
       "      <td>29.91</td>\n",
       "      <td>32.73</td>\n",
       "      <td>44120</td>\n",
       "      <td>49880</td>\n",
       "      <td>56450</td>\n",
       "      <td>62200</td>\n",
       "      <td>68080</td>\n",
       "      <td>NaN</td>\n",
       "      <td>NaN</td>\n",
       "    </tr>\n",
       "    <tr>\n",
       "      <th>681</th>\n",
       "      <td>53-7121</td>\n",
       "      <td>Tank Car; Truck; and Ship Loaders</td>\n",
       "      <td>0.720</td>\n",
       "      <td>53-7121</td>\n",
       "      <td>Tank Car, Truck, and Ship Loaders</td>\n",
       "      <td>detailed</td>\n",
       "      <td>10920.0</td>\n",
       "      <td>13.1</td>\n",
       "      <td>19.04</td>\n",
       "      <td>39590</td>\n",
       "      <td>...</td>\n",
       "      <td>17.2</td>\n",
       "      <td>22.78</td>\n",
       "      <td>31.82</td>\n",
       "      <td>22510</td>\n",
       "      <td>27570</td>\n",
       "      <td>35770</td>\n",
       "      <td>47380</td>\n",
       "      <td>66190</td>\n",
       "      <td>NaN</td>\n",
       "      <td>NaN</td>\n",
       "    </tr>\n",
       "  </tbody>\n",
       "</table>\n",
       "<p>682 rows × 23 columns</p>\n",
       "</div>"
      ],
      "text/plain": [
       "         SOC                                 Occupation  Probability OCC_CODE  \\\n",
       "0    11-1011                           Chief Executives        0.015  11-1011   \n",
       "1    11-1021            General and Operations Managers        0.160  11-1021   \n",
       "2    11-2011        Advertising and Promotions Managers        0.039  11-2011   \n",
       "3    11-2021                         Marketing Managers        0.014  11-2021   \n",
       "4    11-2022                             Sales Managers        0.013  11-2022   \n",
       "..       ...                                        ...          ...      ...   \n",
       "677  53-7072    Pump Operators; Except Wellhead Pumpers        0.900  53-7072   \n",
       "678  53-7073                           Wellhead Pumpers        0.840  53-7073   \n",
       "679  53-7081  Refuse and Recyclable Material Collectors        0.930  53-7081   \n",
       "680  53-7111                 Mine Shuttle Car Operators        0.370  53-7111   \n",
       "681  53-7121          Tank Car; Truck; and Ship Loaders        0.720  53-7121   \n",
       "\n",
       "                                     OCC_TITLE OCC_GROUP    TOT_EMP  EMP_PRSE  \\\n",
       "0                             Chief Executives  detailed   223260.0       0.7   \n",
       "1              General and Operations Managers  detailed  2188870.0       0.3   \n",
       "2          Advertising and Promotions Managers  detailed    28860.0       2.3   \n",
       "3                           Marketing Managers  detailed   205900.0       1.0   \n",
       "4                               Sales Managers  detailed   365230.0       0.6   \n",
       "..                                         ...       ...        ...       ...   \n",
       "677    Pump Operators, Except Wellhead Pumpers  detailed    12030.0       8.7   \n",
       "678                           Wellhead Pumpers  detailed    11610.0       5.2   \n",
       "679  Refuse and Recyclable Material Collectors  detailed   114680.0       1.5   \n",
       "680                 Mine Shuttle Car Operators  detailed     1590.0       7.0   \n",
       "681          Tank Car, Truck, and Ship Loaders  detailed    10920.0      13.1   \n",
       "\n",
       "    H_MEAN  A_MEAN  ...  H_MEDIAN H_PCT75 H_PCT90 A_PCT10 A_PCT25 A_MEDIAN  \\\n",
       "0    93.44  194350  ...     87.12       #       #   69780  114100   181210   \n",
       "1     58.7  122090  ...     47.74   74.53       #   44290   64890    99310   \n",
       "2    56.64  117810  ...     48.47   70.98       #   44950   67000   100810   \n",
       "3     69.3  144140  ...     63.07   85.91       #   67490   93200   131180   \n",
       "4    64.95  135090  ...     56.71   80.91       #   55790   79420   117960   \n",
       "..     ...     ...  ...       ...     ...     ...     ...     ...      ...   \n",
       "677  22.24   46270  ...     20.42   28.15   35.46   26600   32200    42470   \n",
       "678  24.39   50730  ...     23.85   30.05   36.35   27940   36630    49610   \n",
       "679  18.12   37690  ...     16.95   22.43   29.09   20650   26090    35270   \n",
       "680   27.1   56370  ...     27.14   29.91   32.73   44120   49880    56450   \n",
       "681  19.04   39590  ...      17.2   22.78   31.82   22510   27570    35770   \n",
       "\n",
       "    A_PCT75 A_PCT90 ANNUAL HOURLY  \n",
       "0         #       #    NaN    NaN  \n",
       "1    155020       #    NaN    NaN  \n",
       "2    147640       #    NaN    NaN  \n",
       "3    178690       #    NaN    NaN  \n",
       "4    168300       #    NaN    NaN  \n",
       "..      ...     ...    ...    ...  \n",
       "677   58560   73750    NaN    NaN  \n",
       "678   62500   75610    NaN    NaN  \n",
       "679   46650   60500    NaN    NaN  \n",
       "680   62200   68080    NaN    NaN  \n",
       "681   47380   66190    NaN    NaN  \n",
       "\n",
       "[682 rows x 23 columns]"
      ]
     },
     "execution_count": 8,
     "metadata": {},
     "output_type": "execute_result"
    }
   ],
   "source": [
    "# Drop rows if no mean wage info\n",
    "df = df[df.A_MEAN != '*']\n",
    "df = df[df.A_MEDIAN != '#']\n",
    "df.dropna(inplace=True,subset=['A_MEAN', 'A_MEDIAN'])\n",
    "\n",
    "df.reset_index(drop=True)"
   ]
  },
  {
   "cell_type": "code",
   "execution_count": 9,
   "metadata": {
    "scrolled": true
   },
   "outputs": [],
   "source": [
    "# Rest of values should be numeric, so transform\n",
    "df.A_MEAN = pd.to_numeric(df.A_MEAN)\n",
    "df.A_MEDIAN = pd.to_numeric(df.A_MEDIAN)"
   ]
  },
  {
   "cell_type": "markdown",
   "metadata": {},
   "source": [
    "# Data Visualization"
   ]
  },
  {
   "cell_type": "markdown",
   "metadata": {},
   "source": [
    "## Mean Annual Income"
   ]
  },
  {
   "cell_type": "code",
   "execution_count": 10,
   "metadata": {},
   "outputs": [
    {
     "data": {
      "text/plain": [
       "<matplotlib.axes._subplots.AxesSubplot at 0x1a1fdec390>"
      ]
     },
     "execution_count": 10,
     "metadata": {},
     "output_type": "execute_result"
    },
    {
     "data": {
      "image/png": "[encoded data removed]",
      "text/plain": [
       "<Figure size 432x288 with 1 Axes>"
      ]
     },
     "metadata": {
      "needs_background": "light"
     },
     "output_type": "display_data"
    }
   ],
   "source": [
    "sns.scatterplot(df.Probability, df.A_MEAN)"
   ]
  },
  {
   "cell_type": "code",
   "execution_count": 11,
   "metadata": {},
   "outputs": [
    {
     "name": "stdout",
     "output_type": "stream",
     "text": [
      "mean wage is normally distributed\n"
     ]
    }
   ],
   "source": [
    "# Test normality of wage\n",
    "stat_wage_mean, p_wage_mean = normaltest(df.A_MEAN)\n",
    "print('mean wage is normally distributed') if p_wage_mean < 0.01 else print('mean wage is NOT normally distributed')"
   ]
  },
  {
   "cell_type": "code",
   "execution_count": 12,
   "metadata": {},
   "outputs": [
    {
     "data": {
      "text/plain": [
       "<matplotlib.axes._subplots.AxesSubplot at 0x1a1fd28f90>"
      ]
     },
     "execution_count": 12,
     "metadata": {},
     "output_type": "execute_result"
    },
    {
     "data": {
      "image/png": "[encoded data removed]",
      "text/plain": [
       "<Figure size 432x288 with 1 Axes>"
      ]
     },
     "metadata": {
      "needs_background": "light"
     },
     "output_type": "display_data"
    }
   ],
   "source": [
    "sns.distplot(df.A_MEAN)"
   ]
  },
  {
   "cell_type": "code",
   "execution_count": 13,
   "metadata": {
    "scrolled": true
   },
   "outputs": [
    {
     "data": {
      "text/plain": [
       "<matplotlib.axes._subplots.AxesSubplot at 0x1a2074ecd0>"
      ]
     },
     "execution_count": 13,
     "metadata": {},
     "output_type": "execute_result"
    },
    {
     "data": {
      "image/png": "[encoded data removed]",
      "text/plain": [
       "<Figure size 432x288 with 1 Axes>"
      ]
     },
     "metadata": {
      "needs_background": "light"
     },
     "output_type": "display_data"
    }
   ],
   "source": [
    "sns.distplot(np.log(df.A_MEAN))"
   ]
  },
  {
   "cell_type": "markdown",
   "metadata": {},
   "source": [
    "## Median Annual Income"
   ]
  },
  {
   "cell_type": "code",
   "execution_count": 14,
   "metadata": {},
   "outputs": [
    {
     "data": {
      "text/plain": [
       "<matplotlib.axes._subplots.AxesSubplot at 0x1a2083c050>"
      ]
     },
     "execution_count": 14,
     "metadata": {},
     "output_type": "execute_result"
    },
    {
     "data": {
      "image/png": "[encoded data removed]",
      "text/plain": [
       "<Figure size 432x288 with 1 Axes>"
      ]
     },
     "metadata": {
      "needs_background": "light"
     },
     "output_type": "display_data"
    }
   ],
   "source": [
    "sns.scatterplot(df.Probability, np.log(df.A_MEDIAN))"
   ]
  },
  {
   "cell_type": "code",
   "execution_count": 15,
   "metadata": {},
   "outputs": [
    {
     "name": "stdout",
     "output_type": "stream",
     "text": [
      "median wage is normally distributed\n"
     ]
    }
   ],
   "source": [
    "# Test normality of wage\n",
    "stat_wage_median, p_wage_median = normaltest(df.A_MEDIAN)\n",
    "print('median wage is normally distributed') if p_wage_median < 0.01 else print('median wage is NOT normally distributed')"
   ]
  },
  {
   "cell_type": "code",
   "execution_count": 16,
   "metadata": {},
   "outputs": [
    {
     "data": {
      "text/plain": [
       "<matplotlib.axes._subplots.AxesSubplot at 0x61bdb6c90>"
      ]
     },
     "execution_count": 16,
     "metadata": {},
     "output_type": "execute_result"
    },
    {
     "data": {
      "image/png": "[encoded data removed]",
      "text/plain": [
       "<Figure size 432x288 with 1 Axes>"
      ]
     },
     "metadata": {
      "needs_background": "light"
     },
     "output_type": "display_data"
    }
   ],
   "source": [
    "sns.distplot(df.A_MEDIAN)"
   ]
  },
  {
   "cell_type": "code",
   "execution_count": 17,
   "metadata": {},
   "outputs": [
    {
     "data": {
      "text/plain": [
       "<matplotlib.axes._subplots.AxesSubplot at 0x1a20a1c950>"
      ]
     },
     "execution_count": 17,
     "metadata": {},
     "output_type": "execute_result"
    },
    {
     "data": {
      "image/png": "[encoded data removed]",
      "text/plain": [
       "<Figure size 432x288 with 1 Axes>"
      ]
     },
     "metadata": {
      "needs_background": "light"
     },
     "output_type": "display_data"
    }
   ],
   "source": [
    "sns.distplot(np.log(df.A_MEDIAN))"
   ]
  },
  {
   "cell_type": "markdown",
   "metadata": {},
   "source": [
    "# Data Analysis"
   ]
  },
  {
   "cell_type": "code",
   "execution_count": 18,
   "metadata": {},
   "outputs": [],
   "source": [
    "df['log_A_MEAN'] = df.A_MEAN.apply(np.log)"
   ]
  },
  {
   "cell_type": "code",
   "execution_count": 19,
   "metadata": {},
   "outputs": [
    {
     "name": "stdout",
     "output_type": "stream",
     "text": [
      "                            OLS Regression Results                            \n",
      "==============================================================================\n",
      "Dep. Variable:            Probability   R-squared:                       0.326\n",
      "Model:                            OLS   Adj. R-squared:                  0.325\n",
      "Method:                 Least Squares   F-statistic:                     329.2\n",
      "Date:                Sat, 30 May 2020   Prob (F-statistic):           2.67e-60\n",
      "Time:                        12:34:33   Log-Likelihood:                -150.83\n",
      "No. Observations:                 682   AIC:                             305.7\n",
      "Df Residuals:                     680   BIC:                             314.7\n",
      "Df Model:                           1                                         \n",
      "Covariance Type:            nonrobust                                         \n",
      "==============================================================================\n",
      "                 coef    std err          t      P>|t|      [0.025      0.975]\n",
      "------------------------------------------------------------------------------\n",
      "Intercept      5.6744      0.283     20.047      0.000       5.119       6.230\n",
      "log_A_MEAN    -0.4747      0.026    -18.144      0.000      -0.526      -0.423\n",
      "==============================================================================\n",
      "Omnibus:                       25.254   Durbin-Watson:                   1.231\n",
      "Prob(Omnibus):                  0.000   Jarque-Bera (JB):               16.875\n",
      "Skew:                          -0.260   Prob(JB):                     0.000217\n",
      "Kurtosis:                       2.431   Cond. No.                         267.\n",
      "==============================================================================\n",
      "\n",
      "Warnings:\n",
      "[1] Standard Errors assume that the covariance matrix of the errors is correctly specified.\n"
     ]
    }
   ],
   "source": [
    "outcome, predictors = patsy.dmatrices('Probability ~ log_A_MEAN', df)\n",
    "model = sm.OLS(outcome, predictors)\n",
    "results = model.fit()\n",
    "\n",
    "print(results.summary())"
   ]
  },
  {
   "cell_type": "code",
   "execution_count": 20,
   "metadata": {},
   "outputs": [
    {
     "data": {
      "text/plain": [
       "<matplotlib.axes._subplots.AxesSubplot at 0x1a210ad190>"
      ]
     },
     "execution_count": 20,
     "metadata": {},
     "output_type": "execute_result"
    },
    {
     "data": {
      "image/png": "[encoded data removed]",
      "text/plain": [
       "<Figure size 432x288 with 1 Axes>"
      ]
     },
     "metadata": {
      "needs_background": "light"
     },
     "output_type": "display_data"
    }
   ],
   "source": [
    "sns.scatterplot(df.Probability, df.log_A_MEAN)"
   ]
  },
  {
   "cell_type": "markdown",
   "metadata": {},
   "source": [
    "## Model Analysis"
   ]
  },
  {
   "cell_type": "code",
   "execution_count": 21,
   "metadata": {},
   "outputs": [],
   "source": [
    "def train_reg(X, Y):\n",
    "    model = LinearRegression()\n",
    "    model.fit(X, Y)\n",
    "    return model"
   ]
  },
  {
   "cell_type": "code",
   "execution_count": 22,
   "metadata": {},
   "outputs": [],
   "source": [
    "# Create separate predictors/outcomes set\n",
    "df_model = df.dropna(subset=['log_A_MEAN'])\n",
    "df_X = df_model[['log_A_MEAN']]\n",
    "df_Y = df_model[['Probability']]\n",
    "\n",
    "#df_X.dropna(inplace=True)\n",
    "#df_Y.dropna(inplace=True)"
   ]
  },
  {
   "cell_type": "code",
   "execution_count": 23,
   "metadata": {},
   "outputs": [
    {
     "name": "stdout",
     "output_type": "stream",
     "text": [
      "len(train_X): 545\n",
      "len(train_Y): 545\n",
      "len(test_X): 137\n",
      "len(train_Y): 137\n"
     ]
    }
   ],
   "source": [
    "# Seperate training and testing data\n",
    "n_training = int(len(df_model)*0.8)\n",
    "\n",
    "train_data_X = df_X[:n_training]\n",
    "train_data_Y = df_Y[:n_training]\n",
    "test_data_X = df_X[n_training:]\n",
    "test_data_Y = df_Y[n_training:]\n",
    "\n",
    "print(\"len(train_X): {}\".format(len(train_data_X)))\n",
    "print(\"len(train_Y): {}\".format(len(train_data_Y)))\n",
    "print(\"len(test_X): {}\".format(len(test_data_X)))\n",
    "print(\"len(train_Y): {}\".format(len(test_data_Y)))"
   ]
  },
  {
   "cell_type": "code",
   "execution_count": 24,
   "metadata": {},
   "outputs": [],
   "source": [
    "# Train models\n",
    "reg_model = train_reg(train_data_X, train_data_Y)"
   ]
  },
  {
   "cell_type": "code",
   "execution_count": 25,
   "metadata": {},
   "outputs": [
    {
     "name": "stdout",
     "output_type": "stream",
     "text": [
      "-864.711028102047\n"
     ]
    }
   ],
   "source": [
    "# Test & analyze test data\n",
    "df_predicted_test_Y_linreg = reg_model.predict(test_data_X)\n",
    "\n",
    "print(reg_model.score(test_data_Y, df_predicted_test_Y_linreg))"
   ]
  }
 ],
 "metadata": {
  "kernelspec": {
   "display_name": "Python 3",
   "language": "python",
   "name": "python3"
  },
  "language_info": {
   "codemirror_mode": {
    "name": "ipython",
    "version": 3
   },
   "file_extension": ".py",
   "mimetype": "text/x-python",
   "name": "python",
   "nbconvert_exporter": "python",
   "pygments_lexer": "ipython3",
   "version": "3.7.6"
  }
 },
 "nbformat": 4,
 "nbformat_minor": 4
}
