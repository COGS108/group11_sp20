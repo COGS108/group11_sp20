{
 "cells": [
  {
   "cell_type": "markdown",
   "metadata": {},
   "source": [
    "## Datasets\n",
    "- Unemployment information, table(s) 11b: https://www.bls.gov/cps/tables.htm"
   ]
  },
  {
   "cell_type": "code",
   "execution_count": 1,
   "metadata": {},
   "outputs": [],
   "source": [
    "import pandas as pd\n",
    "import seaborn as sns\n",
    "import numpy as np\n",
    "import requests\n",
    "import os\n",
    "from datetime import date"
   ]
  },
  {
   "cell_type": "code",
   "execution_count": 2,
   "metadata": {},
   "outputs": [],
   "source": [
    "if not os.path.isdir('../blsdata'):\n",
    "    !mkdir blsdata\n",
    "    print('directory created')"
   ]
  },
  {
   "cell_type": "code",
   "execution_count": 3,
   "metadata": {},
   "outputs": [],
   "source": [
    "# Function tidy-izes the data\n",
    "def organize(df, year):\n",
    "    df = df[7:]\n",
    "    df = df.rename(columns={df.columns[0]: 'Occupation', df.columns[1]: 'Total{}'.format(year)})\n",
    "    df.dropna(inplace=True)\n",
    "    df.reset_index(inplace=True)\n",
    "    df = df[['Occupation', 'Total{}'.format(year)]]\n",
    "\n",
    "    \n",
    "    return df"
   ]
  },
  {
   "cell_type": "code",
   "execution_count": 4,
   "metadata": {},
   "outputs": [],
   "source": [
    "def download_file(year, file_prefix, url, directory=''):\n",
    "    # If the file to grab is from last year (the most recent), it will have a different link structure\n",
    "    if year != (date.today().year - 1):\n",
    "        r = requests.get(url + str(year) + '/cpsaat11b.xlsx', allow_redirects=True)\n",
    "    else:\n",
    "        r = requests.get('https://www.bls.gov/cps/cpsaat11b.xlsx', allow_redirects=True)\n",
    "    \n",
    "    open('{}/{}{}.xlsx'.format(directory,file_prefix,year), 'wb').write(r.content)"
   ]
  },
  {
   "cell_type": "code",
   "execution_count": 5,
   "metadata": {},
   "outputs": [],
   "source": [
    "# Downloads the files if not already downloaded\n",
    "directory = 'blsdata'\n",
    "file_prefix = 'cpsaat11b'\n",
    "for year in range(2011, 2020):\n",
    "    if os.path.isfile('{}/{}{}'.format(directory, file_prefix, year)):\n",
    "        download_file(year, file_prefix, 'https://www.bls.gov/cps/aa', directory)\n",
    "        print('{} data downloaded'.format(year))"
   ]
  },
  {
   "cell_type": "code",
   "execution_count": 6,
   "metadata": {},
   "outputs": [],
   "source": [
    "# Creates and cleans dataframes for the year\n",
    "employment2013 = organize(pd.read_excel('../blsdata/cpsaat11b2013.xlsx'), 2013)\n",
    "employment2014 = organize(pd.read_excel('../blsdata/cpsaat11b2014.xlsx'), 2014)\n",
    "employment2015 = organize(pd.read_excel('../blsdata/cpsaat11b2015.xlsx'), 2015)\n",
    "employment2016 = organize(pd.read_excel('../blsdata/cpsaat11b2016.xlsx'), 2016)\n",
    "employment2017 = organize(pd.read_excel('../blsdata/cpsaat11b2017.xlsx'), 2017)\n",
    "employment2018 = organize(pd.read_excel('../blsdata/cpsaat11b2018.xlsx'), 2018)\n",
    "employment2019 = organize(pd.read_excel('../blsdata/cpsaat11b2019.xlsx'), 2019)"
   ]
  },
  {
   "cell_type": "code",
   "execution_count": 7,
   "metadata": {},
   "outputs": [
    {
     "data": {
      "text/html": [
       "<div>\n",
       "<style scoped>\n",
       "    .dataframe tbody tr th:only-of-type {\n",
       "        vertical-align: middle;\n",
       "    }\n",
       "\n",
       "    .dataframe tbody tr th {\n",
       "        vertical-align: top;\n",
       "    }\n",
       "\n",
       "    .dataframe thead th {\n",
       "        text-align: right;\n",
       "    }\n",
       "</style>\n",
       "<table border=\"1\" class=\"dataframe\">\n",
       "  <thead>\n",
       "    <tr style=\"text-align: right;\">\n",
       "      <th></th>\n",
       "      <th>Occupation</th>\n",
       "      <th>Total2016</th>\n",
       "    </tr>\n",
       "  </thead>\n",
       "  <tbody>\n",
       "    <tr>\n",
       "      <th>0</th>\n",
       "      <td>Management, professional, and related occupations</td>\n",
       "      <td>59438</td>\n",
       "    </tr>\n",
       "    <tr>\n",
       "      <th>1</th>\n",
       "      <td>Management, business, and financial operations...</td>\n",
       "      <td>24941</td>\n",
       "    </tr>\n",
       "    <tr>\n",
       "      <th>2</th>\n",
       "      <td>Management occupations</td>\n",
       "      <td>17418</td>\n",
       "    </tr>\n",
       "    <tr>\n",
       "      <th>3</th>\n",
       "      <td>Chief executives</td>\n",
       "      <td>1649</td>\n",
       "    </tr>\n",
       "    <tr>\n",
       "      <th>4</th>\n",
       "      <td>General and operations managers</td>\n",
       "      <td>949</td>\n",
       "    </tr>\n",
       "  </tbody>\n",
       "</table>\n",
       "</div>"
      ],
      "text/plain": [
       "                                          Occupation Total2016\n",
       "0  Management, professional, and related occupations     59438\n",
       "1  Management, business, and financial operations...     24941\n",
       "2                             Management occupations     17418\n",
       "3                                   Chief executives      1649\n",
       "4                    General and operations managers       949"
      ]
     },
     "execution_count": 7,
     "metadata": {},
     "output_type": "execute_result"
    }
   ],
   "source": [
    "# Look at the data\n",
    "employment2016.head()"
   ]
  },
  {
   "cell_type": "code",
   "execution_count": 8,
   "metadata": {
    "scrolled": true
   },
   "outputs": [
    {
     "data": {
      "text/html": [
       "<div>\n",
       "<style scoped>\n",
       "    .dataframe tbody tr th:only-of-type {\n",
       "        vertical-align: middle;\n",
       "    }\n",
       "\n",
       "    .dataframe tbody tr th {\n",
       "        vertical-align: top;\n",
       "    }\n",
       "\n",
       "    .dataframe thead th {\n",
       "        text-align: right;\n",
       "    }\n",
       "</style>\n",
       "<table border=\"1\" class=\"dataframe\">\n",
       "  <thead>\n",
       "    <tr style=\"text-align: right;\">\n",
       "      <th></th>\n",
       "      <th>Occupation</th>\n",
       "      <th>Total2017</th>\n",
       "    </tr>\n",
       "  </thead>\n",
       "  <tbody>\n",
       "    <tr>\n",
       "      <th>0</th>\n",
       "      <td>Management, professional, and related occupations</td>\n",
       "      <td>60901</td>\n",
       "    </tr>\n",
       "    <tr>\n",
       "      <th>1</th>\n",
       "      <td>Management, business, and financial operations...</td>\n",
       "      <td>25379</td>\n",
       "    </tr>\n",
       "    <tr>\n",
       "      <th>2</th>\n",
       "      <td>Management occupations</td>\n",
       "      <td>17804</td>\n",
       "    </tr>\n",
       "    <tr>\n",
       "      <th>3</th>\n",
       "      <td>Chief executives</td>\n",
       "      <td>1639</td>\n",
       "    </tr>\n",
       "    <tr>\n",
       "      <th>4</th>\n",
       "      <td>General and operations managers</td>\n",
       "      <td>1005</td>\n",
       "    </tr>\n",
       "  </tbody>\n",
       "</table>\n",
       "</div>"
      ],
      "text/plain": [
       "                                          Occupation Total2017\n",
       "0  Management, professional, and related occupations     60901\n",
       "1  Management, business, and financial operations...     25379\n",
       "2                             Management occupations     17804\n",
       "3                                   Chief executives      1639\n",
       "4                    General and operations managers      1005"
      ]
     },
     "execution_count": 8,
     "metadata": {},
     "output_type": "execute_result"
    }
   ],
   "source": [
    "# Continue looking at the data\n",
    "employment2017.head()"
   ]
  },
  {
   "cell_type": "code",
   "execution_count": 9,
   "metadata": {},
   "outputs": [],
   "source": [
    "# Merge each dataframe into one frame\n",
    "employment = pd.merge(pd.merge(employment2013, pd.merge(employment2014, employment2015)), pd.merge(pd.merge(employment2016, employment2017), pd.merge(employment2018, employment2019)))"
   ]
  },
  {
   "cell_type": "code",
   "execution_count": 10,
   "metadata": {},
   "outputs": [
    {
     "data": {
      "text/html": [
       "<div>\n",
       "<style scoped>\n",
       "    .dataframe tbody tr th:only-of-type {\n",
       "        vertical-align: middle;\n",
       "    }\n",
       "\n",
       "    .dataframe tbody tr th {\n",
       "        vertical-align: top;\n",
       "    }\n",
       "\n",
       "    .dataframe thead th {\n",
       "        text-align: right;\n",
       "    }\n",
       "</style>\n",
       "<table border=\"1\" class=\"dataframe\">\n",
       "  <thead>\n",
       "    <tr style=\"text-align: right;\">\n",
       "      <th></th>\n",
       "      <th>Occupation</th>\n",
       "      <th>Total2013</th>\n",
       "      <th>Total2014</th>\n",
       "      <th>Total2015</th>\n",
       "      <th>Total2016</th>\n",
       "      <th>Total2017</th>\n",
       "      <th>Total2018</th>\n",
       "      <th>Total2019</th>\n",
       "    </tr>\n",
       "  </thead>\n",
       "  <tbody>\n",
       "    <tr>\n",
       "      <th>0</th>\n",
       "      <td>Management, professional, and related occupations</td>\n",
       "      <td>54712</td>\n",
       "      <td>56050</td>\n",
       "      <td>57960</td>\n",
       "      <td>59438</td>\n",
       "      <td>60901</td>\n",
       "      <td>62436</td>\n",
       "      <td>64218</td>\n",
       "    </tr>\n",
       "    <tr>\n",
       "      <th>1</th>\n",
       "      <td>Management, business, and financial operations...</td>\n",
       "      <td>22794</td>\n",
       "      <td>23171</td>\n",
       "      <td>24108</td>\n",
       "      <td>24941</td>\n",
       "      <td>25379</td>\n",
       "      <td>25850</td>\n",
       "      <td>26981</td>\n",
       "    </tr>\n",
       "    <tr>\n",
       "      <th>2</th>\n",
       "      <td>Management occupations</td>\n",
       "      <td>16037</td>\n",
       "      <td>16199</td>\n",
       "      <td>16994</td>\n",
       "      <td>17418</td>\n",
       "      <td>17804</td>\n",
       "      <td>18263</td>\n",
       "      <td>18985</td>\n",
       "    </tr>\n",
       "    <tr>\n",
       "      <th>3</th>\n",
       "      <td>Chief executives</td>\n",
       "      <td>1520</td>\n",
       "      <td>1603</td>\n",
       "      <td>1517</td>\n",
       "      <td>1649</td>\n",
       "      <td>1639</td>\n",
       "      <td>1573</td>\n",
       "      <td>1602</td>\n",
       "    </tr>\n",
       "    <tr>\n",
       "      <th>4</th>\n",
       "      <td>General and operations managers</td>\n",
       "      <td>1075</td>\n",
       "      <td>887</td>\n",
       "      <td>899</td>\n",
       "      <td>949</td>\n",
       "      <td>1005</td>\n",
       "      <td>1037</td>\n",
       "      <td>1058</td>\n",
       "    </tr>\n",
       "  </tbody>\n",
       "</table>\n",
       "</div>"
      ],
      "text/plain": [
       "                                          Occupation Total2013 Total2014  \\\n",
       "0  Management, professional, and related occupations     54712     56050   \n",
       "1  Management, business, and financial operations...     22794     23171   \n",
       "2                             Management occupations     16037     16199   \n",
       "3                                   Chief executives      1520      1603   \n",
       "4                    General and operations managers      1075       887   \n",
       "\n",
       "  Total2015 Total2016 Total2017 Total2018 Total2019  \n",
       "0     57960     59438     60901     62436     64218  \n",
       "1     24108     24941     25379     25850     26981  \n",
       "2     16994     17418     17804     18263     18985  \n",
       "3      1517      1649      1639      1573      1602  \n",
       "4       899       949      1005      1037      1058  "
      ]
     },
     "execution_count": 10,
     "metadata": {},
     "output_type": "execute_result"
    }
   ],
   "source": [
    "# Look at the data, again\n",
    "employment.head()"
   ]
  }
 ],
 "metadata": {
  "kernelspec": {
   "display_name": "Python 3",
   "language": "python",
   "name": "python3"
  },
  "language_info": {
   "codemirror_mode": {
    "name": "ipython",
    "version": 3
   },
   "file_extension": ".py",
   "mimetype": "text/x-python",
   "name": "python",
   "nbconvert_exporter": "python",
   "pygments_lexer": "ipython3",
   "version": "3.7.6"
  }
 },
 "nbformat": 4,
 "nbformat_minor": 4
}
