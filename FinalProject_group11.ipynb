{
 "cells": [
  {
   "cell_type": "markdown",
   "metadata": {},
   "source": [
    "# COGS 108 - Final Project "
   ]
  },
  {
   "cell_type": "markdown",
   "metadata": {},
   "source": [
    "## Permissions"
   ]
  },
  {
   "cell_type": "markdown",
   "metadata": {},
   "source": [
    "Place an `X` in the appropriate bracket below to specify if you would like your group's project to be made available to the public. (Note that PIDs will be scraped from the public submission, but student names will be included.)\n",
    "\n",
    "* [  ] YES - make available\n",
    "* [  ] NO - keep private"
   ]
  },
  {
   "cell_type": "markdown",
   "metadata": {},
   "source": [
    "# Overview"
   ]
  },
  {
   "cell_type": "markdown",
   "metadata": {},
   "source": [
    "*Fill in your overview here*"
   ]
  },
  {
   "cell_type": "markdown",
   "metadata": {},
   "source": [
    "# Names\n",
    "\n",
    "- Michael Baluja\n",
    "- Griffin Mittleman\n",
    "- Deepkiran Sangha\n",
    "- Hannah Williams"
   ]
  },
  {
   "cell_type": "markdown",
   "metadata": {},
   "source": [
    "# Group Members IDs\n",
    "\n",
    "- A14499660\n",
    "- A15734955\n",
    "- A15096006\n",
    "- A16112910"
   ]
  },
  {
   "cell_type": "markdown",
   "metadata": {},
   "source": [
    "# Research Question"
   ]
  },
  {
   "cell_type": "markdown",
   "metadata": {},
   "source": [
    "*Fill in your research question here*"
   ]
  },
  {
   "cell_type": "markdown",
   "metadata": {},
   "source": [
    "## Background and Prior Work"
   ]
  },
  {
   "cell_type": "markdown",
   "metadata": {},
   "source": [
    "*Fill in your background and prior work here* \n",
    "\n",
    "References (include links):\n",
    "- 1)\n",
    "- 2)"
   ]
  },
  {
   "cell_type": "markdown",
   "metadata": {},
   "source": [
    "# Hypothesis\n"
   ]
  },
  {
   "cell_type": "markdown",
   "metadata": {},
   "source": [
    "*Fill in your hypotheses here*"
   ]
  },
  {
   "cell_type": "markdown",
   "metadata": {},
   "source": [
    "# Dataset(s)"
   ]
  },
  {
   "cell_type": "markdown",
   "metadata": {},
   "source": [
    "Outline: (Delete before final submission!)\n",
    "*Fill in your dataset information here*\n",
    "\n",
    "(Copy this information for each dataset)\n",
    "- Dataset Name:\n",
    "- Link to the dataset:\n",
    "- Number of observations:\n",
    "\n",
    "1-2 sentences describing each dataset. \n",
    "\n",
    "If you plan to use multiple datasets, add 1-2 sentences about how you plan to combine these datasets.\n",
    "\n",
    "Dataset 1:\n",
    "- Dataset Name: Occupations by State and Likelihood of Automation\n",
    "- Link to the dataset: https://data.world/wnedds/occupations-by-state-and-likelihood-of-automation\n",
    "- Number of observations: 702 (1 per occupation)\n",
    "\n",
    "This dataset includes job title, OCC code (used to categorize), probability of occupation, and number of employees per state\n",
    "\n",
    "Dataset 2:\n",
    "- Dataset Name: Wage by Occupation\n",
    "- Link to the dataset: https://data.world/quanticdata/occupation-and-salary-by-state-and-likelihood-of-automation/workspace/file?filename=national_M2016_dl.xlsx\n",
    "- Number of observations: 1394\n",
    "\n",
    "This dataset includes job titles, OCC code, and various wage metrics per occupation (salary vs hourly, average pay, statistics for these fields, North American Industry Classification System code, employee number data, etc)\n",
    "\n",
    "Dataset 3:\n",
    "- Dataset Name: Employment by State\n",
    "- Link to the dataset: https://www.bea.gov/data/employment/employment-by-state\n",
    "- Number of observations: 51 (states + DC)\n",
    "\n",
    "This dataset includes the number of employees present per state in any given year.\n",
    "\n",
    "Dataset 4:\n",
    "- Dataset Name: Employed persons by detailed occupation and age (table 11b)\n",
    "- Link to the dataset:  https://www.bls.gov/cps/tables.htm\n",
    "- Number of observations: 567\n",
    "\n",
    "These datasets (collected for years between 2013 and 2019) show the number of employees per occupation by age group, and gives the total number of employees per occupation.\n",
    "\n",
    "Datasets 1,2 provide information by occupations will be combined by their OCC code, since it is the most standard metric they share (note: some datasets have different occupation name string formatting, so this is not as easily used). Since we mostly want to consider this data in terms of probability of automation, data from Dataset 2 will only be kept if there is a corresponding OCC code in Dataset 1. Dataset 3 is used to turn the number of employees per occupation per state in Dataset 1 into fractions so we can look at relative numbers of employement as opposed to absolute numbers. \n",
    "\n",
    "The 7 datasets from Dataset 4 (corresponding to 2013-2019 data) will be combined in order to calculate the change in employment over the 7 year period. This data will be combined by Dataset 1 by OCC code in order to investigate the relationship between job field growth and likelihood of automation for that job field."
   ]
  },
  {
   "cell_type": "markdown",
   "metadata": {},
   "source": [
    "# Setup"
   ]
  },
  {
   "cell_type": "code",
   "execution_count": 1,
   "metadata": {},
   "outputs": [],
   "source": [
    "import pandas as pd\n",
    "import seaborn as sns\n",
    "import numpy as np\n",
    "import matplotlib.pyplot as plt\n",
    "import patsy\n",
    "import statsmodels.api as sm\n",
    "import plotly.graph_objects as go\n",
    "from scipy import stats\n",
    "from copy import copy\n",
    "from scipy.stats import normaltest"
   ]
  },
  {
   "cell_type": "code",
   "execution_count": 2,
   "metadata": {},
   "outputs": [],
   "source": [
    "states = ['Alabama', 'Alaska', 'Arizona', 'Arkansas', 'California', 'Colorado', 'Connecticut', 'Delaware', \n",
    "          'District of Columbia', 'Florida', 'Georgia', 'Hawaii', 'Idaho', 'Illinois','Indiana', 'Iowa', 'Kansas', \n",
    "          'Kentucky', 'Louisiana', 'Maine', 'Maryland', 'Massachusetts', 'Michigan', 'Minnesota', 'Mississippi', \n",
    "          'Missouri', 'Montana', 'Nebraska', 'Nevada', 'New Hampshire', 'New Jersey', 'New Mexico', 'New York', \n",
    "          'North Carolina', 'North Dakota', 'Ohio', 'Oklahoma', 'Oregon', 'Pennsylvania', 'Rhode Island', \n",
    "          'South Carolina', 'South Dakota', 'Tennessee', 'Texas', 'Utah', 'Vermont', 'Virginia', 'Washington', \n",
    "          'West Virginia', 'Wisconsin', 'Wyoming']\n",
    "\n",
    "states_abbv = ['AL', 'AK', 'AZ', 'AR', 'CA', 'CO', 'CT', 'DC', 'DE', 'FL', 'GA', \n",
    "               'HI', 'ID', 'IL', 'IN', 'IA', 'KS', 'KY', 'LA', 'ME', 'MD', \n",
    "               'MA', 'MI', 'MN', 'MS', 'MO', 'MT', 'NE', 'NV', 'NH', 'NJ', \n",
    "               'NM', 'NY', 'NC', 'ND', 'OH', 'OK', 'OR', 'PA', 'RI', 'SC', \n",
    "               'SD', 'TN', 'TX', 'UT', 'VT', 'VA', 'WA', 'WV', 'WI', 'WY']"
   ]
  },
  {
   "cell_type": "markdown",
   "metadata": {},
   "source": [
    "# Data Cleaning"
   ]
  },
  {
   "cell_type": "markdown",
   "metadata": {},
   "source": [
    "Describe your data cleaning steps here."
   ]
  },
  {
   "cell_type": "markdown",
   "metadata": {},
   "source": [
    "**How ‘clean’ is the data?**\n",
    "Our data are clean in that they were provided by reputable sources who provided the data in a format without any unnecessary variables, null data, etc. For one of the datasets, some wage information was represented by a * or #, with the * meaning not enough data was available for inclusion, and the # meaning wage exceeded $200,000/yr\n",
    "\n",
    "**What did you have to do to get the data into a usable format?**\n",
    "\n",
    "Since some datasets were read in from excel datasheets, it was necessary to clean this data by removing the first few rows (title information), renaming the columns for proper identification, and resetting the index since the first n rows were removed. It was also necessary to remove additional columns that were not related to the dataframe, but were added for structural purposes in the excel datasheet.\n",
    "\n",
    "Some dataframes required transposing/reshaping in order to more easily work with the data.\n",
    "\n",
    "\n",
    "**What pre-processing steps were required for your methods?**\n",
    "\n",
    "For our state analysis, it was necessary to transpose our data in the beginning, since the variables in the original dataset were now to be used as observations in this new dataset. An additional transformation was made to “normalize” the number of employees in each column by dividing them by the total number of workers per state.\n",
    "\n",
    "We checked the distribution of variables such as probability of automation, wage, and employment percent change.\n",
    "\n",
    "For the data in Datasets 4, we needed to drop all non-total employee rows and merge the 7 datasets into one set.\n",
    "\n",
    "For the individual occupation wage analysis, it was necessary to drop most columns. We included occ code, annual mean wage, and occupation. The resulting dataset was merged with Dataset 1 by occ code so we could easily compare the likelihood of automation and the annual mean wage.\n"
   ]
  },
  {
   "cell_type": "code",
   "execution_count": 3,
   "metadata": {},
   "outputs": [],
   "source": [
    "# Function tidy-izes the data\n",
    "def organize(df, year):\n",
    "    df = df[7:]\n",
    "    df = df.rename(columns={df.columns[0]: 'Occupation', df.columns[1]: 'Total{}'.format(year)})\n",
    "    df.dropna(inplace=True)\n",
    "    df.reset_index(inplace=True)\n",
    "    df = df[['Occupation', 'Total{}'.format(year)]]\n",
    "\n",
    "    \n",
    "    return df"
   ]
  },
  {
   "cell_type": "code",
   "execution_count": 4,
   "metadata": {},
   "outputs": [],
   "source": [
    "# Creating the pertinent DataFrames\n",
    "df_prob = pd.read_csv('datasets/raw_state_automation_data.csv', encoding='cp1252')\n",
    "df_employment = pd.read_excel('datasets/employmentbystate.xls')\n",
    "df_wages = pd.read_excel('datasets/wagedata.xlsx')\n",
    "unemployment = pd.read_csv('datasets/USunemployment.csv')\n",
    "economyData = pd.read_csv('datasets/economy-and-growth-indicators-for-united-states-1.csv')\n",
    "economyState = pd.read_csv('datasets/SAEMP25N__ALL_AREAS_1998_2018.csv')\n",
    "income = pd.read_csv('datasets/PARPI_PORT_2008_2017.csv')\n",
    "\n",
    "employment2011 = organize(pd.read_excel('datasets/blsdata/cpsaat11b2011.xlsx'), 2011)\n",
    "employment2012 = organize(pd.read_excel('datasets/blsdata/cpsaat11b2012.xlsx'), 2012)\n",
    "employment2013 = organize(pd.read_excel('datasets/blsdata/cpsaat11b2013.xlsx'), 2013)\n",
    "employment2014 = organize(pd.read_excel('datasets/blsdata/cpsaat11b2014.xlsx'), 2014)\n",
    "employment2015 = organize(pd.read_excel('datasets/blsdata/cpsaat11b2015.xlsx'), 2015)\n",
    "employment2016 = organize(pd.read_excel('datasets/blsdata/cpsaat11b2016.xlsx'), 2016)\n",
    "employment2017 = organize(pd.read_excel('datasets/blsdata/cpsaat11b2017.xlsx'), 2017)\n",
    "employment2018 = organize(pd.read_excel('datasets/blsdata/cpsaat11b2018.xlsx'), 2018)\n",
    "employment2019 = organize(pd.read_excel('datasets/blsdata/cpsaat11b2019.xlsx'), 2019)\n",
    "\n",
    "employment = pd.merge(pd.merge(employment2011, employment2012), \\\n",
    "                      pd.merge(pd.merge(employment2013, pd.merge(employment2014, employment2015)), \\\n",
    "                               pd.merge(pd.merge(employment2016, employment2017), \\\n",
    "                                        pd.merge(employment2018, employment2019))))"
   ]
  },
  {
   "cell_type": "code",
   "execution_count": 5,
   "metadata": {},
   "outputs": [],
   "source": [
    "## Cleaning - occ_by_state\n",
    "# Structure main dataset\n",
    "df_prob.sort_values(by=['SOC'], inplace=True)\n",
    "\n",
    "# Standardize Occupation column between datasets\n",
    "employment['Occupation'] = employment['Occupation'].apply(lambda x: x.title())\n",
    "df_prob['Occupation'] = df_prob['Occupation'].apply(lambda x: x.title())\n",
    "\n",
    "# Create trimmed dataset\n",
    "df_prob_trim = df_prob[['SOC', 'Occupation', 'Probability']]\n",
    "\n",
    "# Include employment info\n",
    "df_prob_trim = pd.merge(df_prob_trim, employment)\n",
    "\n",
    "# Add percent change based on 2013 to 2019 data\n",
    "df_prob_trim['percent_change'] = (df_prob_trim.Total2019 - df_prob_trim.Total2013)/df_prob_trim.Total2013"
   ]
  },
  {
   "cell_type": "code",
   "execution_count": 6,
   "metadata": {},
   "outputs": [],
   "source": [
    "## Cleaning - wageanalysis\n",
    "#Remove unnecessary wage data\n",
    "df_wages = df_wages[['OCC_CODE', 'OCC_TITLE', 'A_MEAN']]\n",
    "df_wages.rename(columns={'OCC_CODE':'SOC', 'OCC_TITLE':'Occupation'},inplace=True)\n",
    "\n",
    "# Create combined probability & wages dataset\n",
    "df_probwages = pd.merge(df_prob, df_wages, how='left', left_on='SOC', right_on='SOC')\n",
    "\n",
    "# Drop rows if no mean wage info\n",
    "# * is used to represent occupation with insufficient data\n",
    "df_probwages = df_probwages[df_probwages.A_MEAN != '*']\n",
    "\n",
    "# Remove any null income values\n",
    "df_probwages.dropna(inplace=True,subset=['A_MEAN'])\n",
    "df_probwages = df_probwages.reset_index()\n",
    "\n",
    "# Rest of values should be numeric, so transform\n",
    "df_probwages.A_MEAN = pd.to_numeric(df_probwages.A_MEAN)\n",
    "\n",
    "# Add log mean income \n",
    "df_probwages['log_A_MEAN'] = df_probwages.A_MEAN.apply(np.log)"
   ]
  },
  {
   "cell_type": "code",
   "execution_count": 7,
   "metadata": {},
   "outputs": [],
   "source": [
    "## Cleaning - state_analysis\n",
    "# Clean employment data\n",
    "df_employment = df_employment[5:]\n",
    "df_employment.dropna(inplace=True)\n",
    "df_employment = df_employment.rename(columns={df_employment.columns[1]:'State', df_employment.columns[2]:'Employment'})\n",
    "df_employment.reset_index(inplace=True)\n",
    "df_employment = df_employment[['State', 'Employment']]\n",
    "df_employment.Employment = df_employment.Employment.astype(int)\n",
    "\n",
    "# Reshape data to easily apply later transformation\n",
    "df_employment = df_employment.transpose()\n",
    "df_employment.columns = df_employment.iloc[0]\n",
    "df_employment = df_employment.iloc[1:]\n",
    "\n",
    "# Transform employment data to reflect employment relative to population\n",
    "df_prob_normed = copy(df_prob)\n",
    "for state in states:\n",
    "    df_prob_normed[state] = df_prob_normed[state].apply(lambda x: x/df_employment[state])\n",
    "\n",
    "# Don't need SOC values, so remove\n",
    "#df_prob.drop(columns=['SOC'],inplace=True)"
   ]
  },
  {
   "cell_type": "code",
   "execution_count": 8,
   "metadata": {},
   "outputs": [],
   "source": [
    "income = income[['GeoName', 'LineCode','2008', '2009', '2010', '2011', '2012', '2013', '2014' , '2015', '2016', '2017']]\n",
    "income = income[income.LineCode == 1.0]\n",
    "income = income.loc[income.index > 0]"
   ]
  },
  {
   "cell_type": "code",
   "execution_count": 9,
   "metadata": {},
   "outputs": [],
   "source": [
    "income = income.reset_index()\n",
    "income = income.drop('index', 1)"
   ]
  },
  {
   "cell_type": "code",
   "execution_count": 13,
   "metadata": {},
   "outputs": [],
   "source": [
    "N = 2\n",
    "totalIn = income.groupby(income.index // N).sum()\n"
   ]
  },
  {
   "cell_type": "code",
   "execution_count": 14,
   "metadata": {},
   "outputs": [],
   "source": [
    "totalIn['change'] = totalIn['2017'] - totalIn['2008']\n",
    "totalIn['change'] = totalIn['change'] / totalIn['2008']"
   ]
  },
  {
   "cell_type": "markdown",
   "metadata": {},
   "source": [
    "# Data Analysis & Results"
   ]
  },
  {
   "cell_type": "markdown",
   "metadata": {},
   "source": [
    "## Employment Analysis"
   ]
  },
  {
   "cell_type": "markdown",
   "metadata": {},
   "source": [
    "### EDA"
   ]
  },
  {
   "cell_type": "markdown",
   "metadata": {},
   "source": [
    "**Distributions**\n",
    "\n",
    "Our probability of automation variable is bound between 0-1 with a bimodal distribution. The peaks occur at the two boundaries. While the left boundary has a higher peak, the right mode carries more weight.\n",
    "\n",
    "Our variable representing the percent change in employment between 2013 and 2019 follows a relatively normal unimodal distribution with few mini-peaks that do not change the shape drastically. This distribution is slightly right-skewed.\n",
    "\n",
    "**Outliers**\n",
    "\n",
    "While there is a relatively smooth distribution outside of the boundary peaks, there is a non-modal peak in the 0.35-0.40 probability bin.\n",
    "\n",
    "There is a percent change outlier right around 4 (400% percent change). This corresponds to Transit And Railroad Police, which grew from 1,000 to 5,000 employees.\n",
    "\n",
    "**Relationship between variables**\n",
    "\n",
    "There is a very poor (horizontal) linear relation between the probability of automation and change in employment between 2013 and 2019. There is a stronger linear relationship between log annual income and probability of automation."
   ]
  },
  {
   "cell_type": "code",
   "execution_count": 15,
   "metadata": {},
   "outputs": [
    {
     "data": {
      "text/plain": [
       "<matplotlib.axes._subplots.AxesSubplot at 0x219837a9ec8>"
      ]
     },
     "execution_count": 15,
     "metadata": {},
     "output_type": "execute_result"
    },
    {
     "data": {
      "image/png": "[encoded data removed]",
      "text/plain": [
       "<Figure size 432x288 with 1 Axes>"
      ]
     },
     "metadata": {
      "needs_background": "light"
     },
     "output_type": "display_data"
    }
   ],
   "source": [
    "# Distribution of probability of automation\n",
    "sns.distplot(df_prob.Probability, bins=20)"
   ]
  },
  {
   "cell_type": "code",
   "execution_count": 16,
   "metadata": {},
   "outputs": [
    {
     "data": {
      "text/plain": [
       "<matplotlib.axes._subplots.AxesSubplot at 0x219835b7208>"
      ]
     },
     "execution_count": 16,
     "metadata": {},
     "output_type": "execute_result"
    },
    {
     "data": {
      "image/png": "[encoded data removed]",
      "text/plain": [
       "<Figure size 432x288 with 1 Axes>"
      ]
     },
     "metadata": {
      "needs_background": "light"
     },
     "output_type": "display_data"
    }
   ],
   "source": [
    "# Distribution of percent change in employment\n",
    "sns.distplot(df_prob_trim.percent_change)"
   ]
  },
  {
   "cell_type": "code",
   "execution_count": 17,
   "metadata": {},
   "outputs": [
    {
     "data": {
      "text/html": [
       "<div>\n",
       "<style scoped>\n",
       "    .dataframe tbody tr th:only-of-type {\n",
       "        vertical-align: middle;\n",
       "    }\n",
       "\n",
       "    .dataframe tbody tr th {\n",
       "        vertical-align: top;\n",
       "    }\n",
       "\n",
       "    .dataframe thead th {\n",
       "        text-align: right;\n",
       "    }\n",
       "</style>\n",
       "<table border=\"1\" class=\"dataframe\">\n",
       "  <thead>\n",
       "    <tr style=\"text-align: right;\">\n",
       "      <th></th>\n",
       "      <th>SOC</th>\n",
       "      <th>Occupation</th>\n",
       "      <th>Probability</th>\n",
       "      <th>Total2011</th>\n",
       "      <th>Total2012</th>\n",
       "      <th>Total2013</th>\n",
       "      <th>Total2014</th>\n",
       "      <th>Total2015</th>\n",
       "      <th>Total2016</th>\n",
       "      <th>Total2017</th>\n",
       "      <th>Total2018</th>\n",
       "      <th>Total2019</th>\n",
       "      <th>percent_change</th>\n",
       "    </tr>\n",
       "  </thead>\n",
       "  <tbody>\n",
       "    <tr>\n",
       "      <th>121</th>\n",
       "      <td>33-3052</td>\n",
       "      <td>Transit And Railroad Police</td>\n",
       "      <td>0.57</td>\n",
       "      <td>8</td>\n",
       "      <td>3</td>\n",
       "      <td>1</td>\n",
       "      <td>3</td>\n",
       "      <td>1</td>\n",
       "      <td>2</td>\n",
       "      <td>7</td>\n",
       "      <td>2</td>\n",
       "      <td>5</td>\n",
       "      <td>4</td>\n",
       "    </tr>\n",
       "  </tbody>\n",
       "</table>\n",
       "</div>"
      ],
      "text/plain": [
       "         SOC                   Occupation  Probability Total2011 Total2012  \\\n",
       "121  33-3052  Transit And Railroad Police         0.57         8         3   \n",
       "\n",
       "    Total2013 Total2014 Total2015 Total2016 Total2017 Total2018 Total2019  \\\n",
       "121         1         3         1         2         7         2         5   \n",
       "\n",
       "    percent_change  \n",
       "121              4  "
      ]
     },
     "execution_count": 17,
     "metadata": {},
     "output_type": "execute_result"
    }
   ],
   "source": [
    "# Investigate outlier\n",
    "df_prob_trim[df_prob_trim.percent_change >= 3.5]"
   ]
  },
  {
   "cell_type": "code",
   "execution_count": 18,
   "metadata": {},
   "outputs": [
    {
     "name": "stdout",
     "output_type": "stream",
     "text": [
      "7.761901649323115e-42\n"
     ]
    }
   ],
   "source": [
    "# Determine normality of percent_change\n",
    "k2, p = stats.normaltest(df_prob_trim.percent_change)\n",
    "print(p)"
   ]
  },
  {
   "cell_type": "code",
   "execution_count": 19,
   "metadata": {},
   "outputs": [
    {
     "data": {
      "text/plain": [
       "<matplotlib.axes._subplots.AxesSubplot at 0x21983533d48>"
      ]
     },
     "execution_count": 19,
     "metadata": {},
     "output_type": "execute_result"
    },
    {
     "data": {
      "image/png": "[encoded data removed]",
      "text/plain": [
       "<Figure size 432x288 with 1 Axes>"
      ]
     },
     "metadata": {
      "needs_background": "light"
     },
     "output_type": "display_data"
    }
   ],
   "source": [
    "# Plot the percent change vs Probability of employment\n",
    "sns.scatterplot(df_prob_trim.Probability, df_prob_trim.percent_change)"
   ]
  },
  {
   "cell_type": "markdown",
   "metadata": {},
   "source": [
    "### Analysis"
   ]
  },
  {
   "cell_type": "markdown",
   "metadata": {},
   "source": [
    "**What approaches did you use? Why?**\n",
    "\n",
    "We analyze the relationship between percent change in employment and probability of automation using an OLS Linear Regression model. This method of analysis was chosen because there is a relatively linear relationship between the two variables.\n",
    "\n",
    "**What were the results?**\n",
    "\n",
    "The results from our analysis of the relationship between percent change in employment and the probability of automation shows inconclusive results. Due to the bimodal distribution of the probability of automation, our data was not properly distributed for this type of regression. Further attempts to normalize the data did not prove to be successful.\n",
    "\n",
    "**What were your interpretation of these findings?**\n",
    "\n",
    "Although the findings from the relation between employment percent change and automation did not prove to be conclusive of anything, we initially interpreted these results to show that the likelihood (probability) of automation is a complex factor with many contributing factors, and as such, we could not analyze it solely by looking at one possible contributor. This led to a breadth of comparisons being done in order to better understand the likelihood of automation."
   ]
  },
  {
   "cell_type": "code",
   "execution_count": 20,
   "metadata": {},
   "outputs": [
    {
     "name": "stdout",
     "output_type": "stream",
     "text": [
      "                            OLS Regression Results                            \n",
      "==============================================================================\n",
      "Dep. Variable:            Probability   R-squared:                       0.856\n",
      "Model:                            OLS   Adj. R-squared:                 -0.061\n",
      "Method:                 Least Squares   F-statistic:                    0.9333\n",
      "Date:                Wed, 10 Jun 2020   Prob (F-statistic):              0.633\n",
      "Time:                        08:51:54   Log-Likelihood:                 143.79\n",
      "No. Observations:                 274   AIC:                             186.4\n",
      "Df Residuals:                      37   BIC:                             1043.\n",
      "Df Model:                         236                                         \n",
      "Covariance Type:            nonrobust                                         \n",
      "===========================================================================================================\n",
      "                                              coef    std err          t      P>|t|      [0.025      0.975]\n",
      "-----------------------------------------------------------------------------------------------------------\n",
      "Intercept                                   0.5025      0.159      3.159      0.003       0.180       0.825\n",
      "percent_change[T.-0.8]                      0.4675      0.421      1.111      0.274      -0.385       1.320\n",
      "percent_change[T.-0.6976744186046512]       0.4875      0.421      1.158      0.254      -0.365       1.340\n",
      "percent_change[T.-0.6923076923076923]       0.3875      0.421      0.921      0.363      -0.465       1.240\n",
      "percent_change[T.-0.6666666666666666]       0.1075      0.421      0.255      0.800      -0.745       0.960\n",
      "percent_change[T.-0.6190476190476191]       0.4375      0.421      1.040      0.305      -0.415       1.290\n",
      "percent_change[T.-0.6]                     -0.0080      0.318     -0.025      0.980      -0.653       0.637\n",
      "percent_change[T.-0.5555555555555556]       0.3375      0.421      0.802      0.428      -0.515       1.190\n",
      "percent_change[T.-0.55]                     0.3175      0.421      0.754      0.455      -0.535       1.170\n",
      "percent_change[T.-0.5454545454545454]       0.3575      0.421      0.850      0.401      -0.495       1.210\n",
      "percent_change[T.-0.5333333333333333]       0.0175      0.421      0.042      0.967      -0.835       0.870\n",
      "percent_change[T.-0.5]                      0.0075      0.318      0.024      0.981      -0.637       0.652\n",
      "percent_change[T.-0.4731182795698925]       0.4875      0.421      1.158      0.254      -0.365       1.340\n",
      "percent_change[T.-0.46153846153846156]      0.1775      0.318      0.558      0.580      -0.467       0.822\n",
      "percent_change[T.-0.43564356435643564]      0.3075      0.421      0.731      0.470      -0.545       1.160\n",
      "percent_change[T.-0.42857142857142855]      0.3875      0.421      0.921      0.363      -0.465       1.240\n",
      "percent_change[T.-0.4074074074074074]       0.1475      0.421      0.351      0.728      -0.705       1.000\n",
      "percent_change[T.-0.375]                   -0.3225      0.421     -0.766      0.448      -1.175       0.530\n",
      "percent_change[T.-0.36666666666666664]      0.3275      0.421      0.778      0.441      -0.525       1.180\n",
      "percent_change[T.-0.3446327683615819]       0.4475      0.421      1.063      0.294      -0.405       1.300\n",
      "percent_change[T.-0.3333333333333333]       0.4125      0.318      1.297      0.203      -0.232       1.057\n",
      "percent_change[T.-0.31906614785992216]      0.4675      0.421      1.111      0.274      -0.385       1.320\n",
      "percent_change[T.-0.31088082901554404]      0.3275      0.421      0.778      0.441      -0.525       1.180\n",
      "percent_change[T.-0.30952380952380953]      0.4175      0.421      0.992      0.328      -0.435       1.270\n",
      "percent_change[T.-0.2857142857142857]       0.3742      0.275      1.358      0.183      -0.184       0.932\n",
      "percent_change[T.-0.2782608695652174]      -0.4981      0.421     -1.184      0.244      -1.351       0.355\n",
      "percent_change[T.-0.27586206896551724]     -0.4989      0.421     -1.185      0.243      -1.352       0.354\n",
      "percent_change[T.-0.2727272727272727]      -0.3425      0.421     -0.814      0.421      -1.195       0.510\n",
      "percent_change[T.-0.25925925925925924]      0.4475      0.421      1.063      0.294      -0.405       1.300\n",
      "percent_change[T.-0.25595238095238093]      0.4075      0.421      0.968      0.339      -0.445       1.260\n",
      "percent_change[T.-0.25]                    -0.4385      0.421     -1.042      0.304      -1.291       0.414\n",
      "percent_change[T.-0.24242424242424243]     -0.4845      0.421     -1.151      0.257      -1.337       0.368\n",
      "percent_change[T.-0.24210526315789474]      0.2775      0.421      0.659      0.514      -0.575       1.130\n",
      "percent_change[T.-0.2222222222222222]       0.0475      0.421      0.113      0.911      -0.805       0.900\n",
      "percent_change[T.-0.21212121212121213]      0.0875      0.421      0.208      0.836      -0.765       0.940\n",
      "percent_change[T.-0.21153846153846154]      0.3875      0.421      0.921      0.363      -0.465       1.240\n",
      "percent_change[T.-0.2032520325203252]       0.4775      0.421      1.135      0.264      -0.375       1.330\n",
      "percent_change[T.-0.20168067226890757]      0.0375      0.421      0.089      0.929      -0.815       0.890\n",
      "percent_change[T.-0.2]                      0.3275      0.421      0.778      0.441      -0.525       1.180\n",
      "percent_change[T.-0.19760479041916168]      0.2075      0.421      0.493      0.625      -0.645       1.060\n",
      "percent_change[T.-0.19444444444444445]      0.3175      0.421      0.754      0.455      -0.535       1.170\n",
      "percent_change[T.-0.18566775244299674]      0.4875      0.421      1.158      0.254      -0.365       1.340\n",
      "percent_change[T.-0.1774193548387097]       0.4375      0.421      1.040      0.305      -0.415       1.290\n",
      "percent_change[T.-0.16666666666666666]     -0.0543      0.275     -0.197      0.845      -0.612       0.504\n",
      "percent_change[T.-0.15384615384615385]      0.4875      0.421      1.158      0.254      -0.365       1.340\n",
      "percent_change[T.-0.14814814814814814]      0.3375      0.421      0.802      0.428      -0.515       1.190\n",
      "percent_change[T.-0.14754098360655737]     -0.0125      0.421     -0.030      0.976      -0.865       0.840\n",
      "percent_change[T.-0.14444444444444443]     -0.2825      0.421     -0.671      0.506      -1.135       0.570\n",
      "percent_change[T.-0.14285714285714285]      0.1425      0.318      0.448      0.657      -0.502       0.787\n",
      "percent_change[T.-0.13815789473684212]      0.4775      0.421      1.135      0.264      -0.375       1.330\n",
      "percent_change[T.-0.13043478260869565]     -0.1325      0.421     -0.315      0.755      -0.985       0.720\n",
      "percent_change[T.-0.12857142857142856]      0.3875      0.421      0.921      0.363      -0.465       1.240\n",
      "percent_change[T.-0.125]                   -0.0508      0.318     -0.160      0.874      -0.695       0.594\n",
      "percent_change[T.-0.12292358803986711]      0.2675      0.421      0.636      0.529      -0.585       1.120\n",
      "percent_change[T.-0.12]                     0.4875      0.421      1.158      0.254      -0.365       1.340\n",
      "percent_change[T.-0.11827956989247312]      0.1975      0.421      0.469      0.642      -0.655       1.050\n",
      "percent_change[T.-0.1]                      0.3275      0.421      0.778      0.441      -0.525       1.180\n",
      "percent_change[T.-0.09090909090909091]      0.0575      0.318      0.181      0.858      -0.587       0.702\n",
      "percent_change[T.-0.08333333333333333]      0.4275      0.421      1.016      0.316      -0.425       1.280\n",
      "percent_change[T.-0.08196721311475409]      0.0675      0.421      0.160      0.873      -0.785       0.920\n",
      "percent_change[T.-0.08053691275167785]     -0.3225      0.421     -0.766      0.448      -1.175       0.530\n",
      "percent_change[T.-0.07731958762886598]      0.1475      0.421      0.351      0.728      -0.705       1.000\n",
      "percent_change[T.-0.07692307692307693]      0.3875      0.421      0.921      0.363      -0.465       1.240\n",
      "percent_change[T.-0.07645875251509054]      0.4575      0.421      1.087      0.284      -0.395       1.310\n",
      "percent_change[T.-0.0761904761904762]      -0.2525      0.421     -0.600      0.552      -1.105       0.600\n",
      "percent_change[T.-0.07157464212678936]     -0.0225      0.421     -0.053      0.958      -0.875       0.830\n",
      "percent_change[T.-0.07142857142857142]     -0.1125      0.421     -0.267      0.791      -0.965       0.740\n",
      "percent_change[T.-0.06944444444444445]     -0.4855      0.421     -1.154      0.256      -1.338       0.367\n",
      "percent_change[T.-0.06896551724137931]      0.4675      0.421      1.111      0.274      -0.385       1.320\n",
      "percent_change[T.-0.06666666666666667]      0.4375      0.318      1.375      0.177      -0.207       1.082\n",
      "percent_change[T.-0.06578947368421052]     -0.4265      0.421     -1.013      0.317      -1.279       0.426\n",
      "percent_change[T.-0.0627177700348432]       0.4775      0.421      1.135      0.264      -0.375       1.330\n",
      "percent_change[T.-0.06172839506172839]      0.2075      0.421      0.493      0.625      -0.645       1.060\n",
      "percent_change[T.-0.05778894472361809]      0.1475      0.421      0.351      0.728      -0.705       1.000\n",
      "percent_change[T.-0.056818181818181816]     0.3675      0.421      0.873      0.388      -0.485       1.220\n",
      "percent_change[T.-0.055865921787709494]     0.4075      0.421      0.968      0.339      -0.445       1.260\n",
      "percent_change[T.-0.043478260869565216]    -0.0770      0.318     -0.242      0.810      -0.722       0.568\n",
      "percent_change[T.-0.04181951577402788]     -0.4885      0.421     -1.161      0.253      -1.341       0.364\n",
      "percent_change[T.-0.04048964218455744]      0.4375      0.421      1.040      0.305      -0.415       1.290\n",
      "percent_change[T.-0.04]                     0.4475      0.421      1.063      0.294      -0.405       1.300\n",
      "percent_change[T.-0.039603960396039604]     0.4675      0.421      1.111      0.274      -0.385       1.320\n",
      "percent_change[T.-0.03869969040247678]      0.4175      0.421      0.992      0.328      -0.435       1.270\n",
      "percent_change[T.-0.03225806451612903]      0.2475      0.421      0.588      0.560      -0.605       1.100\n",
      "percent_change[T.-0.03008130081300813]     -0.4185      0.421     -0.994      0.326      -1.271       0.434\n",
      "percent_change[T.-0.02926829268292683]     -0.4725      0.421     -1.123      0.269      -1.325       0.380\n",
      "percent_change[T.-0.02865761689291101]      0.4575      0.421      1.087      0.284      -0.395       1.310\n",
      "percent_change[T.-0.027777777777777776]    -0.4984      0.421     -1.184      0.244      -1.351       0.354\n",
      "percent_change[T.-0.027658266748617086]     0.4675      0.421      1.111      0.274      -0.385       1.320\n",
      "percent_change[T.-0.02]                    -0.4475      0.421     -1.063      0.295      -1.300       0.405\n",
      "percent_change[T.-0.019704433497536946]    -0.4335      0.421     -1.030      0.310      -1.286       0.419\n",
      "percent_change[T.-0.019230769230769232]     0.2175      0.421      0.517      0.608      -0.635       1.070\n",
      "percent_change[T.-0.018518518518518517]     0.4575      0.421      1.087      0.284      -0.395       1.310\n",
      "percent_change[T.-0.01581395348837209]     -0.3425      0.421     -0.814      0.421      -1.195       0.510\n",
      "percent_change[T.-0.011627906976744186]     0.4175      0.421      0.992      0.328      -0.435       1.270\n",
      "percent_change[T.-0.011494252873563218]    -0.1325      0.421     -0.315      0.755      -0.985       0.720\n",
      "percent_change[T.-0.00641025641025641]      0.4675      0.421      1.111      0.274      -0.385       1.320\n",
      "percent_change[T.0.0]                       0.1279      0.217      0.590      0.559      -0.311       0.567\n",
      "percent_change[T.0.002652519893899204]      0.1375      0.421      0.327      0.746      -0.715       0.990\n",
      "percent_change[T.0.0027924294135898233]    -0.2225      0.421     -0.529      0.600      -1.075       0.630\n",
      "percent_change[T.0.00546448087431694]      -0.0125      0.421     -0.030      0.976      -0.865       0.840\n",
      "percent_change[T.0.007317073170731708]     -0.4944      0.421     -1.175      0.248      -1.347       0.358\n",
      "percent_change[T.0.015503875968992248]     -0.3625      0.421     -0.861      0.395      -1.215       0.490\n",
      "percent_change[T.0.017921146953405017]      0.0075      0.421      0.018      0.986      -0.845       0.860\n",
      "percent_change[T.0.01818181818181818]      -0.4365      0.421     -1.037      0.306      -1.289       0.416\n",
      "percent_change[T.0.019698725376593278]      0.0875      0.421      0.208      0.836      -0.765       0.940\n",
      "percent_change[T.0.025134649910233394]      0.4275      0.421      1.016      0.316      -0.425       1.280\n",
      "percent_change[T.0.02702702702702703]       0.2275      0.421      0.541      0.592      -0.625       1.080\n",
      "percent_change[T.0.027538726333907058]      0.1275      0.421      0.303      0.764      -0.725       0.980\n",
      "percent_change[T.0.029411764705882353]     -0.0725      0.421     -0.172      0.864      -0.925       0.780\n",
      "percent_change[T.0.032520325203252036]      0.0675      0.421      0.160      0.873      -0.785       0.920\n",
      "percent_change[T.0.03773584905660377]       0.3375      0.421      0.802      0.428      -0.515       1.190\n",
      "percent_change[T.0.0379746835443038]       -0.1625      0.421     -0.386      0.702      -1.015       0.690\n",
      "percent_change[T.0.0392156862745098]       -0.3325      0.421     -0.790      0.435      -1.185       0.520\n",
      "percent_change[T.0.039603960396039604]      0.1275      0.421      0.303      0.764      -0.725       0.980\n",
      "percent_change[T.0.04]                      0.3275      0.421      0.778      0.441      -0.525       1.180\n",
      "percent_change[T.0.044444444444444446]     -0.4815      0.421     -1.144      0.260      -1.334       0.371\n",
      "percent_change[T.0.04746835443037975]       0.1775      0.421      0.422      0.676      -0.675       1.030\n",
      "percent_change[T.0.04878048780487805]      -0.3625      0.421     -0.861      0.395      -1.215       0.490\n",
      "percent_change[T.0.049663299663299666]     -0.4275      0.421     -1.016      0.316      -1.280       0.425\n",
      "percent_change[T.0.05042016806722689]      -0.4885      0.421     -1.161      0.253      -1.341       0.364\n",
      "percent_change[T.0.05172413793103448]      -0.4755      0.421     -1.130      0.266      -1.328       0.377\n",
      "percent_change[T.0.05281941470378301]       0.1875      0.421      0.446      0.658      -0.665       1.040\n",
      "percent_change[T.0.05394736842105263]      -0.4875      0.421     -1.158      0.254      -1.340       0.365\n",
      "percent_change[T.0.055597867479055596]     -0.4705      0.421     -1.118      0.271      -1.323       0.382\n",
      "percent_change[T.0.058027079303675046]      0.1475      0.421      0.351      0.728      -0.705       1.000\n",
      "percent_change[T.0.06395348837209303]       0.0375      0.421      0.089      0.929      -0.815       0.890\n",
      "percent_change[T.0.06493506493506493]      -0.4035      0.421     -0.959      0.344      -1.256       0.449\n",
      "percent_change[T.0.06534090909090909]       0.4475      0.421      1.063      0.294      -0.405       1.300\n",
      "percent_change[T.0.0703125]                -0.4725      0.421     -1.123      0.269      -1.325       0.380\n",
      "percent_change[T.0.07142857142857142]      -0.4845      0.421     -1.151      0.257      -1.337       0.368\n",
      "percent_change[T.0.07339449541284404]      -0.4915      0.421     -1.168      0.250      -1.344       0.361\n",
      "percent_change[T.0.07407407407407407]       0.4775      0.421      1.135      0.264      -0.375       1.330\n",
      "percent_change[T.0.07655502392344497]      -0.4645      0.421     -1.104      0.277      -1.317       0.388\n",
      "percent_change[T.0.0784313725490196]       -0.4635      0.421     -1.101      0.278      -1.316       0.389\n",
      "percent_change[T.0.07874015748031496]       0.2975      0.421      0.707      0.484      -0.555       1.150\n",
      "percent_change[T.0.08082408874801902]      -0.3325      0.421     -0.790      0.435      -1.185       0.520\n",
      "percent_change[T.0.08163265306122448]      -0.4725      0.421     -1.123      0.269      -1.325       0.380\n",
      "percent_change[T.0.08269018743109151]       0.4375      0.421      1.040      0.305      -0.415       1.290\n",
      "percent_change[T.0.08637873754152824]      -0.4675      0.421     -1.111      0.274      -1.320       0.385\n",
      "percent_change[T.0.08695652173913043]      -0.0925      0.421     -0.220      0.827      -0.945       0.760\n",
      "percent_change[T.0.08823529411764706]       0.0575      0.421      0.137      0.892      -0.795       0.910\n",
      "percent_change[T.0.09090909090909091]      -0.4925      0.421     -1.170      0.249      -1.345       0.360\n",
      "percent_change[T.0.09316770186335403]       0.4375      0.421      1.040      0.305      -0.415       1.290\n",
      "percent_change[T.0.09359605911330049]       0.3975      0.421      0.945      0.351      -0.455       1.250\n",
      "percent_change[T.0.09523809523809523]      -0.2025      0.421     -0.481      0.633      -1.055       0.650\n",
      "percent_change[T.0.0981012658227848]        0.2275      0.421      0.541      0.592      -0.625       1.080\n",
      "percent_change[T.0.09900990099009901]       0.4375      0.421      1.040      0.305      -0.415       1.290\n",
      "percent_change[T.0.10144927536231885]       0.3875      0.421      0.921      0.363      -0.465       1.240\n",
      "percent_change[T.0.10344827586206896]       0.2675      0.421      0.636      0.529      -0.585       1.120\n",
      "percent_change[T.0.10996563573883161]       0.2175      0.421      0.517      0.608      -0.635       1.070\n",
      "percent_change[T.0.1111111111111111]       -0.4997      0.421     -1.187      0.243      -1.352       0.353\n",
      "percent_change[T.0.11270983213429256]       0.2675      0.421      0.636      0.529      -0.585       1.120\n",
      "percent_change[T.0.11529411764705882]      -0.4025      0.421     -0.956      0.345      -1.255       0.450\n",
      "percent_change[T.0.11702127659574468]       0.4875      0.421      1.158      0.254      -0.365       1.340\n",
      "percent_change[T.0.11764705882352941]      -0.4115      0.421     -0.978      0.335      -1.264       0.441\n",
      "percent_change[T.0.12102351313969571]      -0.4935      0.421     -1.173      0.248      -1.346       0.359\n",
      "percent_change[T.0.12790697674418605]      -0.1925      0.421     -0.457      0.650      -1.045       0.660\n",
      "percent_change[T.0.13043478260869565]       0.1775      0.421      0.422      0.676      -0.675       1.030\n",
      "percent_change[T.0.13286713286713286]      -0.4986      0.421     -1.185      0.244      -1.351       0.354\n",
      "percent_change[T.0.13291139240506328]       0.3875      0.421      0.921      0.363      -0.465       1.240\n",
      "percent_change[T.0.13553113553113552]      -0.4675      0.421     -1.111      0.274      -1.320       0.385\n",
      "percent_change[T.0.13675213675213677]      -0.4055      0.421     -0.964      0.342      -1.258       0.447\n",
      "percent_change[T.0.14285714285714285]       0.4525      0.318      1.422      0.163      -0.192       1.097\n",
      "percent_change[T.0.1545827633378933]       -0.4865      0.421     -1.156      0.255      -1.339       0.366\n",
      "percent_change[T.0.15726495726495726]      -0.4952      0.421     -1.177      0.247      -1.348       0.358\n",
      "percent_change[T.0.15970287836583102]      -0.4195      0.421     -0.997      0.325      -1.272       0.433\n",
      "percent_change[T.0.16363636363636364]      -0.4986      0.421     -1.185      0.244      -1.351       0.354\n",
      "percent_change[T.0.16494845360824742]       0.3675      0.421      0.873      0.388      -0.485       1.220\n",
      "percent_change[T.0.16666666666666666]       0.3825      0.318      1.202      0.237      -0.262       1.027\n",
      "percent_change[T.0.17045454545454544]      -0.4535      0.421     -1.078      0.288      -1.306       0.399\n",
      "percent_change[T.0.17139334155363747]      -0.3725      0.421     -0.885      0.382      -1.225       0.480\n",
      "percent_change[T.0.17142857142857143]       0.4175      0.421      0.992      0.328      -0.435       1.270\n",
      "percent_change[T.0.17391304347826086]       0.2375      0.421      0.564      0.576      -0.615       1.090\n",
      "percent_change[T.0.17558886509635974]      -0.4983      0.421     -1.184      0.244      -1.351       0.354\n",
      "percent_change[T.0.17857142857142858]      -0.2925      0.421     -0.695      0.491      -1.145       0.560\n",
      "percent_change[T.0.1875]                   -0.4675      0.421     -1.111      0.274      -1.320       0.385\n",
      "percent_change[T.0.19148936170212766]       0.4775      0.421      1.135      0.264      -0.375       1.330\n",
      "percent_change[T.0.19540229885057472]      -0.4645      0.421     -1.104      0.277      -1.317       0.388\n",
      "percent_change[T.0.21071863580998781]      -0.4315      0.421     -1.025      0.312      -1.284       0.421\n",
      "percent_change[T.0.21428571428571427]      -0.4990      0.421     -1.186      0.243      -1.352       0.354\n",
      "percent_change[T.0.2192090395480226]        0.3675      0.421      0.873      0.388      -0.485       1.220\n",
      "percent_change[T.0.2222222222222222]       -0.4775      0.421     -1.135      0.264      -1.330       0.375\n",
      "percent_change[T.0.23076923076923078]      -0.1625      0.421     -0.386      0.702      -1.015       0.690\n",
      "percent_change[T.0.23104693140794225]      -0.4905      0.421     -1.166      0.251      -1.343       0.362\n",
      "percent_change[T.0.23118279569892472]      -0.4445      0.421     -1.056      0.298      -1.297       0.408\n",
      "percent_change[T.0.23344610923151282]       0.0475      0.421      0.113      0.911      -0.805       0.900\n",
      "percent_change[T.0.23369565217391305]      -0.4725      0.421     -1.123      0.269      -1.325       0.380\n",
      "percent_change[T.0.23595505617977527]      -0.1525      0.421     -0.362      0.719      -1.005       0.700\n",
      "percent_change[T.0.23893805309734514]       0.3175      0.421      0.754      0.455      -0.535       1.170\n",
      "percent_change[T.0.24]                     -0.4805      0.421     -1.142      0.261      -1.333       0.372\n",
      "percent_change[T.0.24157303370786518]      -0.4960      0.421     -1.179      0.246      -1.349       0.357\n",
      "percent_change[T.0.24675324675324675]       0.1575      0.421      0.374      0.710      -0.695       1.010\n",
      "percent_change[T.0.25]                     -0.2688      0.275     -0.976      0.336      -0.827       0.289\n",
      "percent_change[T.0.25205479452054796]      -0.3525      0.421     -0.838      0.408      -1.205       0.500\n",
      "percent_change[T.0.2727272727272727]       -0.4855      0.421     -1.154      0.256      -1.338       0.367\n",
      "percent_change[T.0.27540500736377027]       0.3675      0.421      0.873      0.388      -0.485       1.220\n",
      "percent_change[T.0.2857142857142857]        0.1475      0.421      0.351      0.728      -0.705       1.000\n",
      "percent_change[T.0.3]                       0.1975      0.421      0.469      0.642      -0.655       1.050\n",
      "percent_change[T.0.30131004366812225]      -0.2025      0.421     -0.481      0.633      -1.055       0.650\n",
      "percent_change[T.0.31386861313868614]      -0.4961      0.421     -1.179      0.246      -1.349       0.357\n",
      "percent_change[T.0.3194444444444444]       -0.4835      0.421     -1.149      0.258      -1.336       0.369\n",
      "percent_change[T.0.32727272727272727]      -0.4875      0.421     -1.158      0.254      -1.340       0.365\n",
      "percent_change[T.0.3333333333333333]       -0.1550      0.318     -0.487      0.629      -0.800       0.490\n",
      "percent_change[T.0.3352864583333333]        0.3775      0.421      0.897      0.375      -0.475       1.230\n",
      "percent_change[T.0.3469387755102041]        0.3275      0.421      0.778      0.441      -0.525       1.180\n",
      "percent_change[T.0.35294117647058826]      -0.4962      0.421     -1.179      0.246      -1.349       0.357\n",
      "percent_change[T.0.35714285714285715]      -0.4815      0.421     -1.144      0.260      -1.334       0.371\n",
      "percent_change[T.0.3611111111111111]        0.2175      0.421      0.517      0.608      -0.635       1.070\n",
      "percent_change[T.0.3829787234042553]        0.4175      0.421      0.992      0.328      -0.435       1.270\n",
      "percent_change[T.0.4027777777777778]       -0.2825      0.421     -0.671      0.506      -1.135       0.570\n",
      "percent_change[T.0.41566265060240964]      -0.4958      0.421     -1.178      0.246      -1.348       0.357\n",
      "percent_change[T.0.4262295081967213]       -0.4855      0.421     -1.154      0.256      -1.338       0.367\n",
      "percent_change[T.0.4386422976501306]        0.0775      0.421      0.184      0.855      -0.775       0.930\n",
      "percent_change[T.0.4482758620689655]        0.4675      0.421      1.111      0.274      -0.385       1.320\n",
      "percent_change[T.0.4489795918367347]        0.4775      0.421      1.135      0.264      -0.375       1.330\n",
      "percent_change[T.0.4657534246575342]       -0.4970      0.421     -1.181      0.245      -1.350       0.356\n",
      "percent_change[T.0.475]                     0.3575      0.421      0.850      0.401      -0.495       1.210\n",
      "percent_change[T.0.5]                       0.1942      0.275      0.705      0.485      -0.364       0.752\n",
      "percent_change[T.0.5282051282051282]       -0.4225      0.421     -1.004      0.322      -1.275       0.430\n",
      "percent_change[T.0.5311203319502075]        0.1075      0.421      0.255      0.800      -0.745       0.960\n",
      "percent_change[T.0.6176470588235294]        0.1075      0.421      0.255      0.800      -0.745       0.960\n",
      "percent_change[T.0.6283185840707964]        0.2275      0.421      0.541      0.592      -0.625       1.080\n",
      "percent_change[T.0.6914285714285714]        0.3175      0.421      0.754      0.455      -0.535       1.170\n",
      "percent_change[T.0.75]                     -0.4465      0.318     -1.404      0.169      -1.091       0.198\n",
      "percent_change[T.0.8740157480314961]       -0.3725      0.421     -0.885      0.382      -1.225       0.480\n",
      "percent_change[T.1.0]                      -0.1025      0.251     -0.407      0.686      -0.612       0.407\n",
      "percent_change[T.1.0303030303030303]        0.4375      0.421      1.040      0.305      -0.415       1.290\n",
      "percent_change[T.1.1022727272727273]        0.4075      0.421      0.968      0.339      -0.445       1.260\n",
      "percent_change[T.1.2727272727272727]       -0.4655      0.421     -1.106      0.276      -1.318       0.387\n",
      "percent_change[T.1.3372781065088757]        0.3875      0.421      0.921      0.363      -0.465       1.240\n",
      "percent_change[T.1.4166666666666667]        0.1575      0.421      0.374      0.710      -0.695       1.010\n",
      "percent_change[T.1.5]                       0.4575      0.318      1.438      0.159      -0.187       1.102\n",
      "percent_change[T.1.5714285714285714]        0.3675      0.421      0.873      0.388      -0.485       1.220\n",
      "percent_change[T.2.0]                      -0.0540      0.318     -0.170      0.866      -0.699       0.591\n",
      "percent_change[T.2.2857142857142856]       -0.2725      0.421     -0.647      0.521      -1.125       0.580\n",
      "percent_change[T.2.5]                       0.3675      0.421      0.873      0.388      -0.485       1.220\n",
      "percent_change[T.4.0]                       0.0675      0.421      0.160      0.873      -0.785       0.920\n",
      "==============================================================================\n",
      "Omnibus:                       46.265   Durbin-Watson:                   1.970\n",
      "Prob(Omnibus):                  0.000   Jarque-Bera (JB):              414.458\n",
      "Skew:                          -0.244   Prob(JB):                     1.00e-90\n",
      "Kurtosis:                       9.005   Cond. No.                         106.\n",
      "==============================================================================\n",
      "\n",
      "Warnings:\n",
      "[1] Standard Errors assume that the covariance matrix of the errors is correctly specified.\n"
     ]
    }
   ],
   "source": [
    "# Does this data mean anything?\n",
    "# (Hint: No, it doesn't)\n",
    "\n",
    "# NOTE: Data does not meet requirements necessary for testing linearity, but want to take a look \n",
    "\n",
    "outcome, predictors = patsy.dmatrices('Probability ~ percent_change', df_prob_trim)\n",
    "model = sm.OLS(outcome, predictors)\n",
    "results = model.fit()\n",
    "\n",
    "print(results.summary())"
   ]
  },
  {
   "cell_type": "markdown",
   "metadata": {},
   "source": [
    "## Income Analysis"
   ]
  },
  {
   "cell_type": "markdown",
   "metadata": {},
   "source": [
    "### EDA"
   ]
  },
  {
   "cell_type": "markdown",
   "metadata": {},
   "source": [
    "**Distributions**\n",
    "\n",
    "**Outliers**\n"
   ]
  },
  {
   "cell_type": "code",
   "execution_count": 21,
   "metadata": {},
   "outputs": [
    {
     "data": {
      "text/plain": [
       "<matplotlib.axes._subplots.AxesSubplot at 0x219829ce908>"
      ]
     },
     "execution_count": 21,
     "metadata": {},
     "output_type": "execute_result"
    },
    {
     "data": {
      "image/png": "[encoded data removed]",
      "text/plain": [
       "<Figure size 432x288 with 1 Axes>"
      ]
     },
     "metadata": {
      "needs_background": "light"
     },
     "output_type": "display_data"
    }
   ],
   "source": [
    "sns.distplot(totalIn.change)"
   ]
  },
  {
   "cell_type": "code",
   "execution_count": null,
   "metadata": {},
   "outputs": [],
   "source": []
  },
  {
   "cell_type": "markdown",
   "metadata": {},
   "source": [
    "# h"
   ]
  },
  {
   "cell_type": "markdown",
   "metadata": {},
   "source": [
    "### Analysis"
   ]
  },
  {
   "cell_type": "code",
   "execution_count": 24,
   "metadata": {},
   "outputs": [
    {
     "data": {
      "text/plain": [
       "list"
      ]
     },
     "execution_count": 24,
     "metadata": {},
     "output_type": "execute_result"
    }
   ],
   "source": [
    "# Build composite likelihood of unemployment per state\n",
    "state_likelihood = []\n",
    "for state in states:\n",
    "    likelihood = 0\n",
    "    for index in range(len(df_prob)):\n",
    "        likelihood += df_prob['Probability'][index] * df_prob[state][index]\n",
    "    state_likelihood.append(likelihood)"
   ]
  },
  {
   "cell_type": "code",
   "execution_count": 27,
   "metadata": {},
   "outputs": [],
   "source": [
    "statesDF = pd.DataFrame(states)\n",
    "totalIncomeState = totalIn.merge(statesDF, left_index = True, right_index = True)\n",
    "totalIncomeState = totalIncomeState.rename(columns={0: \"State\"})"
   ]
  },
  {
   "cell_type": "code",
   "execution_count": 28,
   "metadata": {},
   "outputs": [
    {
     "data": {
      "text/html": [
       "<div>\n",
       "<style scoped>\n",
       "    .dataframe tbody tr th:only-of-type {\n",
       "        vertical-align: middle;\n",
       "    }\n",
       "\n",
       "    .dataframe tbody tr th {\n",
       "        vertical-align: top;\n",
       "    }\n",
       "\n",
       "    .dataframe thead th {\n",
       "        text-align: right;\n",
       "    }\n",
       "</style>\n",
       "<table border=\"1\" class=\"dataframe\">\n",
       "  <thead>\n",
       "    <tr style=\"text-align: right;\">\n",
       "      <th></th>\n",
       "      <th>Automation</th>\n",
       "      <th>LineCode</th>\n",
       "      <th>2008</th>\n",
       "      <th>2009</th>\n",
       "      <th>2010</th>\n",
       "      <th>2011</th>\n",
       "      <th>2012</th>\n",
       "      <th>2013</th>\n",
       "      <th>2014</th>\n",
       "      <th>2015</th>\n",
       "      <th>2016</th>\n",
       "      <th>2017</th>\n",
       "      <th>change</th>\n",
       "      <th>State</th>\n",
       "    </tr>\n",
       "  </thead>\n",
       "  <tbody>\n",
       "    <tr>\n",
       "      <th>0</th>\n",
       "      <td>1101278.937</td>\n",
       "      <td>2.0</td>\n",
       "      <td>192040.7</td>\n",
       "      <td>189887.4</td>\n",
       "      <td>192990.2</td>\n",
       "      <td>196284.1</td>\n",
       "      <td>197375.7</td>\n",
       "      <td>197179.7</td>\n",
       "      <td>202594.2</td>\n",
       "      <td>210849.5</td>\n",
       "      <td>213127.5</td>\n",
       "      <td>216633.2</td>\n",
       "      <td>0.128059</td>\n",
       "      <td>Alabama</td>\n",
       "    </tr>\n",
       "    <tr>\n",
       "      <th>1</th>\n",
       "      <td>171255.766</td>\n",
       "      <td>2.0</td>\n",
       "      <td>32662.9</td>\n",
       "      <td>32757.8</td>\n",
       "      <td>34959.4</td>\n",
       "      <td>36690.7</td>\n",
       "      <td>37289.6</td>\n",
       "      <td>36679.0</td>\n",
       "      <td>37713.7</td>\n",
       "      <td>39171.7</td>\n",
       "      <td>38141.1</td>\n",
       "      <td>38209.2</td>\n",
       "      <td>0.169804</td>\n",
       "      <td>Alaska</td>\n",
       "    </tr>\n",
       "    <tr>\n",
       "      <th>2</th>\n",
       "      <td>1404832.153</td>\n",
       "      <td>2.0</td>\n",
       "      <td>236684.0</td>\n",
       "      <td>226100.0</td>\n",
       "      <td>229340.8</td>\n",
       "      <td>236651.0</td>\n",
       "      <td>244285.0</td>\n",
       "      <td>248772.8</td>\n",
       "      <td>261293.2</td>\n",
       "      <td>274505.2</td>\n",
       "      <td>283395.4</td>\n",
       "      <td>294477.6</td>\n",
       "      <td>0.244180</td>\n",
       "      <td>Arizona</td>\n",
       "    </tr>\n",
       "  </tbody>\n",
       "</table>\n",
       "</div>"
      ],
      "text/plain": [
       "    Automation  LineCode      2008      2009      2010      2011      2012  \\\n",
       "0  1101278.937       2.0  192040.7  189887.4  192990.2  196284.1  197375.7   \n",
       "1   171255.766       2.0   32662.9   32757.8   34959.4   36690.7   37289.6   \n",
       "2  1404832.153       2.0  236684.0  226100.0  229340.8  236651.0  244285.0   \n",
       "\n",
       "       2013      2014      2015      2016      2017    change    State  \n",
       "0  197179.7  202594.2  210849.5  213127.5  216633.2  0.128059  Alabama  \n",
       "1   36679.0   37713.7   39171.7   38141.1   38209.2  0.169804   Alaska  \n",
       "2  248772.8  261293.2  274505.2  283395.4  294477.6  0.244180  Arizona  "
      ]
     },
     "execution_count": 28,
     "metadata": {},
     "output_type": "execute_result"
    }
   ],
   "source": [
    "likelihoodAutomation = pd.DataFrame(state_likelihood)\n",
    "incomeANDautomation = likelihoodAutomation.merge(totalIncomeState, left_index=True, right_index=True)\n",
    "incomeANDautomation = incomeANDautomation.rename(columns={0: \"Automation\"})\n",
    "incomeANDautomation.head(3)"
   ]
  },
  {
   "cell_type": "code",
   "execution_count": 29,
   "metadata": {},
   "outputs": [
    {
     "data": {
      "image/png": "[encoded data removed]",
      "text/plain": [
       "<Figure size 432x288 with 1 Axes>"
      ]
     },
     "metadata": {
      "needs_background": "light"
     },
     "output_type": "display_data"
    }
   ],
   "source": [
    "sns.scatterplot(incomeANDautomation.Automation, incomeANDautomation.change)\n",
    "ax = sns.regplot(x=\"Automation\", y=\"change\", data=incomeANDautomation)\n",
    "ax.set(title='Job Automation Likelihood vs. Percent Change in Income per State',xlabel='Job Automation Likelihood', ylabel='Percent Change in Income')\n",
    "plt.show()"
   ]
  },
  {
   "cell_type": "code",
   "execution_count": null,
   "metadata": {},
   "outputs": [],
   "source": [
    "outcome2, predictors2 = patsy.dmatrices('Automation ~ change', incomeANDautomation)\n",
    "model2 = sm.OLS(outcome2, predictors2)\n",
    "results2 = model2.fit()\n",
    "\n",
    "print(results2.summary())"
   ]
  },
  {
   "cell_type": "markdown",
   "metadata": {},
   "source": [
    "## Wage Analysis"
   ]
  },
  {
   "cell_type": "markdown",
   "metadata": {},
   "source": [
    "### EDA"
   ]
  },
  {
   "cell_type": "markdown",
   "metadata": {},
   "source": [
    "**Distributions**\n",
    "\n",
    "Our annual mean wage variable takes a right-skewed normal distribution. We remove the skew by applying a natural log function to this data.\n",
    "\n",
    "**Outliers**\n",
    "\n",
    "There is an outlier in annual mean income around $225,000"
   ]
  },
  {
   "cell_type": "code",
   "execution_count": null,
   "metadata": {},
   "outputs": [],
   "source": [
    "# Distribution of annual mean income\n",
    "sns.distplot(df_probwages.A_MEAN)"
   ]
  },
  {
   "cell_type": "code",
   "execution_count": null,
   "metadata": {},
   "outputs": [],
   "source": [
    "# Investigate mean annual income outlier\n",
    "df_probwages[df_probwages.A_MEAN > 225000]"
   ]
  },
  {
   "cell_type": "markdown",
   "metadata": {},
   "source": [
    "We see that these two extremely high paying outliers are both oral health occupations with a low probability of automation"
   ]
  },
  {
   "cell_type": "code",
   "execution_count": null,
   "metadata": {},
   "outputs": [],
   "source": [
    "# Distribution of log annual mean income\n",
    "sns.distplot(np.log(df_probwages.A_MEAN))"
   ]
  },
  {
   "cell_type": "code",
   "execution_count": null,
   "metadata": {},
   "outputs": [],
   "source": [
    "# Test normality of log wage\n",
    "stat_wage_mean_log, p_wage_mean_log = normaltest(df_probwages.log_A_MEAN)\n",
    "print('log mean wage is normally distributed') if p_wage_mean_log < 0.01 else print('log mean wage is NOT normally distributed')"
   ]
  },
  {
   "cell_type": "markdown",
   "metadata": {},
   "source": [
    "### Analysis"
   ]
  },
  {
   "cell_type": "markdown",
   "metadata": {},
   "source": [
    "**What approaches did you use? Why?**\n",
    "\n",
    "We analyze the relationship between log annual income and probability of automation by using an OLS Linear Regression model, because there is a clear linear relationship between these two variables.\n",
    "\n",
    "**What were the results?**\n",
    "\n",
    "The results from our analysis of the relationship between log annual income and the probability of automation provide a P|t| value of 0.000, with an Adjusted R^2 value of 0.330\n",
    "\n",
    "**What were your interpretation of these findings?\n",
    "\n",
    "We interpret the findings between log annual income and probability of income to support our initial hypothesis that lower paying jobs are more likely to suffer from job automation. Although our R^2 value is low from the OLS Regression we performed, our 0.000 p value shows that this data is at least conclusive. We believe that further analysis with additional variables can improve our adjusted R^2 value."
   ]
  },
  {
   "cell_type": "code",
   "execution_count": null,
   "metadata": {},
   "outputs": [],
   "source": [
    "# Regress \n",
    "outcome, predictors = patsy.dmatrices('Probability ~ log_A_MEAN', df_probwages)\n",
    "model = sm.OLS(outcome, predictors)\n",
    "results = model.fit()\n",
    "\n",
    "print(results.summary())"
   ]
  },
  {
   "cell_type": "code",
   "execution_count": null,
   "metadata": {},
   "outputs": [],
   "source": [
    "# Look at ditribution of probability and log annual income\n",
    "sns.scatterplot(df_probwages.Probability, df_probwages.log_A_MEAN)"
   ]
  },
  {
   "cell_type": "markdown",
   "metadata": {},
   "source": [
    "## State Analysis"
   ]
  },
  {
   "cell_type": "markdown",
   "metadata": {},
   "source": [
    "### Analysis"
   ]
  },
  {
   "cell_type": "markdown",
   "metadata": {},
   "source": [
    "**What approaches did you use? Why?**\n",
    "\n",
    "For analysing which jobs are most likely to most contribute to automation, we look at the total number of employees per occupation in each state, and take this as a percent of the total number of working employees in that state. That percentage is then multiplied by the probability of automation, and each state is summed across each occupation in that state. This gives the relative weighted likelihood of automation across each state. We further look at which occupation most contributes to this factor, and organize this data geospatially. We chose to analyze this data in this way because it gave a relative score that allows us to compare each state’s overall probability of automation, instead of having our data skewed by looking at absolute employment values. This method also gives insight on which jobs need further attention in our analyses.\n",
    "\n",
    "**What were the results?**\n",
    "\n",
    "The results from our analysis between likelihood of automation by state show that there are only five different jobs across all 50 states + DC (51 total “areas”) that are the state’s highest contributors towards job automation. These occupations include cashiers, retail workers, administrative assistants, food prep & service workers, and office clerical workers. For 40 out of the 51 areas we analyze, the highest contributing occupation are retail workers. This occupation has an average US wage of around $27,000, which is less than half of the average income for 2016 in which this data were collected, and falls below the first quartile for US workers. We also see that the lowest aggregate probability of automation is in DC, at 29.93\\% total risk of automation. The highest contributor in DC is secretaries.\n",
    "\n",
    "**What were your interpretation of these findings?**\n",
    "\n",
    "We interpret the findings of our state-automation data to support our initial hypothesis that lower-paying jobs will be more susceptible to job automation than higher paying jobs would. Since this statistic is based on the number of employees per occupation, it is necessary to make the distinction that this metric looks at the probability of automation for the highest number of jobs. A job with 100 employees and a .99 probability of automation would have a lower metric than a job with 200 employees and a .99 probability of automation. It is also interesting to consider secretaries in DC. The secretary position is the highest paying occupation from the five highest-contributor occupations. We interpret this under the assumption that a secretary is a relatively common job in DC (with each of the many political positions, among others, requiring at least one secretary). This means that secretaries make up a significant amount of the jobs held in DC, but current technological advancements like digital assistants and phone screenings may soon be capable of automating this position."
   ]
  },
  {
   "cell_type": "code",
   "execution_count": null,
   "metadata": {},
   "outputs": [],
   "source": [
    "# Build composite likelihood of unemployment per state\n",
    "state_likelihood = []\n",
    "df_state_data = pd.DataFrame()\n",
    "for state in states:\n",
    "    likelihood = 0.0\n",
    "    max_likelihood = 0.0\n",
    "    for index in range(len(df_prob)):\n",
    "        new_likelihood = df_prob['Probability'][index] * df_prob_normed[state][index]\n",
    "        likelihood += new_likelihood\n",
    "        if  new_likelihood > max_likelihood:\n",
    "            max_likelihood = new_likelihood\n",
    "            df_state_data[state] = (df_prob.Occupation[index], df_prob[state][index], df_prob.SOC[index])\n",
    "         \n",
    "    state_likelihood.append(likelihood)\n",
    "    #print('state: {}\\n\\t {}'.format(state, likelihood))"
   ]
  },
  {
   "cell_type": "code",
   "execution_count": null,
   "metadata": {},
   "outputs": [],
   "source": [
    "# Transform state data dataframe\n",
    "df_state_data = df_state_data.transpose()\n",
    "df_state_data.rename(columns={0:'Occupation', 1:'Number', 2:'SOC'},inplace=True)"
   ]
  },
  {
   "cell_type": "code",
   "execution_count": null,
   "metadata": {},
   "outputs": [],
   "source": [
    "# Change datatype for number of employees\n",
    "df_state_data.Number = df_state_data.Number.astype(str)"
   ]
  },
  {
   "cell_type": "code",
   "execution_count": null,
   "metadata": {},
   "outputs": [],
   "source": [
    "for occupation in df_state_data.Occupation.unique():\n",
    "    SOC = df_state_data[df_state_data.Occupation == occupation].SOC.unique()[0]\n",
    "    wage = int(df_wages[df_wages.SOC == SOC].A_MEAN.values[0])\n",
    "    n_states = len(df_state_data[df_state_data.Occupation == occupation])\n",
    "    print('Occupation: {}\\n   Wage: {}\\n   Num States: {}'.format(occupation, wage, n_states))"
   ]
  },
  {
   "cell_type": "markdown",
   "metadata": {},
   "source": [
    "From this we can see that an the most overwhelming amount of jobs that will be lost due to automation will occur to retail salespeople. (This analysis looks at the amount of people affected multiplied by the probability of automation)"
   ]
  },
  {
   "cell_type": "markdown",
   "metadata": {},
   "source": [
    "### Data Visualization"
   ]
  },
  {
   "cell_type": "code",
   "execution_count": null,
   "metadata": {
    "scrolled": false
   },
   "outputs": [],
   "source": [
    "# Add text column for hover-info on map\n",
    "df_state_data['text'] = df_state_data.index + '<br>' + \\\n",
    "'Most affected occupation: ' + df_state_data.Occupation + '<br>' + \\\n",
    "'Num employees of occupation in state: ' + df_state_data.Number\n",
    "\n",
    "fig = go.Figure(data=go.Choropleth(\n",
    "    locations=states_abbv, # Spatial coordinates\n",
    "    z = state_likelihood, # Data to be color-coded\n",
    "    locationmode = 'USA-states', # set of locations match entries in `locations`\n",
    "    colorscale = 'blues',\n",
    "    colorbar_title =  \"Automation Probability\",\n",
    "    autocolorscale=False,\n",
    "    text = df_state_data.text\n",
    "))\n",
    "\n",
    "fig.update_layout(\n",
    "    title_text = 'Likelihood of Job Automation by State',\n",
    "    geo_scope='usa', # limite map scope to USA\n",
    ")\n",
    "\n",
    "fig.show()"
   ]
  },
  {
   "cell_type": "markdown",
   "metadata": {},
   "source": [
    "# Ethics & Privacy"
   ]
  },
  {
   "cell_type": "markdown",
   "metadata": {},
   "source": [
    "All of our datasets have been provided by publicly available sources such as data.world, The Bureau of Labor Statistics, or other US Government agencies. Since these data are being provided to the public, we anticipate no restrictions in using it for the purpose of this project. Additionally, no restrictions have been posted for the datasets we are accessing. Much of the data we are using is provided by state or federal governments, which is required by law to provide strong protection for the data that are available to the public. For the data sources that are not guaranteed to do this, we will provide privacy by anonymizing any potentially personal identifiable information. However, we do not anticipate this being an issue, as all the data collected are aggregates that don’t include any potentially personal identifiable information. Occupations with less than 1,000 employees in a certain state were removed from our data.\n",
    "\n",
    "One of our dataset sources, data.world, consists of contributors of various backgrounds and experience levels. This increases the potential for bias, since there is no way of confirming whether the presentation of the data is biased towards fulfilling the contributor’s needs. The user has the option of viewing the contributor’s Kaggle profile and their LinkedIn profiles, but the amount of information that is provided to the user is controlled by the contributor themselves. If we utilize the provided information to confirm the legitimacy of the contributor’s data, we can decrease the chance of potential bias. For our other data source, data.gov, there is a smaller potential of bias given the fact that it is a government source. While we cannot assume that government sources are entirely free of bias, we can assume that it is more of a fair source than non-government sources. Government sources are supposed to be free of affiliation to political parties, which is why we can assume that the data presented has relatively low levels of bias.\n",
    "\n",
    "A potential ethical concern we have considered is data misinformation/misinterpretation. If an individual comes across our analysis without the understanding that this data relies partly on probability instead of concrete metrics, and that this analysis was not conducted by professional Data Scientists, it might lead to the unnecessary spread of fear that one might lose their job to automation, or further contribute to data misinterpretation."
   ]
  },
  {
   "cell_type": "markdown",
   "metadata": {},
   "source": [
    "# Conclusion & Discussion"
   ]
  },
  {
   "cell_type": "markdown",
   "metadata": {},
   "source": [
    "*Fill in your discussion information here*"
   ]
  },
  {
   "cell_type": "markdown",
   "metadata": {},
   "source": [
    "# Team Contributions"
   ]
  },
  {
   "cell_type": "markdown",
   "metadata": {},
   "source": [
    "*Specify who in your group worked on which parts of the project.*\n",
    "\n",
    "Michael:\n",
    "- Cleaning/eda/analysis/viz for employment analysis and state analysis + mean annual income portion of wage analysis\n",
    "- Ethics & Privacy \n",
    "- Datasets 1-4"
   ]
  }
 ],
 "metadata": {
  "kernelspec": {
   "display_name": "Python 3",
   "language": "python",
   "name": "python3"
  },
  "language_info": {
   "codemirror_mode": {
    "name": "ipython",
    "version": 3
   },
   "file_extension": ".py",
   "mimetype": "text/x-python",
   "name": "python",
   "nbconvert_exporter": "python",
   "pygments_lexer": "ipython3",
   "version": "3.7.6"
  }
 },
 "nbformat": 4,
 "nbformat_minor": 4
}
