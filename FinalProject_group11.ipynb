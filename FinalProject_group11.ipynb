{
 "cells": [
  {
   "cell_type": "markdown",
   "metadata": {},
   "source": [
    "# COGS 108 - Final Project "
   ]
  },
  {
   "cell_type": "markdown",
   "metadata": {},
   "source": [
    "### Analysis of contributions towards job automation"
   ]
  },
  {
   "cell_type": "markdown",
   "metadata": {},
   "source": [
    "## Permissions"
   ]
  },
  {
   "cell_type": "markdown",
   "metadata": {},
   "source": [
    "Place an `X` in the appropriate bracket below to specify if you would like your group's project to be made available to the public. (Note that PIDs will be scraped from the public submission, but student names will be included.)\n",
    "\n",
    "* [  ] YES - make available\n",
    "* [  ] NO - keep private"
   ]
  },
  {
   "cell_type": "markdown",
   "metadata": {},
   "source": [
    "# Overview"
   ]
  },
  {
   "cell_type": "markdown",
   "metadata": {},
   "source": [
    "With the United States slated to lose over [1.5 million jobs](https://www.usnews.com/news/economy/articles/2019-06-26/report-robots-will-replace-20-million-manufacturing-jobs-by-2030#:~:text=The%20rise%20of%20robots%20and,jobs%20lost%20in%20China%20alone.) to automation in the next decade alone, the causes of job automation can be a hot topic to many. This project looks at many factors we think will contribute to the probability of a job being automated, including annual and state-level income, the skills required for the job, job field growth over time, and the importance of the job to a state's total workforce. We have seen income does correlate with the likelihood of automation to some extent, low paying jobs will contribute more to state-wide automation."
   ]
  },
  {
   "cell_type": "markdown",
   "metadata": {},
   "source": [
    "# Names\n",
    "\n",
    "- Michael Baluja\n",
    "- Griffin Mittleman\n",
    "- Deepkiran Sangha\n",
    "- Hannah Williams"
   ]
  },
  {
   "cell_type": "markdown",
   "metadata": {},
   "source": [
    "# Group Members IDs\n",
    "\n",
    "- A14499660\n",
    "- A15734955\n",
    "- A15096006\n",
    "- A16112910"
   ]
  },
  {
   "cell_type": "markdown",
   "metadata": {},
   "source": [
    "# Research Question"
   ]
  },
  {
   "cell_type": "markdown",
   "metadata": {},
   "source": [
    "How is the further integration of job automation into the United States’ workforce related to employment salaries, skills, and employment rates across various job industries in the past 25 years?"
   ]
  },
  {
   "cell_type": "markdown",
   "metadata": {},
   "source": [
    "## Background and Prior Work"
   ]
  },
  {
   "cell_type": "markdown",
   "metadata": {},
   "source": [
    "### Background"
   ]
  },
  {
   "cell_type": "markdown",
   "metadata": {},
   "source": [
    "\n",
    "References (include links):\n",
    "- 1) [Study: Kiosk Demand on the Rise in Quick Service](qsrmagazine.com/technology/study-kiosk-demand-rise-quick-service)\n",
    "- 2) [Amazon is expanding its cashierless Go model into a full-blown grocery store](https://www.theverge.com/2020/2/25/21151021/amazon-go-grocery-store-expansion-open-seattle-cashier-less)\n",
    "- 3) [ASM Tables](https://www.census.gov/programs-surveys/asm/data/tables.html)\n",
    "- 4) [Why Blue Collar Jobs Are Disappearing](https://www.businessinsider.com/why-blue-collar-jobs-are-dissapearing-2012-1)\n",
    "- 5) [Unemployment rates and earnings by educational attainment](https://www.bls.gov/emp/chart-unemployment-earnings-education.htm)\n"
   ]
  },
  {
   "cell_type": "markdown",
   "metadata": {},
   "source": [
    "### Prior Work"
   ]
  },
  {
   "cell_type": "markdown",
   "metadata": {},
   "source": [
    "The most similar prior work we have found looks at the Likelihood of Automation with comparisons between Occupation and Salary. The analyses done in this research use the same automation probability dataset that we work with in our analysis (Dataset 1). The second dataset used in this study focuses on a handful of data categories regarding income levels, which we have additionally adopted into our data collection for this project (Dataset 2). In that manner, the aspect of our study considering income and state automation likelihood acts as an extension of the prior work.\n",
    "\n",
    "References:\n",
    "- 1) https://data.world/quanticdata/occupation-and-salary-by-state-and-likelihood-of-automation"
   ]
  },
  {
   "cell_type": "markdown",
   "metadata": {},
   "source": [
    "# Hypotheses\n"
   ]
  },
  {
   "cell_type": "markdown",
   "metadata": {},
   "source": [
    "We hypothesize:\n",
    "- Occupations with higher salaries will have a lower probability of being automated.\n",
    "- Jobs with high automation probabilities will show a stagnant or decreasing change in employment rates for the eight-year period of time surrounding the point at which the automation likelihood was estimated.\n",
    "- High perception and manipulation skills correlate more to a high probability of automation.\n",
    "- High creative and social intelligence scores correlate more with a low probability of automation."
   ]
  },
  {
   "cell_type": "markdown",
   "metadata": {},
   "source": [
    "# Dataset(s)"
   ]
  },
  {
   "cell_type": "markdown",
   "metadata": {},
   "source": [
    "Outline: (Delete before final submission!)\n",
    "*Fill in your dataset information here*\n",
    "\n",
    "(Copy this information for each dataset)\n",
    "- Dataset Name:\n",
    "- Link to the dataset:\n",
    "- Number of observations:\n",
    "\n",
    "1-2 sentences describing each dataset. \n",
    "\n",
    "If you plan to use multiple datasets, add 1-2 sentences about how you plan to combine these datasets.\n",
    "\n",
    "Dataset 1:\n",
    "- Dataset Name: Occupations by State and Likelihood of Automation\n",
    "- Link to the dataset: https://data.world/wnedds/occupations-by-state-and-likelihood-of-automation\n",
    "- Number of observations: 702 (1 per occupation)\n",
    "\n",
    "This dataset includes job title, OCC code (used to categorize), probability of occupation, and number of employees per state.\n",
    "\n",
    "Dataset 2:\n",
    "- Dataset Name: Wage by Occupation\n",
    "- Link to the dataset: https://data.world/quanticdata/occupation-and-salary-by-state-and-likelihood-of-automation/workspace/file?filename=national_M2016_dl.xlsx\n",
    "- Number of observations: 1394\n",
    "\n",
    "This dataset includes job title, OCC code, and various wage metrics per occupation (salary vs hourly, average pay, statistics for these fields, North American Industry Classification System code, employee number data, etc).\n",
    "\n",
    "Dataset 3:\n",
    "- Dataset Name: Employment by State\n",
    "- Link to the dataset: https://www.bea.gov/data/employment/employment-by-state\n",
    "- Number of observations: 51 (states + DC)\n",
    "\n",
    "This dataset includes the number of employees per occupation present per state in any given year.\n",
    "\n",
    "Dataset 4:\n",
    "- Dataset Name: Employed persons by detailed occupation and age (table 11b)\n",
    "- Link to the dataset:  https://www.bls.gov/cps/tables.htm\n",
    "- Number of observations: 567\n",
    "\n",
    "These datasets (collected for years between 2011 and 2019) show the number of employees per occupation by age group, and gives the total number of employees per occupation.\n",
    "\n",
    "Dataset 5:\n",
    "- Name: ONET Job Skills/Abilities/Features\n",
    "- Link: https://www.onetonline.org/find/descriptor/browse/Skills/\n",
    "- Number of Observations: 969\n",
    "\n",
    "Dataset 5 is collecting information from 9 various datasets from the ONET site. These datasets are: Negotiation, social perceptiveness, persuasion, finger dexterity, manual dexterity, cramped work spaces, originality, creativity, and assisting and caring for others. They are all sorted by SOC code and contain 969 observations. \n",
    "\n",
    "<br><br>\n",
    "Datasets 1,2 provide information by occupations will be combined by their OCC code, since it is the most standard metric they share (note: some datasets have different occupation name string formatting, so this is not as easily used). Since we mostly want to consider this data in terms of probability of automation, data from Dataset 2 will only be kept if there is a corresponding OCC code in Dataset 1. Dataset 3 is used to turn the number of employees per occupation per state in Dataset 1 into fractions so we can look at relative numbers of employement as opposed to absolute numbers. \n",
    "\n",
    "The 7 datasets from Dataset 4 (corresponding to 2013-2019 data) will be combined in order to calculate the change in employment over the 7 year period. This data will be combined by Dataset 1 by OCC code in order to investigate the relationship between job field growth and likelihood of automation for that job field.\n"
   ]
  },
  {
   "cell_type": "markdown",
   "metadata": {},
   "source": [
    "# Setup"
   ]
  },
  {
   "cell_type": "code",
   "execution_count": 1,
   "metadata": {},
   "outputs": [],
   "source": [
    "# Installs plotly for displaying geospatial graphs\n",
    "#!pip install --user plotly #Uncomment this out"
   ]
  },
  {
   "cell_type": "code",
   "execution_count": 2,
   "metadata": {},
   "outputs": [],
   "source": [
    "import pandas as pd\n",
    "import seaborn as sns\n",
    "import numpy as np\n",
    "import matplotlib.pyplot as plt\n",
    "import patsy\n",
    "import statsmodels.api as sm\n",
    "#import plotly.graph_objects as go\n",
    "from scipy import stats\n",
    "from copy import copy\n",
    "from scipy.stats import normaltest"
   ]
  },
  {
   "cell_type": "code",
   "execution_count": 3,
   "metadata": {},
   "outputs": [],
   "source": [
    "# Used for building geo-spatial maps\n",
    "states = ['Alabama', 'Alaska', 'Arizona', 'Arkansas', 'California', 'Colorado', 'Connecticut', 'Delaware', \n",
    "          'District of Columbia', 'Florida', 'Georgia', 'Hawaii', 'Idaho', 'Illinois','Indiana', 'Iowa', 'Kansas', \n",
    "          'Kentucky', 'Louisiana', 'Maine', 'Maryland', 'Massachusetts', 'Michigan', 'Minnesota', 'Mississippi', \n",
    "          'Missouri', 'Montana', 'Nebraska', 'Nevada', 'New Hampshire', 'New Jersey', 'New Mexico', 'New York', \n",
    "          'North Carolina', 'North Dakota', 'Ohio', 'Oklahoma', 'Oregon', 'Pennsylvania', 'Rhode Island', \n",
    "          'South Carolina', 'South Dakota', 'Tennessee', 'Texas', 'Utah', 'Vermont', 'Virginia', 'Washington', \n",
    "          'West Virginia', 'Wisconsin', 'Wyoming']\n",
    "\n",
    "states_abbv = ['AL', 'AK', 'AZ', 'AR', 'CA', 'CO', 'CT', 'DC', 'DE', 'FL', 'GA', \n",
    "               'HI', 'ID', 'IL', 'IN', 'IA', 'KS', 'KY', 'LA', 'ME', 'MD', \n",
    "               'MA', 'MI', 'MN', 'MS', 'MO', 'MT', 'NE', 'NV', 'NH', 'NJ', \n",
    "               'NM', 'NY', 'NC', 'ND', 'OH', 'OK', 'OR', 'PA', 'RI', 'SC', \n",
    "               'SD', 'TN', 'TX', 'UT', 'VT', 'VA', 'WA', 'WV', 'WI', 'WY']"
   ]
  },
  {
   "cell_type": "markdown",
   "metadata": {},
   "source": [
    "# Data Cleaning"
   ]
  },
  {
   "cell_type": "markdown",
   "metadata": {},
   "source": [
    "**How ‘clean’ is the data?**\n",
    "\n",
    "Our data are clean in that they were provided by reputable sources who provided the data in a format without any unnecessary variables, null data, etc. For one of the datasets, some wage information was represented by a * or #, with the * meaning not enough data was available for inclusion, and the # meaning wage exceeded $200,000/yr. These observations were dropped from our analyses\n",
    "\n",
    "**What did you have to do to get the data into a usable format?**\n",
    "\n",
    "Since some datasets were read in from excel datasheets, it was necessary to clean this data by removing the first few rows (title information), renaming the columns for proper identification, and resetting the index since the first n rows were removed. It was also necessary to remove additional columns that were not related to the dataframe, but were added for structural purposes in the excel datasheet.\n",
    "\n",
    "Some dataframes required transposing/reshaping in order to more easily work with the data.\n",
    "\n",
    "\n",
    "**What pre-processing steps were required for your methods?**\n",
    "\n",
    "For our state analysis, it was necessary to transpose our data in the beginning, since the variables in the original dataset were now to be used as observations in this new dataset. An additional transformation was made to “normalize” the number of employees in each column by dividing them by the total number of workers per state.\n",
    "\n",
    "We checked the distribution of variables such as probability of automation, wage, and employment percent change.\n",
    "\n",
    "For the data in Datasets 4, we needed to drop all non-total employee rows and merge the 9 datasets into one set.\n",
    "\n",
    "For the individual occupation wage analysis, it was necessary to drop most columns. We included occ code, annual mean wage, and occupation. The resulting dataset was merged with Dataset 1 by occ/soc code so we could easily compare the likelihood of automation and the annual mean wage.\n"
   ]
  },
  {
   "cell_type": "code",
   "execution_count": 4,
   "metadata": {},
   "outputs": [],
   "source": [
    "# Function tidy-izes the data\n",
    "def organize(df, year):\n",
    "    '''\n",
    "    - Removes the first 7 columns from the dataframe (corresponds to title and additional non-data cells from\n",
    "    excel formatting)\n",
    "    - Adds column titles back in\n",
    "    - Drops null columns\n",
    "    - Trims dataframe to only include occupation and title\n",
    "    '''\n",
    "    df = df[7:]\n",
    "    df = df.rename(columns={df.columns[0]: 'Occupation', df.columns[1]: 'Total{}'.format(year)})\n",
    "    df.dropna(inplace=True)\n",
    "    df.reset_index(inplace=True)\n",
    "    df = df[['Occupation', 'Total{}'.format(year)]]\n",
    " \n",
    "    return df"
   ]
  },
  {
   "cell_type": "code",
   "execution_count": 5,
   "metadata": {},
   "outputs": [],
   "source": [
    "# Creating the pertinent DataFrames\n",
    "df_prob = pd.read_csv('datasets/raw_state_automation_data.csv', encoding='cp1252')\n",
    "df_employment = pd.read_excel('datasets/employmentbystate.xls')\n",
    "df_wages = pd.read_excel('datasets/wagedata.xlsx')\n",
    "unemployment = pd.read_csv('datasets/USunemployment.csv')\n",
    "economyData = pd.read_csv('datasets/economy-and-growth-indicators-for-united-states-1.csv')\n",
    "economyState = pd.read_csv('datasets/SAEMP25N__ALL_AREAS_1998_2018.csv')\n",
    "income = pd.read_csv('datasets/PARPI_PORT_2008_2017.csv')\n",
    "df_occ = pd.read_csv('datasets/raw_state_automation_data.csv', encoding='cp1252')\n",
    "\n",
    "\n",
    "employment2011 = organize(pd.read_excel('datasets/blsdata/cpsaat11b2011.xlsx'), 2011)\n",
    "employment2012 = organize(pd.read_excel('datasets/blsdata/cpsaat11b2012.xlsx'), 2012)\n",
    "employment2013 = organize(pd.read_excel('datasets/blsdata/cpsaat11b2013.xlsx'), 2013)\n",
    "employment2014 = organize(pd.read_excel('datasets/blsdata/cpsaat11b2014.xlsx'), 2014)\n",
    "employment2015 = organize(pd.read_excel('datasets/blsdata/cpsaat11b2015.xlsx'), 2015)\n",
    "employment2016 = organize(pd.read_excel('datasets/blsdata/cpsaat11b2016.xlsx'), 2016)\n",
    "employment2017 = organize(pd.read_excel('datasets/blsdata/cpsaat11b2017.xlsx'), 2017)\n",
    "employment2018 = organize(pd.read_excel('datasets/blsdata/cpsaat11b2018.xlsx'), 2018)\n",
    "employment2019 = organize(pd.read_excel('datasets/blsdata/cpsaat11b2019.xlsx'), 2019)\n",
    "\n",
    "# Merging the different employment datasets in order to analyze percent change\n",
    "employment = pd.merge(pd.merge(employment2011, employment2012), \\\n",
    "                      pd.merge(pd.merge(employment2013, pd.merge(employment2014, employment2015)), \\\n",
    "                               pd.merge(pd.merge(employment2016, employment2017), \\\n",
    "                                        pd.merge(employment2018, employment2019))))\n",
    "\n",
    "# Creating copy of main dataframe to avoid issues with individual cleaning and analyses\n",
    "df_prob_m = copy(df_prob)\n",
    "df_prob_g = copy(df_prob)\n",
    "df_prob_h = copy(df_prob)\n",
    "df_prob_k = copy(df_prob)"
   ]
  },
  {
   "cell_type": "markdown",
   "metadata": {},
   "source": [
    "## Employment by Occupation"
   ]
  },
  {
   "cell_type": "code",
   "execution_count": 6,
   "metadata": {},
   "outputs": [],
   "source": [
    "# Structure main dataset\n",
    "df_prob_m.sort_values(by=['SOC'], inplace=True)\n",
    "\n",
    "# Standardize Occupation column between datasets\n",
    "employment['Occupation'] = employment['Occupation'].apply(lambda x: x.title())\n",
    "df_prob_m['Occupation'] = df_prob_m['Occupation'].apply(lambda x: x.title())\n",
    "\n",
    "# Create trimmed dataset\n",
    "df_prob_m_trim = df_prob_m[['SOC', 'Occupation', 'Probability']]\n",
    "\n",
    "# Include employment info\n",
    "df_prob_m_trim = pd.merge(df_prob_m_trim, employment)\n",
    "\n",
    "# Add percent change based on 2012 to 2019 data (Note that data cannot be analyzed for 2011 as there were some\n",
    "## states in which occupations did not have employees, causing a division by 0 error)\n",
    "df_prob_m_trim['percent_change'] = (df_prob_m_trim.Total2019 - df_prob_m_trim.Total2012)/df_prob_m_trim.Total2012"
   ]
  },
  {
   "cell_type": "markdown",
   "metadata": {},
   "source": [
    "## Wage by Occupation"
   ]
  },
  {
   "cell_type": "code",
   "execution_count": 7,
   "metadata": {},
   "outputs": [],
   "source": [
    "#Remove unnecessary wage data\n",
    "df_wages = df_wages[['OCC_CODE', 'OCC_TITLE', 'A_MEAN']]\n",
    "df_wages.rename(columns={'OCC_CODE':'SOC', 'OCC_TITLE':'Occupation'},inplace=True)\n",
    "\n",
    "# Create combined probability & wages dataset\n",
    "df_probwages_m = pd.merge(df_prob_m, df_wages, how='left', left_on='SOC', right_on='SOC')\n",
    "\n",
    "# Drop rows if no mean wage info\n",
    "# * is used to represent occupation with insufficient data\n",
    "df_probwages_m = df_probwages_m[df_probwages_m.A_MEAN != '*']\n",
    "\n",
    "# Remove any null income values\n",
    "df_probwages_m.dropna(inplace=True,subset=['A_MEAN'])\n",
    "df_probwages_m = df_probwages_m.reset_index()\n",
    "\n",
    "# Rest of values should be numeric, so transform\n",
    "df_probwages_m.A_MEAN = pd.to_numeric(df_probwages_m.A_MEAN)\n",
    "\n",
    "# Add log mean income \n",
    "df_probwages_m['log_A_MEAN'] = df_probwages_m.A_MEAN.apply(np.log)"
   ]
  },
  {
   "cell_type": "markdown",
   "metadata": {},
   "source": [
    "## Employment & Automation by State "
   ]
  },
  {
   "cell_type": "code",
   "execution_count": 8,
   "metadata": {},
   "outputs": [],
   "source": [
    "# Clean employment data by removing excel specific titles & rows, dropping null data\n",
    "## adding proper column names, dropping unnecessary columns, and typecasting\n",
    "df_employment = df_employment[5:]\n",
    "df_employment.dropna(inplace=True)\n",
    "df_employment = df_employment.rename(columns={df_employment.columns[1]:'State', df_employment.columns[2]:'Employment'})\n",
    "df_employment.reset_index(inplace=True)\n",
    "df_employment = df_employment[['State', 'Employment']]\n",
    "df_employment.Employment = df_employment.Employment.astype(int)\n",
    "\n",
    "# Reshape data to easily apply later transformation\n",
    "df_employment = df_employment.transpose()\n",
    "df_employment.columns = df_employment.iloc[0]\n",
    "df_employment = df_employment.iloc[1:]\n",
    "\n",
    "# Transform employment data to reflect employment relative to population\n",
    "df_prob_m_normed = copy(df_prob_m)\n",
    "for state in states:\n",
    "    df_prob_m_normed[state] = df_prob_m_normed[state].apply(lambda x: x/df_employment[state])\n",
    "\n",
    "# Don't need SOC values, so remove\n",
    "#df_prob_m.drop(columns=['SOC'],inplace=True)"
   ]
  },
  {
   "cell_type": "markdown",
   "metadata": {},
   "source": [
    "## Wage by State"
   ]
  },
  {
   "cell_type": "code",
   "execution_count": 9,
   "metadata": {},
   "outputs": [],
   "source": [
    "income = income[['GeoName', 'LineCode','2008', '2009', '2010', '2011', '2012', '2013', '2014' , '2015', '2016', '2017']]\n",
    "income = income[income.LineCode == 1.0]\n",
    "income = income.loc[income.index > 0]"
   ]
  },
  {
   "cell_type": "code",
   "execution_count": 10,
   "metadata": {},
   "outputs": [],
   "source": [
    "income = income.reset_index()\n",
    "income = income.drop('index', 1)"
   ]
  },
  {
   "cell_type": "code",
   "execution_count": 11,
   "metadata": {},
   "outputs": [],
   "source": [
    "N = 2\n",
    "totalIn = income.groupby(income.index // N).sum()"
   ]
  },
  {
   "cell_type": "code",
   "execution_count": 12,
   "metadata": {},
   "outputs": [],
   "source": [
    "totalIn['change'] = totalIn['2017'] - totalIn['2008']\n",
    "totalIn['change'] = totalIn['change'] / totalIn['2008']"
   ]
  },
  {
   "cell_type": "code",
   "execution_count": 13,
   "metadata": {},
   "outputs": [],
   "source": [
    "# Only want to look at probability, state data so remove other columns\n",
    "df_occ.drop(columns=['SOC', 'Occupation'], inplace=True)"
   ]
  },
  {
   "cell_type": "code",
   "execution_count": 14,
   "metadata": {},
   "outputs": [],
   "source": [
    "# Transform employment data to reflect employment relative to population\n",
    "for state in states:\n",
    "    df_occ[state] = df_occ[state].apply(lambda x: x/df_employment[state])"
   ]
  },
  {
   "cell_type": "code",
   "execution_count": 15,
   "metadata": {},
   "outputs": [],
   "source": [
    "state_likelihood2 = []\n",
    "for state in states:\n",
    "    likelihood2 = 0\n",
    "    for index in range(len(df_occ)):\n",
    "        likelihood2 += df_occ['Probability'][index] * df_occ[state][index]\n",
    "    state_likelihood2.append(likelihood2)"
   ]
  },
  {
   "cell_type": "code",
   "execution_count": 16,
   "metadata": {},
   "outputs": [],
   "source": [
    "statesDF = pd.DataFrame(states)\n",
    "totalIncomeState = totalIn.merge(statesDF, left_index = True, right_index = True)\n",
    "totalIncomeState = totalIncomeState.rename(columns={0: \"State\"})"
   ]
  },
  {
   "cell_type": "code",
   "execution_count": 17,
   "metadata": {},
   "outputs": [],
   "source": [
    "likelihoodAutomation = pd.DataFrame(state_likelihood2)\n",
    "incomeANDautomation = likelihoodAutomation.merge(totalIncomeState, left_index=True, right_index=True)\n",
    "incomeANDautomation = incomeANDautomation.rename(columns={0: \"Automation\"})"
   ]
  },
  {
   "cell_type": "markdown",
   "metadata": {},
   "source": [
    "## Job Skillset"
   ]
  },
  {
   "cell_type": "code",
   "execution_count": 18,
   "metadata": {},
   "outputs": [],
   "source": [
    "# Setting up automation data \n",
    "automation = pd.read_csv('datasets/raw_state_automation_data.csv', encoding='cp1252')\n",
    "#removing States data \n",
    "automation.drop(automation.columns.difference(['SOC','Occupation', 'Probability']), 1, inplace=True) \n",
    "automation['Probability'] = automation['Probability'] * 100"
   ]
  },
  {
   "cell_type": "code",
   "execution_count": 19,
   "metadata": {},
   "outputs": [],
   "source": [
    "#Loading in all the job skills data\n",
    "originality = pd.read_csv('datasets/Originality.csv')\n",
    "negotiation = pd.read_csv('datasets/Negotiation.csv')\n",
    "social_percept = pd.read_csv('datasets/Social_Perceptiveness.csv')\n",
    "persuasion = pd.read_csv('datasets/Persuasion.csv')\n",
    "finger_dext = pd.read_csv('datasets/Finger_Dexterity.csv')\n",
    "manual_dext = pd.read_csv('datasets/Manual_Dexterity.csv')\n",
    "cramped_work = pd.read_csv('datasets/Cramped_Work_Space_Awkward_Positions.csv')\n",
    "fine_arts = pd.read_csv('datasets/Fine_Arts.csv')\n",
    "df_prob_h = pd.read_csv('datasets/Assisting_and_Caring_for_Others.csv')"
   ]
  },
  {
   "cell_type": "code",
   "execution_count": 20,
   "metadata": {},
   "outputs": [],
   "source": [
    "#Cleaning and merging \n",
    "df_prob_h['Assisting and Caring Importance'] = df_prob_h['Importance']\n",
    "# Removing doubles \"importance\" column and level column as it is not used\n",
    "df_prob_h = df_prob_h.drop(['Importance', 'Level'], axis=1)\n",
    "df_prob_h['Originality Importance'] = originality['Importance']\n",
    "df_prob_h['Negotiation Importance'] = negotiation['Importance']\n",
    "df_prob_h['Social Perception Importance'] = social_percept['Importance']\n",
    "df_prob_h['Persuasion Importance'] = persuasion['Importance']\n",
    "df_prob_h['Finger Dexterity Importance'] = finger_dext['Importance']\n",
    "df_prob_h['Manual Dexterity Importance'] = manual_dext['Importance']\n",
    "df_prob_h['Cramped Work Context'] = cramped_work['Context']\n",
    "df_prob_h['Fine Arts Importance'] = fine_arts['Importance']"
   ]
  },
  {
   "cell_type": "code",
   "execution_count": 21,
   "metadata": {},
   "outputs": [],
   "source": [
    "#Merging the Data Sets\n",
    "df_prob_h['SOC'] = df_prob_h['Code'].astype(str).replace('\\.00', '', regex=True)\n",
    "df_prob_h = pd.merge(left=df_prob_h, right=automation, left_on='SOC', right_on='SOC')\n",
    "df_prob_h.drop(['Code', 'Occupation_x'], axis=1, inplace=True)\n",
    "df_prob_h = df_prob_h.rename(columns = {'Occupation_y':'Occupation'})"
   ]
  },
  {
   "cell_type": "code",
   "execution_count": 22,
   "metadata": {},
   "outputs": [],
   "source": [
    "#Creating 3 Seperate Categories Based Upon \n",
    "df_prob_h['Perception_and_Manipulation'] = df_prob_h[['Finger Dexterity Importance','Manual Dexterity Importance', \n",
    "                                       'Cramped Work Context']].mean(axis=1)\n",
    "df_prob_h['Creative_Intelligence'] = df_prob_h[['Originality Importance','Fine Arts Importance']].mean(axis=1)\n",
    "\n",
    "df_prob_h['Social_Intelligence'] = df_prob_h[['Social Perception Importance', 'Negotiation Importance', \n",
    "                                'Persuasion Importance', 'Assisting and Caring Importance']].mean(axis=1)"
   ]
  },
  {
   "cell_type": "markdown",
   "metadata": {},
   "source": [
    "# Data Analysis & Results"
   ]
  },
  {
   "cell_type": "markdown",
   "metadata": {},
   "source": [
    "## Employment by Occupation"
   ]
  },
  {
   "cell_type": "markdown",
   "metadata": {},
   "source": [
    "### EDA"
   ]
  },
  {
   "cell_type": "markdown",
   "metadata": {},
   "source": [
    "**Distributions**\n",
    "\n",
    "Our probability of automation variable is bound between 0-1 with a bimodal distribution. The peaks occur at the two boundaries. While the left mode has a higher peak, the right mode carries more weight.\n",
    "\n",
    "Our variable representing the percent change in employment between 2012 and 2019 follows a relatively normal unimodal distribution with few mini-peaks that do not change the shape drastically. This distribution is slightly right-skewed.\n",
    "\n",
    "**Outliers**\n",
    "\n",
    "While there is a relatively smooth distribution outside of the boundary peaks, there is a non-modal peak in the 0.35-0.40 probability bin.\n",
    "\n",
    "There is a percent change outlier right around 4 (400% percent change). This corresponds to Transit And Railroad Police, which grew from 1,000 to 5,000 employees.\n",
    "\n",
    "**Relationship between variables**\n",
    "\n",
    "There is a very poor (horizontal) linear relation between the probability of automation and change in employment between 2012 and 2019. There is a stronger linear relationship between log annual income and probability of automation."
   ]
  },
  {
   "cell_type": "code",
   "execution_count": 23,
   "metadata": {},
   "outputs": [
    {
     "data": {
      "image/png": "[encoded data removed]",
      "text/plain": [
       "<Figure size 432x288 with 1 Axes>"
      ]
     },
     "metadata": {
      "needs_background": "light"
     },
     "output_type": "display_data"
    }
   ],
   "source": [
    "# Distribution of probability of automation\n",
    "sns.distplot(df_prob_m.Probability, bins=20)\n",
    "plt.xlabel('Probability of Automation')\n",
    "plt.title('Distribution of Automation Probability', loc='left')\n",
    "plt.show()"
   ]
  },
  {
   "cell_type": "code",
   "execution_count": 24,
   "metadata": {},
   "outputs": [
    {
     "data": {
      "image/png": "[encoded data removed]",
      "text/plain": [
       "<Figure size 432x288 with 1 Axes>"
      ]
     },
     "metadata": {
      "needs_background": "light"
     },
     "output_type": "display_data"
    }
   ],
   "source": [
    "# Distribution of percent change in employment\n",
    "sns.distplot(df_prob_m_trim.percent_change)\n",
    "plt.xlabel('Change in Employment')\n",
    "plt.title('Distribution of Employment Change from 2012-2019', loc='left')\n",
    "plt.show()"
   ]
  },
  {
   "cell_type": "code",
   "execution_count": 25,
   "metadata": {},
   "outputs": [
    {
     "data": {
      "text/html": [
       "<div>\n",
       "<style scoped>\n",
       "    .dataframe tbody tr th:only-of-type {\n",
       "        vertical-align: middle;\n",
       "    }\n",
       "\n",
       "    .dataframe tbody tr th {\n",
       "        vertical-align: top;\n",
       "    }\n",
       "\n",
       "    .dataframe thead th {\n",
       "        text-align: right;\n",
       "    }\n",
       "</style>\n",
       "<table border=\"1\" class=\"dataframe\">\n",
       "  <thead>\n",
       "    <tr style=\"text-align: right;\">\n",
       "      <th></th>\n",
       "      <th>SOC</th>\n",
       "      <th>Occupation</th>\n",
       "      <th>Probability</th>\n",
       "      <th>Total2011</th>\n",
       "      <th>Total2012</th>\n",
       "      <th>Total2013</th>\n",
       "      <th>Total2014</th>\n",
       "      <th>Total2015</th>\n",
       "      <th>Total2016</th>\n",
       "      <th>Total2017</th>\n",
       "      <th>Total2018</th>\n",
       "      <th>Total2019</th>\n",
       "      <th>percent_change</th>\n",
       "    </tr>\n",
       "  </thead>\n",
       "  <tbody>\n",
       "  </tbody>\n",
       "</table>\n",
       "</div>"
      ],
      "text/plain": [
       "Empty DataFrame\n",
       "Columns: [SOC, Occupation, Probability, Total2011, Total2012, Total2013, Total2014, Total2015, Total2016, Total2017, Total2018, Total2019, percent_change]\n",
       "Index: []"
      ]
     },
     "execution_count": 25,
     "metadata": {},
     "output_type": "execute_result"
    }
   ],
   "source": [
    "# Investigate outlier\n",
    "df_prob_m_trim[df_prob_m_trim.percent_change >= 3.5]"
   ]
  },
  {
   "cell_type": "code",
   "execution_count": 26,
   "metadata": {},
   "outputs": [
    {
     "name": "stdout",
     "output_type": "stream",
     "text": [
      "1.2612948679979974e-24\n"
     ]
    }
   ],
   "source": [
    "# Determine normality of percent_change\n",
    "k2, p = stats.normaltest(df_prob_m_trim.percent_change)\n",
    "print(p)"
   ]
  },
  {
   "cell_type": "code",
   "execution_count": 27,
   "metadata": {},
   "outputs": [
    {
     "data": {
      "image/png": "[encoded data removed]",
      "text/plain": [
       "<Figure size 432x288 with 1 Axes>"
      ]
     },
     "metadata": {
      "needs_background": "light"
     },
     "output_type": "display_data"
    }
   ],
   "source": [
    "# Plot the percent change vs Probability of employment\n",
    "sns.scatterplot(df_prob_m_trim.Probability, df_prob_m_trim.percent_change)\n",
    "plt.xlabel('Probability of Automation')\n",
    "plt.ylabel('Change in Employment')\n",
    "plt.title('Probability of Automation vs Change in Employment', loc='left')\n",
    "plt.show()"
   ]
  },
  {
   "cell_type": "markdown",
   "metadata": {},
   "source": [
    "### Analysis"
   ]
  },
  {
   "cell_type": "markdown",
   "metadata": {},
   "source": [
    "**What approaches did you use? Why?**\n",
    "\n",
    "We analyze the relationship between percent change in employment and probability of automation using an OLS Linear Regression model. This method of analysis was chosen because there is a relatively linear relationship between the two variables."
   ]
  },
  {
   "cell_type": "code",
   "execution_count": 28,
   "metadata": {},
   "outputs": [
    {
     "name": "stdout",
     "output_type": "stream",
     "text": [
      "                            OLS Regression Results                            \n",
      "==============================================================================\n",
      "Dep. Variable:            Probability   R-squared:                       0.853\n",
      "Model:                            OLS   Adj. R-squared:                 -0.150\n",
      "Method:                 Least Squares   F-statistic:                    0.8500\n",
      "Date:                Wed, 10 Jun 2020   Prob (F-statistic):              0.761\n",
      "Time:                        19:55:23   Log-Likelihood:                 140.34\n",
      "No. Observations:                 274   AIC:                             197.3\n",
      "Df Residuals:                      35   BIC:                             1061.\n",
      "Df Model:                         238                                         \n",
      "Covariance Type:            nonrobust                                         \n",
      "============================================================================================================\n",
      "                                               coef    std err          t      P>|t|      [0.025      0.975]\n",
      "------------------------------------------------------------------------------------------------------------\n",
      "Intercept                                    0.5025      0.166      3.034      0.005       0.166       0.839\n",
      "percent_change[T.-0.7857142857142857]        0.1075      0.438      0.245      0.808      -0.782       0.997\n",
      "percent_change[T.-0.7636363636363637]        0.4875      0.438      1.113      0.273      -0.402       1.377\n",
      "percent_change[T.-0.75]                      0.3175      0.438      0.725      0.473      -0.572       1.207\n",
      "percent_change[T.-0.71875]                   0.3175      0.438      0.725      0.473      -0.572       1.207\n",
      "percent_change[T.-0.7142857142857143]       -0.4435      0.438     -1.012      0.318      -1.333       0.446\n",
      "percent_change[T.-0.6666666666666666]        0.1475      0.438      0.337      0.738      -0.742       1.037\n",
      "percent_change[T.-0.6]                       0.4275      0.331      1.291      0.205      -0.245       1.100\n",
      "percent_change[T.-0.5882352941176471]       -0.0925      0.438     -0.211      0.834      -0.982       0.797\n",
      "percent_change[T.-0.5789473684210527]        0.4375      0.438      0.999      0.325      -0.452       1.327\n",
      "percent_change[T.-0.5702479338842975]        0.3875      0.438      0.884      0.383      -0.502       1.277\n",
      "percent_change[T.-0.5454545454545454]        0.4675      0.438      1.067      0.293      -0.422       1.357\n",
      "percent_change[T.-0.5210084033613446]        0.3075      0.438      0.702      0.487      -0.582       1.197\n",
      "percent_change[T.-0.5]                       0.4475      0.331      1.351      0.185      -0.225       1.120\n",
      "percent_change[T.-0.4948453608247423]        0.4875      0.438      1.113      0.273      -0.402       1.377\n",
      "percent_change[T.-0.4827586206896552]       -0.4385      0.438     -1.001      0.324      -1.328       0.451\n",
      "percent_change[T.-0.4368932038834951]        0.4475      0.438      1.021      0.314      -0.442       1.337\n",
      "percent_change[T.-0.42857142857142855]      -0.4225      0.438     -0.964      0.342      -1.312       0.467\n",
      "percent_change[T.-0.4186046511627907]       -0.4845      0.438     -1.106      0.276      -1.374       0.405\n",
      "percent_change[T.-0.4006849315068493]        0.4675      0.438      1.067      0.293      -0.422       1.357\n",
      "percent_change[T.-0.4]                       0.4775      0.438      1.090      0.283      -0.412       1.367\n",
      "percent_change[T.-0.375]                     0.4675      0.438      1.067      0.293      -0.422       1.357\n",
      "percent_change[T.-0.3684210526315789]       -0.3425      0.438     -0.782      0.440      -1.232       0.547\n",
      "percent_change[T.-0.36363636363636365]       0.2325      0.331      0.702      0.487      -0.440       0.905\n",
      "percent_change[T.-0.36]                      0.1475      0.438      0.337      0.738      -0.742       1.037\n",
      "percent_change[T.-0.35135135135135137]       0.4475      0.438      1.021      0.314      -0.442       1.337\n",
      "percent_change[T.-0.34375]                  -0.4989      0.438     -1.139      0.263      -1.388       0.391\n",
      "percent_change[T.-0.3383084577114428]        0.3275      0.438      0.747      0.460      -0.562       1.217\n",
      "percent_change[T.-0.3333333333333333]       -0.0775      0.331     -0.234      0.816      -0.750       0.595\n",
      "percent_change[T.-0.3116883116883117]        0.4575      0.438      1.044      0.304      -0.432       1.347\n",
      "percent_change[T.-0.3103448275862069]       -0.1125      0.438     -0.257      0.799      -1.002       0.777\n",
      "percent_change[T.-0.302158273381295]         0.4675      0.438      1.067      0.293      -0.422       1.357\n",
      "percent_change[T.-0.3]                       0.3375      0.438      0.770      0.446      -0.552       1.227\n",
      "percent_change[T.-0.29411764705882354]       0.2775      0.438      0.633      0.531      -0.612       1.167\n",
      "percent_change[T.-0.2857142857142857]       -0.4625      0.331     -1.396      0.171      -1.135       0.210\n",
      "percent_change[T.-0.2756756756756757]        0.2075      0.438      0.474      0.639      -0.682       1.097\n",
      "percent_change[T.-0.2727272727272727]       -0.4325      0.438     -0.987      0.330      -1.322       0.457\n",
      "percent_change[T.-0.2692307692307692]       -0.4115      0.438     -0.939      0.354      -1.301       0.478\n",
      "percent_change[T.-0.26666666666666666]       0.4875      0.438      1.113      0.273      -0.402       1.377\n",
      "percent_change[T.-0.25892857142857145]      -0.4981      0.438     -1.137      0.263      -1.388       0.391\n",
      "percent_change[T.-0.258160237388724]         0.4875      0.438      1.113      0.273      -0.402       1.377\n",
      "percent_change[T.-0.2545454545454545]        0.3875      0.438      0.884      0.383      -0.502       1.277\n",
      "percent_change[T.-0.25]                     -0.0290      0.331     -0.088      0.931      -0.701       0.643\n",
      "percent_change[T.-0.23076923076923078]      -0.1261      0.331     -0.381      0.706      -0.798       0.546\n",
      "percent_change[T.-0.22631578947368422]       0.4775      0.438      1.090      0.283      -0.412       1.367\n",
      "percent_change[T.-0.2]                       0.2775      0.331      0.838      0.408      -0.395       0.950\n",
      "percent_change[T.-0.19444444444444445]       0.4175      0.438      0.953      0.347      -0.472       1.307\n",
      "percent_change[T.-0.18181818181818182]       0.4675      0.438      1.067      0.293      -0.422       1.357\n",
      "percent_change[T.-0.17391304347826086]       0.1325      0.331      0.400      0.692      -0.540       0.805\n",
      "percent_change[T.-0.1724137931034483]       -0.4875      0.438     -1.113      0.273      -1.377       0.402\n",
      "percent_change[T.-0.16666666666666666]      -0.0635      0.331     -0.192      0.849      -0.736       0.609\n",
      "percent_change[T.-0.15384615384615385]       0.1025      0.331      0.310      0.759      -0.570       0.775\n",
      "percent_change[T.-0.14754098360655737]      -0.0125      0.438     -0.028      0.977      -0.902       0.877\n",
      "percent_change[T.-0.13414634146341464]      -0.4265      0.438     -0.973      0.337      -1.316       0.463\n",
      "percent_change[T.-0.13043478260869565]       0.4475      0.438      1.021      0.314      -0.442       1.337\n",
      "percent_change[T.-0.11946902654867257]      -0.4725      0.438     -1.078      0.288      -1.362       0.417\n",
      "percent_change[T.-0.11764705882352941]      -0.1125      0.438     -0.257      0.799      -1.002       0.777\n",
      "percent_change[T.-0.11612903225806452]      -0.3225      0.438     -0.736      0.467      -1.212       0.567\n",
      "percent_change[T.-0.1111111111111111]        0.4275      0.438      0.976      0.336      -0.462       1.317\n",
      "percent_change[T.-0.11016949152542373]       0.1275      0.438      0.291      0.773      -0.762       1.017\n",
      "percent_change[T.-0.10714285714285714]       0.0175      0.331      0.053      0.958      -0.655       0.690\n",
      "percent_change[T.-0.0967741935483871]        0.3975      0.438      0.907      0.370      -0.492       1.287\n",
      "percent_change[T.-0.09345794392523364]       0.4875      0.438      1.113      0.273      -0.402       1.377\n",
      "percent_change[T.-0.09208523592085235]      -0.4185      0.438     -0.955      0.346      -1.308       0.471\n",
      "percent_change[T.-0.09090909090909091]      -0.2925      0.438     -0.668      0.509      -1.182       0.597\n",
      "percent_change[T.-0.07768361581920905]      -0.4885      0.438     -1.115      0.273      -1.378       0.401\n",
      "percent_change[T.-0.07692307692307693]       0.3875      0.438      0.884      0.383      -0.502       1.277\n",
      "percent_change[T.-0.07547169811320754]      -0.4475      0.438     -1.021      0.314      -1.337       0.442\n",
      "percent_change[T.-0.07272727272727272]       0.4375      0.438      0.999      0.325      -0.452       1.327\n",
      "percent_change[T.-0.07142857142857142]       0.1975      0.438      0.451      0.655      -0.692       1.087\n",
      "percent_change[T.-0.07063753367255313]       0.4175      0.438      0.953      0.347      -0.472       1.307\n",
      "percent_change[T.-0.06666666666666667]       0.4775      0.438      1.090      0.283      -0.412       1.367\n",
      "percent_change[T.-0.0660377358490566]        0.4275      0.438      0.976      0.336      -0.462       1.317\n",
      "percent_change[T.-0.06382978723404255]       0.3275      0.438      0.747      0.460      -0.562       1.217\n",
      "percent_change[T.-0.0584958217270195]        0.4075      0.438      0.930      0.359      -0.482       1.297\n",
      "percent_change[T.-0.05825242718446602]      -0.1925      0.438     -0.439      0.663      -1.082       0.697\n",
      "percent_change[T.-0.055415617128463476]      0.1475      0.438      0.337      0.738      -0.742       1.037\n",
      "percent_change[T.-0.05416666666666667]      -0.0225      0.438     -0.051      0.959      -0.912       0.867\n",
      "percent_change[T.-0.047619047619047616]      0.4075      0.438      0.930      0.359      -0.482       1.297\n",
      "percent_change[T.-0.045454545454545456]      0.0475      0.438      0.108      0.914      -0.842       0.937\n",
      "percent_change[T.-0.043478260869565216]     -0.4775      0.438     -1.090      0.283      -1.367       0.412\n",
      "percent_change[T.-0.04048964218455744]       0.4375      0.438      0.999      0.325      -0.452       1.327\n",
      "percent_change[T.-0.03389312977099237]       0.4675      0.438      1.067      0.293      -0.422       1.357\n",
      "percent_change[T.-0.03368421052631579]       0.4575      0.438      1.044      0.304      -0.432       1.347\n",
      "percent_change[T.-0.02768729641693811]      -0.4335      0.438     -0.989      0.329      -1.323       0.456\n",
      "percent_change[T.-0.025830258302583026]      0.2675      0.438      0.611      0.545      -0.622       1.157\n",
      "percent_change[T.-0.023809523809523808]      0.1975      0.438      0.451      0.655      -0.692       1.087\n",
      "percent_change[T.-0.018867924528301886]      0.0875      0.438      0.200      0.843      -0.802       0.977\n",
      "percent_change[T.-0.017857142857142856]      0.3375      0.438      0.770      0.446      -0.552       1.227\n",
      "percent_change[T.-0.011049723756906077]      0.1475      0.438      0.337      0.738      -0.742       1.037\n",
      "percent_change[T.-0.007936507936507936]     -0.4885      0.438     -1.115      0.273      -1.378       0.401\n",
      "percent_change[T.-0.006535947712418301]      0.2075      0.438      0.474      0.639      -0.682       1.097\n",
      "percent_change[T.-0.005639097744360902]     -0.3425      0.438     -0.782      0.440      -1.232       0.547\n",
      "percent_change[T.-0.0015446400988569664]    -0.2225      0.438     -0.508      0.615      -1.112       0.667\n",
      "percent_change[T.0.0]                        0.1960      0.206      0.952      0.348      -0.222       0.614\n",
      "percent_change[T.0.0038314176245210726]      0.4775      0.438      1.090      0.283      -0.412       1.367\n",
      "percent_change[T.0.009009009009009009]      -0.4365      0.438     -0.996      0.326      -1.326       0.453\n",
      "percent_change[T.0.011190233977619531]      -0.4315      0.438     -0.985      0.332      -1.321       0.458\n",
      "percent_change[T.0.012254901960784314]      -0.4944      0.438     -1.128      0.267      -1.384       0.395\n",
      "percent_change[T.0.012354152367879203]       0.1875      0.438      0.428      0.671      -0.702       1.077\n",
      "percent_change[T.0.014994232987312572]       0.0875      0.438      0.200      0.843      -0.802       0.977\n",
      "percent_change[T.0.015384615384615385]       0.3275      0.438      0.747      0.460      -0.562       1.217\n",
      "percent_change[T.0.016129032258064516]       0.3975      0.438      0.907      0.370      -0.492       1.287\n",
      "percent_change[T.0.017094017094017096]       0.1075      0.438      0.245      0.808      -0.782       0.997\n",
      "percent_change[T.0.019417475728155338]       0.4875      0.438      1.113      0.273      -0.402       1.377\n",
      "percent_change[T.0.024691358024691357]       0.3675      0.438      0.839      0.407      -0.522       1.257\n",
      "percent_change[T.0.025]                     -0.1625      0.438     -0.371      0.713      -1.052       0.727\n",
      "percent_change[T.0.02666666666666667]       -0.4705      0.438     -1.074      0.290      -1.360       0.419\n",
      "percent_change[T.0.03225806451612903]        0.2675      0.438      0.611      0.545      -0.622       1.157\n",
      "percent_change[T.0.0364963503649635]         0.0075      0.438      0.017      0.986      -0.882       0.897\n",
      "percent_change[T.0.03954802259887006]       -0.0125      0.438     -0.028      0.977      -0.902       0.877\n",
      "percent_change[T.0.040605643496214726]       0.1375      0.438      0.314      0.755      -0.752       1.027\n",
      "percent_change[T.0.040880503144654086]       0.1775      0.438      0.405      0.688      -0.712       1.067\n",
      "percent_change[T.0.041228779304769606]       0.4575      0.438      1.044      0.304      -0.432       1.347\n",
      "percent_change[T.0.04128440366972477]       -0.4725      0.438     -1.078      0.288      -1.362       0.417\n",
      "percent_change[T.0.043478260869565216]       0.1775      0.438      0.405      0.688      -0.712       1.067\n",
      "percent_change[T.0.04455445544554455]       -0.4865      0.438     -1.110      0.274      -1.376       0.403\n",
      "percent_change[T.0.046296296296296294]       0.3675      0.438      0.839      0.407      -0.522       1.257\n",
      "percent_change[T.0.04950495049504951]       -0.4725      0.438     -1.078      0.288      -1.362       0.417\n",
      "percent_change[T.0.04980842911877394]       -0.4725      0.438     -1.078      0.288      -1.362       0.417\n",
      "percent_change[T.0.05172413793103448]       -0.0440      0.331     -0.133      0.895      -0.716       0.628\n",
      "percent_change[T.0.05194805194805195]       -0.4986      0.438     -1.138      0.263      -1.388       0.391\n",
      "percent_change[T.0.05263157894736842]        0.0275      0.438      0.063      0.950      -0.862       0.917\n",
      "percent_change[T.0.056179775280898875]      -0.4815      0.438     -1.099      0.279      -1.371       0.408\n",
      "percent_change[T.0.056418642681929684]       0.2175      0.438      0.496      0.623      -0.672       1.107\n",
      "percent_change[T.0.058823529411764705]      -0.4875      0.438     -1.113      0.273      -1.377       0.402\n",
      "percent_change[T.0.06220095693779904]        0.4375      0.438      0.999      0.325      -0.452       1.327\n",
      "percent_change[T.0.0633147113594041]         0.4275      0.438      0.976      0.336      -0.462       1.317\n",
      "percent_change[T.0.07407407407407407]        0.4775      0.438      1.090      0.283      -0.412       1.367\n",
      "percent_change[T.0.07570977917981073]       -0.3325      0.438     -0.759      0.453      -1.222       0.557\n",
      "percent_change[T.0.07692307692307693]        0.4775      0.438      1.090      0.283      -0.412       1.367\n",
      "percent_change[T.0.07758620689655173]        0.4475      0.438      1.021      0.314      -0.442       1.337\n",
      "percent_change[T.0.07796610169491526]       -0.3325      0.438     -0.759      0.453      -1.222       0.557\n",
      "percent_change[T.0.0783132530120482]         0.3875      0.438      0.884      0.383      -0.502       1.277\n",
      "percent_change[T.0.08099173553719008]       -0.4675      0.438     -1.067      0.293      -1.357       0.422\n",
      "percent_change[T.0.08108108108108109]       -0.1325      0.438     -0.302      0.764      -1.022       0.757\n",
      "percent_change[T.0.08152173913043478]        0.1275      0.438      0.291      0.773      -0.762       1.017\n",
      "percent_change[T.0.08173076923076923]       -0.4645      0.438     -1.060      0.296      -1.354       0.425\n",
      "percent_change[T.0.08340573414422242]       -0.4275      0.438     -0.976      0.336      -1.317       0.462\n",
      "percent_change[T.0.0851063829787234]         0.2175      0.438      0.496      0.623      -0.672       1.107\n",
      "percent_change[T.0.08888888888888889]        0.2175      0.438      0.496      0.623      -0.672       1.107\n",
      "percent_change[T.0.09090909090909091]        0.3275      0.438      0.747      0.460      -0.562       1.217\n",
      "percent_change[T.0.09206349206349207]       -0.1325      0.438     -0.302      0.764      -1.022       0.757\n",
      "percent_change[T.0.0981012658227848]         0.2275      0.438      0.519      0.607      -0.662       1.117\n",
      "percent_change[T.0.1]                       -0.4815      0.438     -1.099      0.279      -1.371       0.408\n",
      "percent_change[T.0.10185185185185185]        0.4175      0.438      0.953      0.347      -0.472       1.307\n",
      "percent_change[T.0.10227272727272728]       -0.2525      0.438     -0.576      0.568      -1.142       0.637\n",
      "percent_change[T.0.10344827586206896]       -0.4986      0.438     -1.138      0.263      -1.388       0.391\n",
      "percent_change[T.0.1111111111111111]        -0.0252      0.331     -0.076      0.940      -0.698       0.647\n",
      "percent_change[T.0.11247216035634744]        0.0575      0.438      0.131      0.896      -0.832       0.947\n",
      "percent_change[T.0.11274787535410764]        0.4375      0.438      0.999      0.325      -0.452       1.327\n",
      "percent_change[T.0.11403508771929824]        0.0675      0.438      0.154      0.878      -0.822       0.957\n",
      "percent_change[T.0.1232876712328767]        -0.4035      0.438     -0.921      0.363      -1.293       0.486\n",
      "percent_change[T.0.125]                      0.4375      0.438      0.999      0.325      -0.452       1.327\n",
      "percent_change[T.0.12605042016806722]       -0.4855      0.438     -1.108      0.275      -1.375       0.404\n",
      "percent_change[T.0.1262135922330097]         0.2675      0.438      0.611      0.545      -0.622       1.157\n",
      "percent_change[T.0.12765217391304348]       -0.4935      0.438     -1.126      0.268      -1.383       0.396\n",
      "percent_change[T.0.1326530612244898]         0.3975      0.438      0.907      0.370      -0.492       1.287\n",
      "percent_change[T.0.13821138211382114]        0.3175      0.438      0.725      0.473      -0.572       1.207\n",
      "percent_change[T.0.14285714285714285]       -0.1625      0.438     -0.371      0.713      -1.052       0.727\n",
      "percent_change[T.0.1457286432160804]         0.3875      0.438      0.884      0.383      -0.502       1.277\n",
      "percent_change[T.0.14915966386554622]        0.1475      0.438      0.337      0.738      -0.742       1.037\n",
      "percent_change[T.0.15115207373271888]       -0.4195      0.438     -0.957      0.345      -1.309       0.470\n",
      "percent_change[T.0.15254237288135594]       -0.4990      0.438     -1.139      0.263      -1.388       0.391\n",
      "percent_change[T.0.15726495726495726]       -0.4952      0.438     -1.130      0.266      -1.385       0.394\n",
      "percent_change[T.0.15822784810126583]        0.0375      0.438      0.086      0.932      -0.852       0.927\n",
      "percent_change[T.0.16666666666666666]       -0.0510      0.331     -0.154      0.879      -0.723       0.621\n",
      "percent_change[T.0.16870876531573986]       -0.4675      0.438     -1.067      0.293      -1.357       0.422\n",
      "percent_change[T.0.16923076923076924]       -0.4675      0.438     -1.067      0.293      -1.357       0.422\n",
      "percent_change[T.0.16956521739130434]        0.4775      0.438      1.090      0.283      -0.412       1.367\n",
      "percent_change[T.0.1761786600496278]        -0.4025      0.438     -0.919      0.365      -1.292       0.487\n",
      "percent_change[T.0.1875]                     0.3275      0.438      0.747      0.460      -0.562       1.217\n",
      "percent_change[T.0.19230769230769232]       -0.4905      0.438     -1.119      0.271      -1.380       0.399\n",
      "percent_change[T.0.19767441860465115]       -0.4535      0.438     -1.035      0.308      -1.343       0.436\n",
      "percent_change[T.0.2052689352360044]        -0.4983      0.438     -1.137      0.263      -1.388       0.391\n",
      "percent_change[T.0.20909090909090908]       -0.4055      0.438     -0.925      0.361      -1.295       0.484\n",
      "percent_change[T.0.21052631578947367]       -0.2025      0.438     -0.462      0.647      -1.092       0.687\n",
      "percent_change[T.0.21296296296296297]       -0.3625      0.438     -0.827      0.414      -1.252       0.527\n",
      "percent_change[T.0.2180028129395218]         0.3675      0.438      0.839      0.407      -0.522       1.257\n",
      "percent_change[T.0.21875]                   -0.4915      0.438     -1.122      0.270      -1.381       0.398\n",
      "percent_change[T.0.2235294117647059]        -0.4645      0.438     -1.060      0.296      -1.354       0.425\n",
      "percent_change[T.0.22535211267605634]       -0.4855      0.438     -1.108      0.275      -1.375       0.404\n",
      "percent_change[T.0.22897800776196636]       -0.3725      0.438     -0.850      0.401      -1.262       0.517\n",
      "percent_change[T.0.2328767123287671]        -0.4961      0.438     -1.132      0.265      -1.386       0.393\n",
      "percent_change[T.0.24242424242424243]        0.4175      0.438      0.953      0.347      -0.472       1.307\n",
      "percent_change[T.0.24308755760368664]        0.3675      0.438      0.839      0.407      -0.522       1.257\n",
      "percent_change[T.0.25]                      -0.1525      0.438     -0.348      0.730      -1.042       0.737\n",
      "percent_change[T.0.2553191489361702]         0.3575      0.438      0.816      0.420      -0.532       1.247\n",
      "percent_change[T.0.25688073394495414]        0.2975      0.438      0.679      0.502      -0.592       1.187\n",
      "percent_change[T.0.25862068965517243]       -0.4875      0.438     -1.113      0.273      -1.377       0.402\n",
      "percent_change[T.0.2692307692307692]        -0.2925      0.438     -0.668      0.509      -1.182       0.597\n",
      "percent_change[T.0.27075812274368233]        0.4375      0.438      0.999      0.325      -0.452       1.327\n",
      "percent_change[T.0.27607361963190186]        0.1775      0.438      0.405      0.688      -0.712       1.067\n",
      "percent_change[T.0.2777777777777778]         0.0229      0.287      0.080      0.937      -0.559       0.605\n",
      "percent_change[T.0.2833333333333333]        -0.4855      0.438     -1.108      0.275      -1.375       0.404\n",
      "percent_change[T.0.2937853107344633]        -0.4445      0.438     -1.014      0.317      -1.334       0.445\n",
      "percent_change[T.0.2962962962962963]        -0.4984      0.438     -1.137      0.263      -1.388       0.391\n",
      "percent_change[T.0.30303030303030304]       -0.3625      0.438     -0.827      0.414      -1.252       0.527\n",
      "percent_change[T.0.3047034764826176]         0.0475      0.438      0.108      0.914      -0.842       0.937\n",
      "percent_change[T.0.3150684931506849]         0.1575      0.438      0.359      0.721      -0.732       1.047\n",
      "percent_change[T.0.3208092485549133]        -0.3525      0.438     -0.804      0.427      -1.242       0.537\n",
      "percent_change[T.0.3268156424581006]        -0.4835      0.438     -1.103      0.277      -1.373       0.406\n",
      "percent_change[T.0.3286573146292585]        -0.4960      0.438     -1.132      0.265      -1.385       0.394\n",
      "percent_change[T.0.3333333333333333]         0.4775      0.438      1.090      0.283      -0.412       1.367\n",
      "percent_change[T.0.33962264150943394]        0.4775      0.438      1.090      0.283      -0.412       1.367\n",
      "percent_change[T.0.34615384615384615]       -0.0725      0.438     -0.165      0.870      -0.962       0.817\n",
      "percent_change[T.0.36134453781512604]        0.2375      0.438      0.542      0.591      -0.652       1.127\n",
      "percent_change[T.0.38927738927738925]       -0.2025      0.438     -0.462      0.647      -1.092       0.687\n",
      "percent_change[T.0.4]                        0.3975      0.438      0.907      0.370      -0.492       1.287\n",
      "percent_change[T.0.4146341463414634]         0.3175      0.438      0.725      0.473      -0.572       1.207\n",
      "percent_change[T.0.4318181818181818]        -0.4025      0.438     -0.919      0.365      -1.292       0.487\n",
      "percent_change[T.0.4330357142857143]        -0.4970      0.438     -1.134      0.264      -1.386       0.393\n",
      "percent_change[T.0.44075829383886256]       -0.4815      0.438     -1.099      0.279      -1.371       0.408\n",
      "percent_change[T.0.4444444444444444]         0.4175      0.438      0.953      0.347      -0.472       1.307\n",
      "percent_change[T.0.4576719576719577]         0.0775      0.438      0.177      0.861      -0.812       0.967\n",
      "percent_change[T.0.4787310742609949]         0.3775      0.438      0.862      0.395      -0.512       1.267\n",
      "percent_change[T.0.49206349206349204]       -0.4958      0.438     -1.132      0.266      -1.385       0.394\n",
      "percent_change[T.0.49748743718592964]       -0.4225      0.438     -0.964      0.342      -1.312       0.467\n",
      "percent_change[T.0.5]                       -0.2791      0.287     -0.973      0.337      -0.861       0.303\n",
      "percent_change[T.0.5277777777777778]         0.1075      0.438      0.245      0.808      -0.782       0.997\n",
      "percent_change[T.0.5371900826446281]        -0.4805      0.438     -1.097      0.280      -1.370       0.409\n",
      "percent_change[T.0.5761589403973509]        -0.3725      0.438     -0.850      0.401      -1.262       0.517\n",
      "percent_change[T.0.6]                        0.4575      0.438      1.044      0.304      -0.432       1.347\n",
      "percent_change[T.0.625]                     -0.1125      0.438     -0.257      0.799      -1.002       0.777\n",
      "percent_change[T.0.6382978723404256]        -0.4905      0.438     -1.119      0.271      -1.380       0.399\n",
      "percent_change[T.0.6536312849162011]         0.3175      0.438      0.725      0.473      -0.572       1.207\n",
      "percent_change[T.0.6666666666666666]         0.2575      0.331      0.777      0.442      -0.415       0.930\n",
      "percent_change[T.0.684931506849315]          0.1075      0.438      0.245      0.808      -0.782       0.997\n",
      "percent_change[T.0.8]                        0.1475      0.438      0.337      0.738      -0.742       1.037\n",
      "percent_change[T.0.8125]                     0.1575      0.438      0.359      0.721      -0.732       1.047\n",
      "percent_change[T.0.8873239436619719]         0.4375      0.438      0.999      0.325      -0.452       1.327\n",
      "percent_change[T.1.0]                       -0.1325      0.438     -0.302      0.764      -1.022       0.757\n",
      "percent_change[T.1.0555555555555556]         0.4075      0.438      0.930      0.359      -0.482       1.297\n",
      "percent_change[T.1.148936170212766]         -0.2825      0.438     -0.645      0.523      -1.172       0.607\n",
      "percent_change[T.1.3333333333333333]         0.3675      0.438      0.839      0.407      -0.522       1.257\n",
      "percent_change[T.1.3511904761904763]         0.3875      0.438      0.884      0.383      -0.502       1.277\n",
      "percent_change[T.1.5]                       -0.4655      0.438     -1.062      0.295      -1.355       0.424\n",
      "percent_change[T.1.5714285714285714]         0.3675      0.438      0.839      0.407      -0.522       1.257\n",
      "percent_change[T.2.8764044943820224]        -0.2725      0.438     -0.622      0.538      -1.162       0.617\n",
      "==============================================================================\n",
      "Omnibus:                       60.489   Durbin-Watson:                   1.967\n",
      "Prob(Omnibus):                  0.000   Jarque-Bera (JB):              441.758\n",
      "Skew:                          -0.635   Prob(JB):                     1.18e-96\n",
      "Kurtosis:                       9.089   Cond. No.                         106.\n",
      "==============================================================================\n",
      "\n",
      "Warnings:\n",
      "[1] Standard Errors assume that the covariance matrix of the errors is correctly specified.\n"
     ]
    }
   ],
   "source": [
    "# OLS Regression for Probability and percent change\n",
    "# NOTE: Data does not meet requirements necessary for testing linearity, but want to take a look \n",
    "\n",
    "outcome, predictors = patsy.dmatrices('Probability ~ percent_change', df_prob_m_trim)\n",
    "model = sm.OLS(outcome, predictors)\n",
    "results = model.fit()\n",
    "\n",
    "print(results.summary())"
   ]
  },
  {
   "cell_type": "markdown",
   "metadata": {},
   "source": [
    "**What were the results?**\n",
    "\n",
    "The results from our analysis of the relationship between percent change in employment and the probability of automation shows poor results. Due to the bimodal distribution of the probability of automation, our data was not properly distributed for this type of regression. Further attempts to normalize the data did not prove to be successful, nor did further regression attempts.\n",
    "\n",
    "**What were your interpretation of these findings?**\n",
    "\n",
    "Although the findings from the relation between employment percent change and automation did not prove to be conclusive of anything, we initially interpreted these results to show that the likelihood (probability) of automation is a complex factor with many contributing factors, and as such, we could not analyze it solely by looking at one possible contributor. This led to a breadth of comparisons being done in order to better understand the different contributing factors to likelihood of automation."
   ]
  },
  {
   "cell_type": "markdown",
   "metadata": {},
   "source": [
    "## Income Analysis"
   ]
  },
  {
   "cell_type": "markdown",
   "metadata": {},
   "source": [
    "### Wage by State"
   ]
  },
  {
   "cell_type": "markdown",
   "metadata": {},
   "source": [
    "### EDA"
   ]
  },
  {
   "cell_type": "markdown",
   "metadata": {},
   "source": [
    "**Distributions**\n",
    "The variable \"income\" consists of a unimodal distribution.\n",
    "\n",
    "**Outliers**\n",
    "There was one outlier in the analysis of automation likelihood vs. percent change in income: District of Columbia, Automation: 0.299355, Income Percent Change: 0.364582.\n",
    "\n",
    "**Relationship Between Variables**\n",
    "There is a negative relationship between the likelihood of automation in a state and the percent change in income in a state"
   ]
  },
  {
   "cell_type": "code",
   "execution_count": 29,
   "metadata": {},
   "outputs": [
    {
     "data": {
      "text/plain": [
       "<matplotlib.axes._subplots.AxesSubplot at 0x181d8821908>"
      ]
     },
     "execution_count": 29,
     "metadata": {},
     "output_type": "execute_result"
    },
    {
     "data": {
      "image/png": "[encoded data removed]",
      "text/plain": [
       "<Figure size 432x288 with 1 Axes>"
      ]
     },
     "metadata": {
      "needs_background": "light"
     },
     "output_type": "display_data"
    }
   ],
   "source": [
    "sns.distplot(totalIn.change)"
   ]
  },
  {
   "cell_type": "code",
   "execution_count": 30,
   "metadata": {},
   "outputs": [
    {
     "data": {
      "text/plain": [
       "<matplotlib.axes._subplots.AxesSubplot at 0x181d7829948>"
      ]
     },
     "execution_count": 30,
     "metadata": {},
     "output_type": "execute_result"
    },
    {
     "data": {
      "image/png": "[encoded data removed]",
      "text/plain": [
       "<Figure size 432x288 with 1 Axes>"
      ]
     },
     "metadata": {
      "needs_background": "light"
     },
     "output_type": "display_data"
    }
   ],
   "source": [
    "sns.distplot(incomeANDautomation.Automation)"
   ]
  },
  {
   "cell_type": "markdown",
   "metadata": {},
   "source": [
    "### Analysis"
   ]
  },
  {
   "cell_type": "code",
   "execution_count": 31,
   "metadata": {},
   "outputs": [
    {
     "data": {
      "image/png": "[encoded data removed]",
      "text/plain": [
       "<Figure size 432x288 with 1 Axes>"
      ]
     },
     "metadata": {
      "needs_background": "light"
     },
     "output_type": "display_data"
    }
   ],
   "source": [
    "sns.scatterplot(incomeANDautomation.Automation, incomeANDautomation.change)\n",
    "ax = sns.regplot(x=\"Automation\", y=\"change\", data=incomeANDautomation)\n",
    "ax.set(title='Job Automation Likelihood vs. Percent Change in Income per State', xlabel='Job Automation Likelihood', ylabel='Percent Change in Income')\n",
    "plt.show()"
   ]
  },
  {
   "cell_type": "markdown",
   "metadata": {},
   "source": [
    "**What approaches did you use? Why?**\n",
    "\n",
    "We analyze the relationship between percent change in income and probability of automation using a Linear Regression model. This was done because there was a clear downwards shape in the data."
   ]
  },
  {
   "cell_type": "code",
   "execution_count": 32,
   "metadata": {},
   "outputs": [
    {
     "name": "stdout",
     "output_type": "stream",
     "text": [
      "                            OLS Regression Results                            \n",
      "==============================================================================\n",
      "Dep. Variable:             Automation   R-squared:                       0.104\n",
      "Model:                            OLS   Adj. R-squared:                  0.085\n",
      "Method:                 Least Squares   F-statistic:                     5.671\n",
      "Date:                Wed, 10 Jun 2020   Prob (F-statistic):             0.0212\n",
      "Time:                        19:55:24   Log-Likelihood:                 117.09\n",
      "No. Observations:                  51   AIC:                            -230.2\n",
      "Df Residuals:                      49   BIC:                            -226.3\n",
      "Df Model:                           1                                         \n",
      "Covariance Type:            nonrobust                                         \n",
      "==============================================================================\n",
      "                 coef    std err          t      P>|t|      [0.025      0.975]\n",
      "------------------------------------------------------------------------------\n",
      "Intercept      0.4151      0.010     42.311      0.000       0.395       0.435\n",
      "change        -0.1146      0.048     -2.381      0.021      -0.211      -0.018\n",
      "==============================================================================\n",
      "Omnibus:                        2.141   Durbin-Watson:                   1.684\n",
      "Prob(Omnibus):                  0.343   Jarque-Bera (JB):                1.256\n",
      "Skew:                          -0.284   Prob(JB):                        0.534\n",
      "Kurtosis:                       3.518   Cond. No.                         14.3\n",
      "==============================================================================\n",
      "\n",
      "Warnings:\n",
      "[1] Standard Errors assume that the covariance matrix of the errors is correctly specified.\n"
     ]
    }
   ],
   "source": [
    "outcome2, predictors2 = patsy.dmatrices('Automation ~ change', incomeANDautomation)\n",
    "model2 = sm.OLS(outcome2, predictors2)\n",
    "results2 = model2.fit()\n",
    "\n",
    "print(results2.summary())"
   ]
  },
  {
   "cell_type": "markdown",
   "metadata": {},
   "source": [
    "**What were the results?**\n",
    "\n",
    "With an alpha value of 0.05, an R value of -0.085 indicates that there is some significance in the correlation between automation likelihood in a state and its percent change in income levels.\n",
    "\n",
    "**What were your interpretation of these findings?**\n",
    "\n",
    "Since the correlation value is negative, we can assume that there is a correlation between an increase in automation level and the subsequent decrease in income change. This means that there is a correlation in where as automation levels income, that income levels decrease. "
   ]
  },
  {
   "cell_type": "code",
   "execution_count": 33,
   "metadata": {},
   "outputs": [],
   "source": [
    "automation1of3 = incomeANDautomation.loc[incomeANDautomation.Automation <= 0.35]\n",
    "automation2of3 = incomeANDautomation.loc[(incomeANDautomation.Automation > 0.35) & (incomeANDautomation.Automation <= 0.4)]\n",
    "automation3of3 = incomeANDautomation.loc[incomeANDautomation.Automation > 0.4]"
   ]
  },
  {
   "cell_type": "code",
   "execution_count": 34,
   "metadata": {},
   "outputs": [
    {
     "data": {
      "image/png": "[encoded data removed]",
      "text/plain": [
       "<Figure size 432x288 with 1 Axes>"
      ]
     },
     "metadata": {
      "needs_background": "light"
     },
     "output_type": "display_data"
    }
   ],
   "source": [
    "sns.scatterplot(automation3of3.Automation, automation3of3.change)\n",
    "ax3 = sns.regplot(x=\"Automation\", y=\"change\", data=automation3of3)\n",
    "ax3.set(xlabel='Automation Likelihood', ylabel='Percent Change in Income')\n",
    "plt.show()"
   ]
  },
  {
   "cell_type": "code",
   "execution_count": 35,
   "metadata": {},
   "outputs": [
    {
     "name": "stdout",
     "output_type": "stream",
     "text": [
      "                            OLS Regression Results                            \n",
      "==============================================================================\n",
      "Dep. Variable:             Automation   R-squared:                       0.038\n",
      "Model:                            OLS   Adj. R-squared:                  0.004\n",
      "Method:                 Least Squares   F-statistic:                     1.112\n",
      "Date:                Wed, 10 Jun 2020   Prob (F-statistic):              0.301\n",
      "Time:                        19:55:25   Log-Likelihood:                 87.546\n",
      "No. Observations:                  30   AIC:                            -171.1\n",
      "Df Residuals:                      28   BIC:                            -168.3\n",
      "Df Model:                           1                                         \n",
      "Covariance Type:            nonrobust                                         \n",
      "==============================================================================\n",
      "                 coef    std err          t      P>|t|      [0.025      0.975]\n",
      "------------------------------------------------------------------------------\n",
      "Intercept      0.3871      0.007     55.211      0.000       0.373       0.401\n",
      "change        -0.0353      0.033     -1.055      0.301      -0.104       0.033\n",
      "==============================================================================\n",
      "Omnibus:                        2.246   Durbin-Watson:                   1.315\n",
      "Prob(Omnibus):                  0.325   Jarque-Bera (JB):                1.948\n",
      "Skew:                          -0.519   Prob(JB):                        0.377\n",
      "Kurtosis:                       2.305   Cond. No.                         14.1\n",
      "==============================================================================\n",
      "\n",
      "Warnings:\n",
      "[1] Standard Errors assume that the covariance matrix of the errors is correctly specified.\n"
     ]
    }
   ],
   "source": [
    "outcome3, predictors3 = patsy.dmatrices('Automation ~ change', automation2of3)\n",
    "model3 = sm.OLS(outcome3, predictors3)\n",
    "results3 = model3.fit()\n",
    "\n",
    "print(results3.summary())"
   ]
  },
  {
   "cell_type": "code",
   "execution_count": 36,
   "metadata": {},
   "outputs": [
    {
     "data": {
      "image/png": "[encoded data removed]",
      "text/plain": [
       "<Figure size 432x288 with 1 Axes>"
      ]
     },
     "metadata": {
      "needs_background": "light"
     },
     "output_type": "display_data"
    }
   ],
   "source": [
    "sns.scatterplot(automation2of3.Automation, automation2of3.change)\n",
    "ax1 = sns.regplot(x=\"Automation\", y=\"change\", data=automation2of3)\n",
    "ax1.set(xlabel='Automation Likelihood', ylabel='Percent Change in Income')\n",
    "plt.show()"
   ]
  },
  {
   "cell_type": "code",
   "execution_count": 37,
   "metadata": {},
   "outputs": [
    {
     "name": "stdout",
     "output_type": "stream",
     "text": [
      "                            OLS Regression Results                            \n",
      "==============================================================================\n",
      "Dep. Variable:             Automation   R-squared:                       0.017\n",
      "Model:                            OLS   Adj. R-squared:                 -0.038\n",
      "Method:                 Least Squares   F-statistic:                    0.3098\n",
      "Date:                Wed, 10 Jun 2020   Prob (F-statistic):              0.585\n",
      "Time:                        19:55:25   Log-Likelihood:                 60.719\n",
      "No. Observations:                  20   AIC:                            -117.4\n",
      "Df Residuals:                      18   BIC:                            -115.4\n",
      "Df Model:                           1                                         \n",
      "Covariance Type:            nonrobust                                         \n",
      "==============================================================================\n",
      "                 coef    std err          t      P>|t|      [0.025      0.975]\n",
      "------------------------------------------------------------------------------\n",
      "Intercept      0.4129      0.009     47.477      0.000       0.395       0.431\n",
      "change         0.0264      0.047      0.557      0.585      -0.073       0.126\n",
      "==============================================================================\n",
      "Omnibus:                        2.816   Durbin-Watson:                   2.134\n",
      "Prob(Omnibus):                  0.245   Jarque-Bera (JB):                2.031\n",
      "Skew:                           0.773   Prob(JB):                        0.362\n",
      "Kurtosis:                       2.779   Cond. No.                         17.9\n",
      "==============================================================================\n",
      "\n",
      "Warnings:\n",
      "[1] Standard Errors assume that the covariance matrix of the errors is correctly specified.\n"
     ]
    }
   ],
   "source": [
    "outcome4, predictors4 = patsy.dmatrices('Automation ~ change', automation3of3)\n",
    "model4 = sm.OLS(outcome4, predictors4)\n",
    "results4 = model4.fit()\n",
    "\n",
    "print(results4.summary())"
   ]
  },
  {
   "cell_type": "code",
   "execution_count": 41,
   "metadata": {},
   "outputs": [
    {
     "data": {
      "image/png": "[encoded data removed]",
      "text/plain": [
       "<Figure size 576x576 with 1 Axes>"
      ]
     },
     "metadata": {
      "needs_background": "light"
     },
     "output_type": "display_data"
    }
   ],
   "source": [
    "plt.figure(figsize=(8,8))\n",
    "automation1of3 = automation1of3.assign(Location='low')\n",
    "automation2of3 = automation2of3.assign(Location='medium')\n",
    "automation3of3 = automation3of3.assign(Location='high')\n",
    "cdf = pd.concat([automation1of3, automation2of3, automation3of3]) \n",
    "ax = sns.boxplot(x=\"Location\", y=\"change\", data=cdf)\n",
    "ax.set(title='Job Automation Likelihood vs. Income Change',xlabel='Job Automation Likelihood', ylabel='Income Change')\n",
    "\n",
    "plt.show()"
   ]
  },
  {
   "cell_type": "code",
   "execution_count": 38,
   "metadata": {},
   "outputs": [],
   "source": [
    "state_incomeChange = []\n",
    "for state in states:\n",
    "    incomeChange = 0\n",
    "    for index in range(len(totalIncomeState)):\n",
    "        incomeChange = totalIncomeState['change'][index] \n",
    "        state_incomeChange.append(incomeChange)"
   ]
  },
  {
   "cell_type": "code",
   "execution_count": 42,
   "metadata": {},
   "outputs": [
    {
     "ename": "NameError",
     "evalue": "name 'go' is not defined",
     "output_type": "error",
     "traceback": [
      "\u001b[1;31m---------------------------------------------------------------------------\u001b[0m",
      "\u001b[1;31mNameError\u001b[0m                                 Traceback (most recent call last)",
      "\u001b[1;32m<ipython-input-42-f48768ac6f1d>\u001b[0m in \u001b[0;36m<module>\u001b[1;34m\u001b[0m\n\u001b[1;32m----> 1\u001b[1;33m fig = go.Figure(data=go.Choropleth(\n\u001b[0m\u001b[0;32m      2\u001b[0m     \u001b[0mlocations\u001b[0m\u001b[1;33m=\u001b[0m\u001b[0mstates_abbv\u001b[0m\u001b[1;33m,\u001b[0m\u001b[1;33m\u001b[0m\u001b[1;33m\u001b[0m\u001b[0m\n\u001b[0;32m      3\u001b[0m     \u001b[0mz\u001b[0m \u001b[1;33m=\u001b[0m \u001b[0mstate_incomeChange\u001b[0m\u001b[1;33m,\u001b[0m\u001b[1;33m\u001b[0m\u001b[1;33m\u001b[0m\u001b[0m\n\u001b[0;32m      4\u001b[0m     \u001b[0mlocationmode\u001b[0m \u001b[1;33m=\u001b[0m \u001b[1;34m'USA-states'\u001b[0m\u001b[1;33m,\u001b[0m\u001b[1;33m\u001b[0m\u001b[1;33m\u001b[0m\u001b[0m\n\u001b[0;32m      5\u001b[0m     \u001b[0mcolorscale\u001b[0m \u001b[1;33m=\u001b[0m \u001b[1;34m'Purples'\u001b[0m\u001b[1;33m,\u001b[0m\u001b[1;33m\u001b[0m\u001b[1;33m\u001b[0m\u001b[0m\n",
      "\u001b[1;31mNameError\u001b[0m: name 'go' is not defined"
     ]
    }
   ],
   "source": [
    "fig = go.Figure(data=go.Choropleth(\n",
    "    locations=states_abbv,\n",
    "    z = state_incomeChange,\n",
    "    locationmode = 'USA-states',\n",
    "    colorscale = 'Purples',\n",
    "    colorbar_title =  \"Income Change\",\n",
    "))\n",
    "\n",
    "fig.update_layout(\n",
    "    title_text = 'Income Percent Change 2008 to 2017',\n",
    "    geo_scope='usa',\n",
    ")\n",
    "\n",
    "fig.show()"
   ]
  },
  {
   "cell_type": "markdown",
   "metadata": {},
   "source": [
    "## Wage by Occupation"
   ]
  },
  {
   "cell_type": "markdown",
   "metadata": {},
   "source": [
    "### EDA"
   ]
  },
  {
   "cell_type": "markdown",
   "metadata": {},
   "source": [
    "**Distributions**\n",
    "\n",
    "Our annual mean wage variable takes a right-skewed normal distribution. We remove the skew by applying a natural log function to this data.\n",
    "\n",
    "**Outliers**\n",
    "\n",
    "There is at least one outlier in annual mean income around $225,000"
   ]
  },
  {
   "cell_type": "code",
   "execution_count": null,
   "metadata": {},
   "outputs": [],
   "source": [
    "# Distribution of annual mean income\n",
    "sns.distplot(df_probwages_m.A_MEAN)\n",
    "plt.xlabel('Mean Annual Income')\n",
    "plt.title('Distribution of Mean Annual Income', loc='left')\n",
    "plt.show()"
   ]
  },
  {
   "cell_type": "code",
   "execution_count": null,
   "metadata": {},
   "outputs": [],
   "source": [
    "# Investigate mean annual income outlier\n",
    "df_probwages_m[df_probwages_m.A_MEAN > 225000]"
   ]
  },
  {
   "cell_type": "markdown",
   "metadata": {},
   "source": [
    "We see that these two extremely high paying outliers are both oral health occupations with a low probability of automation."
   ]
  },
  {
   "cell_type": "code",
   "execution_count": null,
   "metadata": {},
   "outputs": [],
   "source": [
    "# Distribution of log annual mean income\n",
    "sns.distplot(np.log(df_probwages_m.A_MEAN))\n",
    "plt.xlabel('Log(Mean Annual Income)')\n",
    "plt.title('Distribution of log Mean Annual Income', loc='left')\n",
    "plt.yticks(np.arange(0.0,1.2,0.2))\n",
    "plt.show()"
   ]
  },
  {
   "cell_type": "code",
   "execution_count": null,
   "metadata": {},
   "outputs": [],
   "source": [
    "# Test normality of log wage\n",
    "stat_wage_mean_log, p_wage_mean_log = normaltest(df_probwages_m.log_A_MEAN)\n",
    "print('log mean wage is normally distributed') if p_wage_mean_log < 0.01 else print('log mean wage is NOT normally distributed')"
   ]
  },
  {
   "cell_type": "markdown",
   "metadata": {},
   "source": [
    "Since the data for log mean wage are normally distributed, we can consider a linear regression model to analyze the relation between income and probability."
   ]
  },
  {
   "cell_type": "markdown",
   "metadata": {},
   "source": [
    "### Analysis"
   ]
  },
  {
   "cell_type": "markdown",
   "metadata": {},
   "source": [
    "**What approaches did you use? Why?**\n",
    "\n",
    "We analyze the relationship between log annual income and probability of automation by using an OLS Linear Regression model because there is a clear linear relationship between these two variables."
   ]
  },
  {
   "cell_type": "code",
   "execution_count": null,
   "metadata": {},
   "outputs": [],
   "source": [
    "# Complete regression for relationship between probabilty of automation and log mean annual income\n",
    "outcome, predictors = patsy.dmatrices('Probability ~ log_A_MEAN', df_probwages_m)\n",
    "model = sm.OLS(outcome, predictors)\n",
    "results = model.fit()\n",
    "\n",
    "print(results.summary())"
   ]
  },
  {
   "cell_type": "code",
   "execution_count": null,
   "metadata": {
    "scrolled": true
   },
   "outputs": [],
   "source": [
    "# Look at ditribution of probability and log annual income\n",
    "sns.scatterplot(df_probwages_m.Probability, df_probwages_m.log_A_MEAN)\n",
    "plt.xlabel('Probability of Automation')\n",
    "plt.ylabel('Mean Annual Income')\n",
    "plt.title('Probability of Automation vs Mean Annual Income', loc='left')\n",
    "plt.show()"
   ]
  },
  {
   "cell_type": "markdown",
   "metadata": {},
   "source": [
    "**What were the results?**\n",
    "\n",
    "The results from our analysis of the relationship between log annual income and the probability of automation provide a $P|t|$ value of 0.000, with an Adjusted $R^2$ value of 0.330.\n",
    "\n",
    "**What were your interpretation of these findings?**\n",
    "\n",
    "We interpret the findings between log annual income and probability of income to support our initial hypothesis that lower paying jobs are more likely to suffer from job automation. Although our $R^2$ value is low from the OLS Regression we performed, our 0.000 p value shows that this data is at least conclusive. We believe that further analysis with additional variables can improve our adjusted $R^2$ value. However, it is important to be cautious with these findings, since our probability of automation data are not normally distributed."
   ]
  },
  {
   "cell_type": "markdown",
   "metadata": {},
   "source": [
    "## Employment & Automation by State"
   ]
  },
  {
   "cell_type": "markdown",
   "metadata": {},
   "source": [
    "### Analysis"
   ]
  },
  {
   "cell_type": "markdown",
   "metadata": {},
   "source": [
    "**What approaches did you use? Why?**\n",
    "\n",
    "For analysing which jobs are most likely to most contribute to automation, we look at the total number of employees per occupation in each state, and take that as a percent of the total number of working employees in that state. That percentage is then multiplied by the occupation's respective probability of automation, and each state is summed across each occupation. This gives the relative weighted likelihood of automation across each state. We further look at which occupation most contributes to this factor, and organize this data geospatially. We chose to analyze this data in this way because it gave a relative score that allows us to compare each state’s overall probability of automation, instead of having our data skewed by looking at absolute employment values. This method also gives insight on which jobs need further attention in our analyses."
   ]
  },
  {
   "cell_type": "code",
   "execution_count": null,
   "metadata": {},
   "outputs": [],
   "source": [
    "# Build composite likelihood of unemployment per state\n",
    "state_likelihood = []\n",
    "df_state_data = pd.DataFrame()\n",
    "for state in states:\n",
    "    likelihood = 0.0\n",
    "    max_likelihood = 0.0\n",
    "    for index in range(len(df_prob_m)):\n",
    "        new_likelihood = df_prob_m['Probability'][index] * df_prob_m_normed[state][index]\n",
    "        likelihood += new_likelihood\n",
    "        if  new_likelihood > max_likelihood:\n",
    "            max_likelihood = new_likelihood\n",
    "            df_state_data[state] = (df_prob_m.Occupation[index], df_prob_m[state][index], df_prob_m.SOC[index])\n",
    "         \n",
    "    state_likelihood.append(likelihood)\n",
    "    #print('state: {}\\n\\t {}'.format(state, likelihood))"
   ]
  },
  {
   "cell_type": "code",
   "execution_count": null,
   "metadata": {},
   "outputs": [],
   "source": [
    "# Transform state data dataframe for easier manipulation\n",
    "df_state_data = df_state_data.transpose()\n",
    "df_state_data.rename(columns={0:'Occupation', 1:'Number', 2:'SOC'},inplace=True)"
   ]
  },
  {
   "cell_type": "code",
   "execution_count": null,
   "metadata": {},
   "outputs": [],
   "source": [
    "# Change datatype for number of employees\n",
    "df_state_data.Number = df_state_data.Number.astype(str)"
   ]
  },
  {
   "cell_type": "code",
   "execution_count": null,
   "metadata": {},
   "outputs": [],
   "source": [
    "# Look at the occupations that most contribute to a state's weighted likelihood of automation, along with the\n",
    "## occupation's respective wage and number of states in which it is the top contributor\n",
    "for occupation in df_state_data.Occupation.unique():\n",
    "    SOC = df_state_data[df_state_data.Occupation == occupation].SOC.unique()[0]\n",
    "    wage = int(df_wages[df_wages.SOC == SOC].A_MEAN.values[0])\n",
    "    n_states = len(df_state_data[df_state_data.Occupation == occupation])\n",
    "    print('Occupation: {}\\n   Wage: {}\\n   Num States: {}'.format(occupation, wage, n_states))"
   ]
  },
  {
   "cell_type": "markdown",
   "metadata": {},
   "source": [
    "From this we can see that an the most overwhelming amount of jobs that will be lost due to automation will occur to retail salespeople. (This analysis looks at the amount of people affected multiplied by the probability of automation)"
   ]
  },
  {
   "cell_type": "code",
   "execution_count": null,
   "metadata": {
    "scrolled": false
   },
   "outputs": [],
   "source": [
    "# Add text column for hover-info on map\n",
    "df_state_data['text'] = df_state_data.index + '<br>' + \\\n",
    "'Most affected occupation: ' + df_state_data.Occupation + '<br>' + \\\n",
    "'Num employees of occupation in state: ' + df_state_data.Number\n",
    "\n",
    "# Plot the weighted likelihood of automation by state\n",
    "fig = go.Figure(data=go.Choropleth(\n",
    "    locations=states_abbv, # Spatial coordinates\n",
    "    z = state_likelihood, # Data to be color-coded\n",
    "    locationmode = 'USA-states', # set of locations match entries in `locations`\n",
    "    colorscale = 'blues',\n",
    "    colorbar_title =  \"Automation Probability\",\n",
    "    autocolorscale=False,\n",
    "    text = df_state_data.text\n",
    "))\n",
    "\n",
    "fig.update_layout(\n",
    "    title_text = 'Likelihood of Job Automation by State',\n",
    "    geo_scope='usa', # limite map scope to USA\n",
    ")\n",
    "\n",
    "fig.show()"
   ]
  },
  {
   "cell_type": "markdown",
   "metadata": {},
   "source": [
    "**What were the results?**\n",
    "\n",
    "The results from our analysis between likelihood of automation by state show that there are only five different jobs across all 50 states + DC (51 total “areas”) that are the area’s highest contributors towards job automation. These occupations include cashiers, retail workers, administrative assistants, food prep & service workers, and office clerical workers. For 40 out of the 51 areas we analyze, the highest contributing occupation are retail workers. This occupation has an average US wage of around $27,000, which is less than half of the average income for 2016 in which this data were collected, and falls below the first quartile for US workers. We also see that the lowest aggregate probability of automation is in DC, at 29.93\\% total risk of automation. The highest contributor in DC is secretaries.\n",
    "\n",
    "**What were your interpretation of these findings?**\n",
    "\n",
    "We interpret the findings of our state-automation data to support our hypothesis that lower-paying jobs will be more susceptible to job automation than higher paying jobs would. Since this statistic is based on the number of employees per occupation, it is necessary to make the distinction that this metric looks at the probability of automation for the highest number of jobs. A job with 100 employees and a .99 probability of automation would have the same metric as a job with 1000 employees and a .099 probability of automation. \n",
    "\n",
    "It is also interesting to consider secretaries in DC. The secretary position is the highest paying occupation from the five highest-contributor occupations. We interpret this under the assumption that a secretary is a relatively common job in DC (with each of the many political positions, among others, requiring at least one secretary). This means that secretaries make up a significant amount of the jobs held in DC, but current technological advancements like digital assistants and phone screenings may soon be capable of automating this position."
   ]
  },
  {
   "cell_type": "markdown",
   "metadata": {},
   "source": [
    "## Job Skillsets "
   ]
  },
  {
   "cell_type": "markdown",
   "metadata": {},
   "source": [
    "### EDA"
   ]
  },
  {
   "cell_type": "markdown",
   "metadata": {},
   "source": [
    "**Distributions**\n",
    "\n",
    "**Outliers**\n",
    "\n",
    "**Relationships Between Variables**"
   ]
  },
  {
   "cell_type": "code",
   "execution_count": null,
   "metadata": {},
   "outputs": [],
   "source": [
    "#Distribution of Perception and Manipulation Importance among jobs\n",
    "sns.distplot(df_prob_h.Perception_and_Manipulation, bins=20)\n",
    "plt.xlabel('Skill Importance')\n",
    "plt.title('Importance of Perception and Manipulation Skills', loc='left')\n",
    "plt.show()"
   ]
  },
  {
   "cell_type": "code",
   "execution_count": null,
   "metadata": {},
   "outputs": [],
   "source": [
    "#Distribution of Creative Intelligence Importance among jobs\n",
    "sns.distplot(df_prob_h.Creative_Intelligence, bins=20)\n",
    "plt.xlabel('Skill Importance')\n",
    "plt.title('Importance of Creative Intelligence Skills', loc='left')\n",
    "plt.show()"
   ]
  },
  {
   "cell_type": "code",
   "execution_count": null,
   "metadata": {},
   "outputs": [],
   "source": [
    "#Distribution of Social Intelligence Importance among jobs\n",
    "sns.distplot(df_prob_h.Social_Intelligence, bins=20)\n",
    "plt.xlabel('Skill Importance')\n",
    "plt.title('Importance of Creative Intelligence Skills', loc='left')\n",
    "plt.show()"
   ]
  },
  {
   "cell_type": "markdown",
   "metadata": {},
   "source": [
    "### Analysis"
   ]
  },
  {
   "cell_type": "markdown",
   "metadata": {},
   "source": [
    "**What approaches did you use? Why?**"
   ]
  },
  {
   "cell_type": "code",
   "execution_count": null,
   "metadata": {},
   "outputs": [],
   "source": [
    "#Regression of Perception and Manipulation \n",
    "outcome, predictors = patsy.dmatrices('Probability ~ Perception_and_Manipulation', df_prob_h)\n",
    "mod = sm.OLS(outcome, predictors)\n",
    "res = mod.fit()\n",
    "print(res.summary())"
   ]
  },
  {
   "cell_type": "code",
   "execution_count": null,
   "metadata": {},
   "outputs": [],
   "source": [
    "#Regression of Creative Intelligence \n",
    "outcome, predictors = patsy.dmatrices('Probability ~ Creative_Intelligence', df_prob_h)\n",
    "mod = sm.OLS(outcome, predictors)\n",
    "res = mod.fit()\n",
    "print(res.summary())"
   ]
  },
  {
   "cell_type": "code",
   "execution_count": null,
   "metadata": {},
   "outputs": [],
   "source": [
    "#Regression of Social Intelligence \n",
    "outcome, predictors = patsy.dmatrices('Probability ~ Social_Intelligence', df_prob_h)\n",
    "mod = sm.OLS(outcome, predictors)\n",
    "res = mod.fit()\n",
    "print(res.summary())"
   ]
  },
  {
   "cell_type": "code",
   "execution_count": null,
   "metadata": {},
   "outputs": [],
   "source": [
    "#Perception and Manipulation Box Plot\n",
    "\n",
    "merged_df1low = df_prob_h.loc[df_prob_h['Probability'] <= 0.33].assign(Location=\"Low\")\n",
    "merged_df1medium = df_prob_h.loc[(df_prob_h['Probability'] > 0.33) & (df_prob_h['Probability'] <= 0.66)].assign(Location=\"Medium\")\n",
    "merged_df1high = df_prob_h.loc[df_prob_h['Probability'] > 0.66].assign(Location=\"High\")\n",
    "\n",
    "allValues = [merged_df1low, merged_df1medium, merged_df1high]\n",
    "allMerged = pd.concat(allValues)\n",
    "\n",
    "plt.figure(figsize=(8,8))\n",
    "cdf = pd.concat([merged_df1low, merged_df1medium, merged_df1high]) \n",
    "ax = sns.boxplot(x=\"Location\", y=\"Perception_and_Manipulation\", data=cdf)\n",
    "ax.set(title='Job Automation Likelihood vs. Perception and Manipulation',xlabel='Job Automation Likelihood', \n",
    "       ylabel='Perception and Manipulation Importance')\n",
    "\n",
    "plt.show()\n",
    "merged_df1high.shape"
   ]
  },
  {
   "cell_type": "code",
   "execution_count": null,
   "metadata": {},
   "outputs": [],
   "source": [
    "#Creative Intelligence Box Plot\n",
    "\n",
    "merged_df2low = df_prob_h.loc[df_prob_h['Probability'] <= 0.33].assign(Location=\"Low\")\n",
    "merged_df2medium = df_prob_h.loc[(df_prob_h['Probability'] > 0.33) & \n",
    "                                 (df_prob_h['Probability'] <= 0.66)].assign(Location=\"Medium\")\n",
    "merged_df2high = df_prob_h.loc[df_prob_h['Probability'] > 0.66].assign(Location=\"High\")\n",
    "\n",
    "allValues = [merged_df2low, merged_df2medium, merged_df2high]\n",
    "allMerged = pd.concat(allValues)\n",
    "\n",
    "plt.figure(figsize=(8,8))\n",
    "cdf = pd.concat([merged_df2low, merged_df2medium, merged_df2high]) \n",
    "ax = sns.boxplot(x=\"Location\", y='Creative_Intelligence', data=cdf)\n",
    "ax.set(title='Job Automation Likelihood vs. Creative Intelligence Importance',xlabel='Job Automation Likelihood', \n",
    "       ylabel='Creative Intelligence Importance')\n",
    "\n",
    "plt.show()\n",
    "merged_df2high.shape"
   ]
  },
  {
   "cell_type": "code",
   "execution_count": null,
   "metadata": {},
   "outputs": [],
   "source": [
    "#Social Intelligence Box Plot\n",
    "\n",
    "merged_df3low = df_prob_h.loc[df_prob_h['Probability'] <= 0.33].assign(Location=\"Low\")\n",
    "merged_df3medium = df_prob_h.loc[(df_prob_h['Probability'] > 0.33) & \n",
    "                                 (df_prob_h['Probability'] <= 0.66)].assign(Location=\"Medium\")\n",
    "merged_df3high = df_prob_h.loc[df_prob_h['Probability'] > 0.66].assign(Location=\"High\")\n",
    "\n",
    "allValues = [merged_df3low, merged_df3medium, merged_df3high]\n",
    "allMerged = pd.concat(allValues)\n",
    "\n",
    "plt.figure(figsize=(8,8))\n",
    "cdf = pd.concat([merged_df3low, merged_df3medium, merged_df3high]) \n",
    "ax = sns.boxplot(x=\"Location\", y=\"Social_Intelligence\", data=cdf)\n",
    "ax.set(title='Job Automation Likelihood vs. Social Intelligence Importance',xlabel='Job Automation Likelihood', \n",
    "       ylabel='Social Intelligence Importance')\n",
    "\n",
    "plt.show()\n",
    "merged_df3high.shape"
   ]
  },
  {
   "cell_type": "markdown",
   "metadata": {},
   "source": [
    "**What were the results?**\n",
    "\n",
    "**What were your interpretations of these findings?**"
   ]
  },
  {
   "cell_type": "markdown",
   "metadata": {},
   "source": [
    "# Ethics & Privacy"
   ]
  },
  {
   "cell_type": "markdown",
   "metadata": {},
   "source": [
    "All of our datasets have been provided by publicly available sources such as data.world, The Bureau of Labor Statistics, or other US Government agencies. Since these data are being provided to the public, we anticipate no restrictions in using it for the purpose of this project. Additionally, no restrictions have been posted for the datasets we are accessing. Much of the data we are using is provided by state or federal governments, which is required by law to provide strong protection for the data that are available to the public. For the data sources that are not guaranteed to do this, we will provide privacy by anonymizing any potentially personal identifiable information. However, we do not anticipate this being an issue, as all the data collected are aggregates that don’t include any potentially personal identifiable information. Occupations with less than 1,000 employees in a certain state were removed from our data.\n",
    "\n",
    "One of our dataset sources, data.world, consists of contributors of various backgrounds and experience levels. This increases the potential for bias, since there is no way of confirming whether the presentation of the data is biased towards fulfilling the contributor’s needs. The user has the option of viewing the contributor’s Kaggle profile and their LinkedIn profiles, but the amount of information that is provided to the user is controlled by the contributor themselves. If we utilize the provided information to confirm the legitimacy of the contributor’s data, we can decrease the chance of potential bias. For our other data source, data.gov, there is a smaller potential of bias given the fact that it is a government source. While we cannot assume that government sources are entirely free of bias, we can assume that it is more of a fair source than non-government sources. Government sources are supposed to be free of affiliation to political parties, which is why we can assume that the data presented has relatively low levels of bias.\n",
    "\n",
    "A potential ethical concern we have considered is data misinformation/misinterpretation. If an individual comes across our analysis without the understanding that this data relies partly on probability instead of concrete metrics, and that this analysis was not conducted by professional Data Scientists, it might lead to the unnecessary spread of fear that one might lose their job to automation, or further contribute to data misinterpretation."
   ]
  },
  {
   "cell_type": "markdown",
   "metadata": {},
   "source": [
    "# Conclusion & Discussion"
   ]
  },
  {
   "cell_type": "markdown",
   "metadata": {},
   "source": [
    "*Fill in your discussion information here*"
   ]
  },
  {
   "cell_type": "markdown",
   "metadata": {},
   "source": [
    "# Team Contributions"
   ]
  },
  {
   "cell_type": "markdown",
   "metadata": {},
   "source": [
    "*Specify who in your group worked on which parts of the project.*\n",
    "\n",
    "Michael:\n",
    "- Setup/cleaning/eda/analysis/viz:\n",
    "    - Employment by Automation\n",
    "    - Wage by Occupation\n",
    "    - Employment & Automation by State\n",
    "- Datasets 1-4\n",
    "- Ethics & Privacy \n",
    "- Prior Work & Hypothesis\n",
    "- Overview\n",
    "\n",
    "Kiran:\n",
    "- Setup/cleaning/eda/analysis/viz:\n",
    "    - Gross Average Unemployment vs. Income United States\n",
    "    - Wage by State Income Change\n",
    "    - Analysis of Automation by State vs. Income Change per State\n",
    "        - Used Michael's code for automation probability generation \n",
    "- Datasets 5-8\n",
    "- Ethics & Privacy \n",
    "- Code for boxplots used throughout project\n",
    "\n",
    "Hannah:\n",
    "- Datasets for job skills (9 in total)\n",
    "    - Collected and Data cleaning\n",
    "    - EDA\n",
    "        - Created categories for job skills\n",
    "    - Job skillset analysis and visualization\n",
    "        - Used Kiran's box plot code\n",
    "    - Data analysis w/ Griffin\n",
    "    \n",
    "Griffin:"
   ]
  }
 ],
 "metadata": {
  "kernelspec": {
   "display_name": "Python 3",
   "language": "python",
   "name": "python3"
  },
  "language_info": {
   "codemirror_mode": {
    "name": "ipython",
    "version": 3
   },
   "file_extension": ".py",
   "mimetype": "text/x-python",
   "name": "python",
   "nbconvert_exporter": "python",
   "pygments_lexer": "ipython3",
   "version": "3.7.6"
  }
 },
 "nbformat": 4,
 "nbformat_minor": 4
}
